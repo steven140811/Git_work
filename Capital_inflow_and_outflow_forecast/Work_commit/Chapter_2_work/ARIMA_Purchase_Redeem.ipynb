{
 "cells": [
  {
   "cell_type": "markdown",
   "metadata": {},
   "source": [
    "## 解决方案思路\n",
    "* 赛题要求是资金的流入流出预测，即申购和赎回的预测，所以基于最基本的total_purchase_amt、total_redeem_amt字段进行预测\n",
    "* 方法1：采用时间序列进行预测\n",
    "    * Step1，平稳性检测 adfuller\n",
    "    * Step2，采用 ARIMA模型\n",
    "    * Step3，模型训练集与预测\n",
    "* 方法2：基于时序规则的挖掘\n",
    "    * Step1，获得周期因子（weekday）\n",
    "    * Step2，计算base\n",
    "    * Step3，使用base * 周期因子进行预测\n",
    "* 方法3：基于方法1和方法2的结果进行融合"
   ]
  },
  {
   "cell_type": "code",
   "execution_count": 1,
   "metadata": {},
   "outputs": [
    {
     "data": {
      "text/html": [
       "<div>\n",
       "<style scoped>\n",
       "    .dataframe tbody tr th:only-of-type {\n",
       "        vertical-align: middle;\n",
       "    }\n",
       "\n",
       "    .dataframe tbody tr th {\n",
       "        vertical-align: top;\n",
       "    }\n",
       "\n",
       "    .dataframe thead th {\n",
       "        text-align: right;\n",
       "    }\n",
       "</style>\n",
       "<table border=\"1\" class=\"dataframe\">\n",
       "  <thead>\n",
       "    <tr style=\"text-align: right;\">\n",
       "      <th></th>\n",
       "      <th>user_id</th>\n",
       "      <th>report_date</th>\n",
       "      <th>tBalance</th>\n",
       "      <th>yBalance</th>\n",
       "      <th>total_purchase_amt</th>\n",
       "      <th>direct_purchase_amt</th>\n",
       "      <th>purchase_bal_amt</th>\n",
       "      <th>purchase_bank_amt</th>\n",
       "      <th>total_redeem_amt</th>\n",
       "      <th>consume_amt</th>\n",
       "      <th>transfer_amt</th>\n",
       "      <th>tftobal_amt</th>\n",
       "      <th>tftocard_amt</th>\n",
       "      <th>share_amt</th>\n",
       "      <th>category1</th>\n",
       "      <th>category2</th>\n",
       "      <th>category3</th>\n",
       "      <th>category4</th>\n",
       "    </tr>\n",
       "  </thead>\n",
       "  <tbody>\n",
       "    <tr>\n",
       "      <th>0</th>\n",
       "      <td>1</td>\n",
       "      <td>2014-08-05</td>\n",
       "      <td>20385</td>\n",
       "      <td>20383</td>\n",
       "      <td>2</td>\n",
       "      <td>0</td>\n",
       "      <td>0</td>\n",
       "      <td>0</td>\n",
       "      <td>0</td>\n",
       "      <td>0</td>\n",
       "      <td>0</td>\n",
       "      <td>0</td>\n",
       "      <td>0</td>\n",
       "      <td>2</td>\n",
       "      <td>NaN</td>\n",
       "      <td>NaN</td>\n",
       "      <td>NaN</td>\n",
       "      <td>NaN</td>\n",
       "    </tr>\n",
       "    <tr>\n",
       "      <th>1</th>\n",
       "      <td>1</td>\n",
       "      <td>2014-08-08</td>\n",
       "      <td>20391</td>\n",
       "      <td>20389</td>\n",
       "      <td>2</td>\n",
       "      <td>0</td>\n",
       "      <td>0</td>\n",
       "      <td>0</td>\n",
       "      <td>0</td>\n",
       "      <td>0</td>\n",
       "      <td>0</td>\n",
       "      <td>0</td>\n",
       "      <td>0</td>\n",
       "      <td>2</td>\n",
       "      <td>NaN</td>\n",
       "      <td>NaN</td>\n",
       "      <td>NaN</td>\n",
       "      <td>NaN</td>\n",
       "    </tr>\n",
       "    <tr>\n",
       "      <th>2</th>\n",
       "      <td>1</td>\n",
       "      <td>2014-08-11</td>\n",
       "      <td>20397</td>\n",
       "      <td>20395</td>\n",
       "      <td>2</td>\n",
       "      <td>0</td>\n",
       "      <td>0</td>\n",
       "      <td>0</td>\n",
       "      <td>0</td>\n",
       "      <td>0</td>\n",
       "      <td>0</td>\n",
       "      <td>0</td>\n",
       "      <td>0</td>\n",
       "      <td>2</td>\n",
       "      <td>NaN</td>\n",
       "      <td>NaN</td>\n",
       "      <td>NaN</td>\n",
       "      <td>NaN</td>\n",
       "    </tr>\n",
       "    <tr>\n",
       "      <th>3</th>\n",
       "      <td>1</td>\n",
       "      <td>2014-08-14</td>\n",
       "      <td>20403</td>\n",
       "      <td>20401</td>\n",
       "      <td>2</td>\n",
       "      <td>0</td>\n",
       "      <td>0</td>\n",
       "      <td>0</td>\n",
       "      <td>0</td>\n",
       "      <td>0</td>\n",
       "      <td>0</td>\n",
       "      <td>0</td>\n",
       "      <td>0</td>\n",
       "      <td>2</td>\n",
       "      <td>NaN</td>\n",
       "      <td>NaN</td>\n",
       "      <td>NaN</td>\n",
       "      <td>NaN</td>\n",
       "    </tr>\n",
       "    <tr>\n",
       "      <th>4</th>\n",
       "      <td>1</td>\n",
       "      <td>2014-08-17</td>\n",
       "      <td>20409</td>\n",
       "      <td>20407</td>\n",
       "      <td>2</td>\n",
       "      <td>0</td>\n",
       "      <td>0</td>\n",
       "      <td>0</td>\n",
       "      <td>0</td>\n",
       "      <td>0</td>\n",
       "      <td>0</td>\n",
       "      <td>0</td>\n",
       "      <td>0</td>\n",
       "      <td>2</td>\n",
       "      <td>NaN</td>\n",
       "      <td>NaN</td>\n",
       "      <td>NaN</td>\n",
       "      <td>NaN</td>\n",
       "    </tr>\n",
       "    <tr>\n",
       "      <th>...</th>\n",
       "      <td>...</td>\n",
       "      <td>...</td>\n",
       "      <td>...</td>\n",
       "      <td>...</td>\n",
       "      <td>...</td>\n",
       "      <td>...</td>\n",
       "      <td>...</td>\n",
       "      <td>...</td>\n",
       "      <td>...</td>\n",
       "      <td>...</td>\n",
       "      <td>...</td>\n",
       "      <td>...</td>\n",
       "      <td>...</td>\n",
       "      <td>...</td>\n",
       "      <td>...</td>\n",
       "      <td>...</td>\n",
       "      <td>...</td>\n",
       "      <td>...</td>\n",
       "    </tr>\n",
       "    <tr>\n",
       "      <th>2840416</th>\n",
       "      <td>28033</td>\n",
       "      <td>2014-08-25</td>\n",
       "      <td>550646</td>\n",
       "      <td>550585</td>\n",
       "      <td>61</td>\n",
       "      <td>0</td>\n",
       "      <td>0</td>\n",
       "      <td>0</td>\n",
       "      <td>0</td>\n",
       "      <td>0</td>\n",
       "      <td>0</td>\n",
       "      <td>0</td>\n",
       "      <td>0</td>\n",
       "      <td>61</td>\n",
       "      <td>NaN</td>\n",
       "      <td>NaN</td>\n",
       "      <td>NaN</td>\n",
       "      <td>NaN</td>\n",
       "    </tr>\n",
       "    <tr>\n",
       "      <th>2840417</th>\n",
       "      <td>28033</td>\n",
       "      <td>2014-08-31</td>\n",
       "      <td>525707</td>\n",
       "      <td>538147</td>\n",
       "      <td>60</td>\n",
       "      <td>0</td>\n",
       "      <td>0</td>\n",
       "      <td>0</td>\n",
       "      <td>12500</td>\n",
       "      <td>12500</td>\n",
       "      <td>0</td>\n",
       "      <td>0</td>\n",
       "      <td>0</td>\n",
       "      <td>60</td>\n",
       "      <td>0.0</td>\n",
       "      <td>0.0</td>\n",
       "      <td>0.0</td>\n",
       "      <td>12500.0</td>\n",
       "    </tr>\n",
       "    <tr>\n",
       "      <th>2840418</th>\n",
       "      <td>28033</td>\n",
       "      <td>2014-07-24</td>\n",
       "      <td>20487121</td>\n",
       "      <td>20484824</td>\n",
       "      <td>2297</td>\n",
       "      <td>0</td>\n",
       "      <td>0</td>\n",
       "      <td>0</td>\n",
       "      <td>0</td>\n",
       "      <td>0</td>\n",
       "      <td>0</td>\n",
       "      <td>0</td>\n",
       "      <td>0</td>\n",
       "      <td>2297</td>\n",
       "      <td>NaN</td>\n",
       "      <td>NaN</td>\n",
       "      <td>NaN</td>\n",
       "      <td>NaN</td>\n",
       "    </tr>\n",
       "    <tr>\n",
       "      <th>2840419</th>\n",
       "      <td>28033</td>\n",
       "      <td>2014-07-27</td>\n",
       "      <td>20462288</td>\n",
       "      <td>20491722</td>\n",
       "      <td>2298</td>\n",
       "      <td>0</td>\n",
       "      <td>0</td>\n",
       "      <td>0</td>\n",
       "      <td>31732</td>\n",
       "      <td>0</td>\n",
       "      <td>31732</td>\n",
       "      <td>0</td>\n",
       "      <td>31732</td>\n",
       "      <td>2298</td>\n",
       "      <td>NaN</td>\n",
       "      <td>NaN</td>\n",
       "      <td>NaN</td>\n",
       "      <td>NaN</td>\n",
       "    </tr>\n",
       "    <tr>\n",
       "      <th>2840420</th>\n",
       "      <td>28035</td>\n",
       "      <td>2014-03-05</td>\n",
       "      <td>0</td>\n",
       "      <td>0</td>\n",
       "      <td>0</td>\n",
       "      <td>0</td>\n",
       "      <td>0</td>\n",
       "      <td>0</td>\n",
       "      <td>0</td>\n",
       "      <td>0</td>\n",
       "      <td>0</td>\n",
       "      <td>0</td>\n",
       "      <td>0</td>\n",
       "      <td>0</td>\n",
       "      <td>NaN</td>\n",
       "      <td>NaN</td>\n",
       "      <td>NaN</td>\n",
       "      <td>NaN</td>\n",
       "    </tr>\n",
       "  </tbody>\n",
       "</table>\n",
       "<p>2840421 rows × 18 columns</p>\n",
       "</div>"
      ],
      "text/plain": [
       "         user_id report_date  tBalance  yBalance  total_purchase_amt  \\\n",
       "0              1  2014-08-05     20385     20383                   2   \n",
       "1              1  2014-08-08     20391     20389                   2   \n",
       "2              1  2014-08-11     20397     20395                   2   \n",
       "3              1  2014-08-14     20403     20401                   2   \n",
       "4              1  2014-08-17     20409     20407                   2   \n",
       "...          ...         ...       ...       ...                 ...   \n",
       "2840416    28033  2014-08-25    550646    550585                  61   \n",
       "2840417    28033  2014-08-31    525707    538147                  60   \n",
       "2840418    28033  2014-07-24  20487121  20484824                2297   \n",
       "2840419    28033  2014-07-27  20462288  20491722                2298   \n",
       "2840420    28035  2014-03-05         0         0                   0   \n",
       "\n",
       "         direct_purchase_amt  purchase_bal_amt  purchase_bank_amt  \\\n",
       "0                          0                 0                  0   \n",
       "1                          0                 0                  0   \n",
       "2                          0                 0                  0   \n",
       "3                          0                 0                  0   \n",
       "4                          0                 0                  0   \n",
       "...                      ...               ...                ...   \n",
       "2840416                    0                 0                  0   \n",
       "2840417                    0                 0                  0   \n",
       "2840418                    0                 0                  0   \n",
       "2840419                    0                 0                  0   \n",
       "2840420                    0                 0                  0   \n",
       "\n",
       "         total_redeem_amt  consume_amt  transfer_amt  tftobal_amt  \\\n",
       "0                       0            0             0            0   \n",
       "1                       0            0             0            0   \n",
       "2                       0            0             0            0   \n",
       "3                       0            0             0            0   \n",
       "4                       0            0             0            0   \n",
       "...                   ...          ...           ...          ...   \n",
       "2840416                 0            0             0            0   \n",
       "2840417             12500        12500             0            0   \n",
       "2840418                 0            0             0            0   \n",
       "2840419             31732            0         31732            0   \n",
       "2840420                 0            0             0            0   \n",
       "\n",
       "         tftocard_amt  share_amt  category1  category2  category3  category4  \n",
       "0                   0          2        NaN        NaN        NaN        NaN  \n",
       "1                   0          2        NaN        NaN        NaN        NaN  \n",
       "2                   0          2        NaN        NaN        NaN        NaN  \n",
       "3                   0          2        NaN        NaN        NaN        NaN  \n",
       "4                   0          2        NaN        NaN        NaN        NaN  \n",
       "...               ...        ...        ...        ...        ...        ...  \n",
       "2840416             0         61        NaN        NaN        NaN        NaN  \n",
       "2840417             0         60        0.0        0.0        0.0    12500.0  \n",
       "2840418             0       2297        NaN        NaN        NaN        NaN  \n",
       "2840419         31732       2298        NaN        NaN        NaN        NaN  \n",
       "2840420             0          0        NaN        NaN        NaN        NaN  \n",
       "\n",
       "[2840421 rows x 18 columns]"
      ]
     },
     "execution_count": 1,
     "metadata": {},
     "output_type": "execute_result"
    }
   ],
   "source": [
    "import pandas as pd\n",
    "\n",
    "#数据加载\n",
    "data = pd.read_csv('./user_balance_table.csv', parse_dates=['report_date'])\n",
    "data"
   ]
  },
  {
   "cell_type": "code",
   "execution_count": 2,
   "metadata": {},
   "outputs": [
    {
     "name": "stdout",
     "output_type": "stream",
     "text": [
      "<class 'pandas.core.frame.DataFrame'>\n",
      "RangeIndex: 2840421 entries, 0 to 2840420\n",
      "Data columns (total 18 columns):\n",
      " #   Column               Dtype         \n",
      "---  ------               -----         \n",
      " 0   user_id              int64         \n",
      " 1   report_date          datetime64[ns]\n",
      " 2   tBalance             int64         \n",
      " 3   yBalance             int64         \n",
      " 4   total_purchase_amt   int64         \n",
      " 5   direct_purchase_amt  int64         \n",
      " 6   purchase_bal_amt     int64         \n",
      " 7   purchase_bank_amt    int64         \n",
      " 8   total_redeem_amt     int64         \n",
      " 9   consume_amt          int64         \n",
      " 10  transfer_amt         int64         \n",
      " 11  tftobal_amt          int64         \n",
      " 12  tftocard_amt         int64         \n",
      " 13  share_amt            int64         \n",
      " 14  category1            float64       \n",
      " 15  category2            float64       \n",
      " 16  category3            float64       \n",
      " 17  category4            float64       \n",
      "dtypes: datetime64[ns](1), float64(4), int64(13)\n",
      "memory usage: 390.1 MB\n"
     ]
    }
   ],
   "source": [
    "data.info()"
   ]
  },
  {
   "cell_type": "code",
   "execution_count": 3,
   "metadata": {},
   "outputs": [
    {
     "name": "stderr",
     "output_type": "stream",
     "text": [
      "C:\\Users\\admin\\Anaconda3\\lib\\site-packages\\ipykernel_launcher.py:1: FutureWarning: Indexing with multiple keys (implicitly converted to a tuple of keys) will be deprecated, use a list instead.\n",
      "  \"\"\"Entry point for launching an IPython kernel.\n"
     ]
    },
    {
     "data": {
      "text/html": [
       "<div>\n",
       "<style scoped>\n",
       "    .dataframe tbody tr th:only-of-type {\n",
       "        vertical-align: middle;\n",
       "    }\n",
       "\n",
       "    .dataframe tbody tr th {\n",
       "        vertical-align: top;\n",
       "    }\n",
       "\n",
       "    .dataframe thead th {\n",
       "        text-align: right;\n",
       "    }\n",
       "</style>\n",
       "<table border=\"1\" class=\"dataframe\">\n",
       "  <thead>\n",
       "    <tr style=\"text-align: right;\">\n",
       "      <th></th>\n",
       "      <th>total_purchase_amt</th>\n",
       "      <th>total_redeem_amt</th>\n",
       "    </tr>\n",
       "    <tr>\n",
       "      <th>report_date</th>\n",
       "      <th></th>\n",
       "      <th></th>\n",
       "    </tr>\n",
       "  </thead>\n",
       "  <tbody>\n",
       "    <tr>\n",
       "      <th>2013-07-01</th>\n",
       "      <td>32488348</td>\n",
       "      <td>5525022</td>\n",
       "    </tr>\n",
       "    <tr>\n",
       "      <th>2013-07-02</th>\n",
       "      <td>29037390</td>\n",
       "      <td>2554548</td>\n",
       "    </tr>\n",
       "    <tr>\n",
       "      <th>2013-07-03</th>\n",
       "      <td>27270770</td>\n",
       "      <td>5953867</td>\n",
       "    </tr>\n",
       "    <tr>\n",
       "      <th>2013-07-04</th>\n",
       "      <td>18321185</td>\n",
       "      <td>6410729</td>\n",
       "    </tr>\n",
       "    <tr>\n",
       "      <th>2013-07-05</th>\n",
       "      <td>11648749</td>\n",
       "      <td>2763587</td>\n",
       "    </tr>\n",
       "    <tr>\n",
       "      <th>...</th>\n",
       "      <td>...</td>\n",
       "      <td>...</td>\n",
       "    </tr>\n",
       "    <tr>\n",
       "      <th>2014-08-27</th>\n",
       "      <td>302194801</td>\n",
       "      <td>468164147</td>\n",
       "    </tr>\n",
       "    <tr>\n",
       "      <th>2014-08-28</th>\n",
       "      <td>245082751</td>\n",
       "      <td>297893861</td>\n",
       "    </tr>\n",
       "    <tr>\n",
       "      <th>2014-08-29</th>\n",
       "      <td>267554713</td>\n",
       "      <td>273756380</td>\n",
       "    </tr>\n",
       "    <tr>\n",
       "      <th>2014-08-30</th>\n",
       "      <td>199708772</td>\n",
       "      <td>196374134</td>\n",
       "    </tr>\n",
       "    <tr>\n",
       "      <th>2014-08-31</th>\n",
       "      <td>275090213</td>\n",
       "      <td>292943033</td>\n",
       "    </tr>\n",
       "  </tbody>\n",
       "</table>\n",
       "<p>427 rows × 2 columns</p>\n",
       "</div>"
      ],
      "text/plain": [
       "             total_purchase_amt  total_redeem_amt\n",
       "report_date                                      \n",
       "2013-07-01             32488348           5525022\n",
       "2013-07-02             29037390           2554548\n",
       "2013-07-03             27270770           5953867\n",
       "2013-07-04             18321185           6410729\n",
       "2013-07-05             11648749           2763587\n",
       "...                         ...               ...\n",
       "2014-08-27            302194801         468164147\n",
       "2014-08-28            245082751         297893861\n",
       "2014-08-29            267554713         273756380\n",
       "2014-08-30            199708772         196374134\n",
       "2014-08-31            275090213         292943033\n",
       "\n",
       "[427 rows x 2 columns]"
      ]
     },
     "execution_count": 3,
     "metadata": {},
     "output_type": "execute_result"
    }
   ],
   "source": [
    "total_balance = data.groupby(['report_date'])['total_purchase_amt','total_redeem_amt'].sum()\n",
    "total_balance"
   ]
  },
  {
   "cell_type": "code",
   "execution_count": 4,
   "metadata": {},
   "outputs": [],
   "source": [
    "purchase = total_balance[['total_purchase_amt']]\n",
    "redeem = total_balance[['total_redeem_amt']]"
   ]
  },
  {
   "cell_type": "code",
   "execution_count": 5,
   "metadata": {},
   "outputs": [
    {
     "data": {
      "text/html": [
       "<div>\n",
       "<style scoped>\n",
       "    .dataframe tbody tr th:only-of-type {\n",
       "        vertical-align: middle;\n",
       "    }\n",
       "\n",
       "    .dataframe tbody tr th {\n",
       "        vertical-align: top;\n",
       "    }\n",
       "\n",
       "    .dataframe thead th {\n",
       "        text-align: right;\n",
       "    }\n",
       "</style>\n",
       "<table border=\"1\" class=\"dataframe\">\n",
       "  <thead>\n",
       "    <tr style=\"text-align: right;\">\n",
       "      <th></th>\n",
       "      <th>total_redeem_amt</th>\n",
       "    </tr>\n",
       "    <tr>\n",
       "      <th>report_date</th>\n",
       "      <th></th>\n",
       "    </tr>\n",
       "  </thead>\n",
       "  <tbody>\n",
       "    <tr>\n",
       "      <th>2013-07-01</th>\n",
       "      <td>5525022</td>\n",
       "    </tr>\n",
       "    <tr>\n",
       "      <th>2013-07-02</th>\n",
       "      <td>2554548</td>\n",
       "    </tr>\n",
       "    <tr>\n",
       "      <th>2013-07-03</th>\n",
       "      <td>5953867</td>\n",
       "    </tr>\n",
       "    <tr>\n",
       "      <th>2013-07-04</th>\n",
       "      <td>6410729</td>\n",
       "    </tr>\n",
       "    <tr>\n",
       "      <th>2013-07-05</th>\n",
       "      <td>2763587</td>\n",
       "    </tr>\n",
       "    <tr>\n",
       "      <th>...</th>\n",
       "      <td>...</td>\n",
       "    </tr>\n",
       "    <tr>\n",
       "      <th>2014-08-27</th>\n",
       "      <td>468164147</td>\n",
       "    </tr>\n",
       "    <tr>\n",
       "      <th>2014-08-28</th>\n",
       "      <td>297893861</td>\n",
       "    </tr>\n",
       "    <tr>\n",
       "      <th>2014-08-29</th>\n",
       "      <td>273756380</td>\n",
       "    </tr>\n",
       "    <tr>\n",
       "      <th>2014-08-30</th>\n",
       "      <td>196374134</td>\n",
       "    </tr>\n",
       "    <tr>\n",
       "      <th>2014-08-31</th>\n",
       "      <td>292943033</td>\n",
       "    </tr>\n",
       "  </tbody>\n",
       "</table>\n",
       "<p>427 rows × 1 columns</p>\n",
       "</div>"
      ],
      "text/plain": [
       "             total_redeem_amt\n",
       "report_date                  \n",
       "2013-07-01            5525022\n",
       "2013-07-02            2554548\n",
       "2013-07-03            5953867\n",
       "2013-07-04            6410729\n",
       "2013-07-05            2763587\n",
       "...                       ...\n",
       "2014-08-27          468164147\n",
       "2014-08-28          297893861\n",
       "2014-08-29          273756380\n",
       "2014-08-30          196374134\n",
       "2014-08-31          292943033\n",
       "\n",
       "[427 rows x 1 columns]"
      ]
     },
     "execution_count": 5,
     "metadata": {},
     "output_type": "execute_result"
    }
   ],
   "source": [
    "redeem"
   ]
  },
  {
   "cell_type": "code",
   "execution_count": 6,
   "metadata": {},
   "outputs": [
    {
     "name": "stderr",
     "output_type": "stream",
     "text": [
      "C:\\Users\\admin\\AppData\\Roaming\\Python\\Python36\\site-packages\\matplotlib\\backends\\backend_agg.py:214: RuntimeWarning: Glyph 8722 missing from current font.\n",
      "  font.set_text(s, 0.0, flags=flags)\n",
      "C:\\Users\\admin\\AppData\\Roaming\\Python\\Python36\\site-packages\\matplotlib\\backends\\backend_agg.py:183: RuntimeWarning: Glyph 8722 missing from current font.\n",
      "  font.set_text(s, 0, flags=flags)\n"
     ]
    },
    {
     "data": {
      "image/png": "[encoded data removed]",
      "text/plain": [
       "<Figure size 864x576 with 3 Axes>"
      ]
     },
     "metadata": {
      "needs_background": "light"
     },
     "output_type": "display_data"
    }
   ],
   "source": [
    "import matplotlib.pyplot as plt\n",
    "import statsmodels.api as sm\n",
    "\n",
    "# 对指定区间范围内的数据可视化\n",
    "def plot_stl(data):\n",
    "    #STL返回三个部分 trend（趋势） seasonal（季节） residual（残差）\n",
    "    result = sm.tsa.seasonal_decompose(data, period=30)\n",
    "    #可视化\n",
    "    fig = plt.figure(figsize=(12,8))\n",
    "    ax1 = fig.add_subplot(311)\n",
    "    ax2 = fig.add_subplot(312)\n",
    "    ax3 = fig.add_subplot(313)\n",
    "    \n",
    "    result.trend.plot(ax=ax1,title='Trend')\n",
    "    result.seasonal.plot(ax=ax2,title='Seasonal')\n",
    "    result.resid.plot(ax=ax3,title='Residual')\n",
    "    \n",
    "plot_stl(purchase.total_purchase_amt)"
   ]
  },
  {
   "cell_type": "markdown",
   "metadata": {},
   "source": [
    "通过Trend图可以看出从三月份之后数据趋于稳定，所以可以去三月份之后的数据进行arima预测"
   ]
  },
  {
   "cell_type": "code",
   "execution_count": 7,
   "metadata": {},
   "outputs": [
    {
     "data": {
      "text/html": [
       "<div>\n",
       "<style scoped>\n",
       "    .dataframe tbody tr th:only-of-type {\n",
       "        vertical-align: middle;\n",
       "    }\n",
       "\n",
       "    .dataframe tbody tr th {\n",
       "        vertical-align: top;\n",
       "    }\n",
       "\n",
       "    .dataframe thead th {\n",
       "        text-align: right;\n",
       "    }\n",
       "</style>\n",
       "<table border=\"1\" class=\"dataframe\">\n",
       "  <thead>\n",
       "    <tr style=\"text-align: right;\">\n",
       "      <th></th>\n",
       "      <th>total_purchase_amt</th>\n",
       "    </tr>\n",
       "    <tr>\n",
       "      <th>report_date</th>\n",
       "      <th></th>\n",
       "    </tr>\n",
       "  </thead>\n",
       "  <tbody>\n",
       "    <tr>\n",
       "      <th>2014-04-01</th>\n",
       "      <td>453320585</td>\n",
       "    </tr>\n",
       "    <tr>\n",
       "      <th>2014-04-02</th>\n",
       "      <td>355347118</td>\n",
       "    </tr>\n",
       "    <tr>\n",
       "      <th>2014-04-03</th>\n",
       "      <td>363877120</td>\n",
       "    </tr>\n",
       "    <tr>\n",
       "      <th>2014-04-04</th>\n",
       "      <td>251895894</td>\n",
       "    </tr>\n",
       "    <tr>\n",
       "      <th>2014-04-05</th>\n",
       "      <td>202336542</td>\n",
       "    </tr>\n",
       "    <tr>\n",
       "      <th>2014-04-06</th>\n",
       "      <td>129477254</td>\n",
       "    </tr>\n",
       "    <tr>\n",
       "      <th>2014-04-07</th>\n",
       "      <td>196936223</td>\n",
       "    </tr>\n",
       "    <tr>\n",
       "      <th>2014-04-08</th>\n",
       "      <td>354770149</td>\n",
       "    </tr>\n",
       "    <tr>\n",
       "      <th>2014-04-09</th>\n",
       "      <td>383347565</td>\n",
       "    </tr>\n",
       "    <tr>\n",
       "      <th>2014-04-10</th>\n",
       "      <td>386567460</td>\n",
       "    </tr>\n",
       "    <tr>\n",
       "      <th>2014-04-11</th>\n",
       "      <td>237829882</td>\n",
       "    </tr>\n",
       "    <tr>\n",
       "      <th>2014-04-12</th>\n",
       "      <td>177642053</td>\n",
       "    </tr>\n",
       "    <tr>\n",
       "      <th>2014-04-13</th>\n",
       "      <td>208172985</td>\n",
       "    </tr>\n",
       "    <tr>\n",
       "      <th>2014-04-14</th>\n",
       "      <td>309853269</td>\n",
       "    </tr>\n",
       "    <tr>\n",
       "      <th>2014-04-15</th>\n",
       "      <td>428681231</td>\n",
       "    </tr>\n",
       "    <tr>\n",
       "      <th>2014-04-16</th>\n",
       "      <td>387847838</td>\n",
       "    </tr>\n",
       "    <tr>\n",
       "      <th>2014-04-17</th>\n",
       "      <td>355792647</td>\n",
       "    </tr>\n",
       "    <tr>\n",
       "      <th>2014-04-18</th>\n",
       "      <td>239300383</td>\n",
       "    </tr>\n",
       "    <tr>\n",
       "      <th>2014-04-19</th>\n",
       "      <td>268729366</td>\n",
       "    </tr>\n",
       "    <tr>\n",
       "      <th>2014-04-20</th>\n",
       "      <td>191259529</td>\n",
       "    </tr>\n",
       "    <tr>\n",
       "      <th>2014-04-21</th>\n",
       "      <td>301134667</td>\n",
       "    </tr>\n",
       "    <tr>\n",
       "      <th>2014-04-22</th>\n",
       "      <td>285248757</td>\n",
       "    </tr>\n",
       "    <tr>\n",
       "      <th>2014-04-23</th>\n",
       "      <td>313677307</td>\n",
       "    </tr>\n",
       "    <tr>\n",
       "      <th>2014-04-24</th>\n",
       "      <td>318358891</td>\n",
       "    </tr>\n",
       "    <tr>\n",
       "      <th>2014-04-25</th>\n",
       "      <td>220927432</td>\n",
       "    </tr>\n",
       "    <tr>\n",
       "      <th>2014-04-26</th>\n",
       "      <td>151625415</td>\n",
       "    </tr>\n",
       "    <tr>\n",
       "      <th>2014-04-27</th>\n",
       "      <td>146837951</td>\n",
       "    </tr>\n",
       "    <tr>\n",
       "      <th>2014-04-28</th>\n",
       "      <td>324937272</td>\n",
       "    </tr>\n",
       "    <tr>\n",
       "      <th>2014-04-29</th>\n",
       "      <td>330607104</td>\n",
       "    </tr>\n",
       "    <tr>\n",
       "      <th>2014-04-30</th>\n",
       "      <td>260091330</td>\n",
       "    </tr>\n",
       "    <tr>\n",
       "      <th>2014-05-01</th>\n",
       "      <td>193045106</td>\n",
       "    </tr>\n",
       "    <tr>\n",
       "      <th>2014-05-02</th>\n",
       "      <td>125336258</td>\n",
       "    </tr>\n",
       "    <tr>\n",
       "      <th>2014-05-03</th>\n",
       "      <td>185094488</td>\n",
       "    </tr>\n",
       "    <tr>\n",
       "      <th>2014-05-04</th>\n",
       "      <td>303087562</td>\n",
       "    </tr>\n",
       "    <tr>\n",
       "      <th>2014-05-05</th>\n",
       "      <td>370924149</td>\n",
       "    </tr>\n",
       "    <tr>\n",
       "      <th>2014-05-06</th>\n",
       "      <td>318002728</td>\n",
       "    </tr>\n",
       "    <tr>\n",
       "      <th>2014-05-07</th>\n",
       "      <td>417327518</td>\n",
       "    </tr>\n",
       "  </tbody>\n",
       "</table>\n",
       "</div>"
      ],
      "text/plain": [
       "             total_purchase_amt\n",
       "report_date                    \n",
       "2014-04-01            453320585\n",
       "2014-04-02            355347118\n",
       "2014-04-03            363877120\n",
       "2014-04-04            251895894\n",
       "2014-04-05            202336542\n",
       "2014-04-06            129477254\n",
       "2014-04-07            196936223\n",
       "2014-04-08            354770149\n",
       "2014-04-09            383347565\n",
       "2014-04-10            386567460\n",
       "2014-04-11            237829882\n",
       "2014-04-12            177642053\n",
       "2014-04-13            208172985\n",
       "2014-04-14            309853269\n",
       "2014-04-15            428681231\n",
       "2014-04-16            387847838\n",
       "2014-04-17            355792647\n",
       "2014-04-18            239300383\n",
       "2014-04-19            268729366\n",
       "2014-04-20            191259529\n",
       "2014-04-21            301134667\n",
       "2014-04-22            285248757\n",
       "2014-04-23            313677307\n",
       "2014-04-24            318358891\n",
       "2014-04-25            220927432\n",
       "2014-04-26            151625415\n",
       "2014-04-27            146837951\n",
       "2014-04-28            324937272\n",
       "2014-04-29            330607104\n",
       "2014-04-30            260091330\n",
       "2014-05-01            193045106\n",
       "2014-05-02            125336258\n",
       "2014-05-03            185094488\n",
       "2014-05-04            303087562\n",
       "2014-05-05            370924149\n",
       "2014-05-06            318002728\n",
       "2014-05-07            417327518"
      ]
     },
     "execution_count": 7,
     "metadata": {},
     "output_type": "execute_result"
    }
   ],
   "source": [
    "purchase2 = purchase[(purchase.index >= '2014-04-01') & (purchase.index <= '2014-05-07')]\n",
    "purchase2"
   ]
  },
  {
   "cell_type": "code",
   "execution_count": 8,
   "metadata": {},
   "outputs": [
    {
     "data": {
      "text/plain": [
       "([<matplotlib.axis.XTick at 0x1e3e152a0b8>,\n",
       "  <matplotlib.axis.XTick at 0x1e3e152a080>,\n",
       "  <matplotlib.axis.XTick at 0x1e3e154d1d0>,\n",
       "  <matplotlib.axis.XTick at 0x1e3e154d9b0>,\n",
       "  <matplotlib.axis.XTick at 0x1e3e154de48>,\n",
       "  <matplotlib.axis.XTick at 0x1e3e12ea320>,\n",
       "  <matplotlib.axis.XTick at 0x1e3e12ea7b8>,\n",
       "  <matplotlib.axis.XTick at 0x1e3e12eac50>,\n",
       "  <matplotlib.axis.XTick at 0x1e3e12f2160>,\n",
       "  <matplotlib.axis.XTick at 0x1e3e12f25c0>,\n",
       "  <matplotlib.axis.XTick at 0x1e3e12f2a58>,\n",
       "  <matplotlib.axis.XTick at 0x1e3e12f2ef0>,\n",
       "  <matplotlib.axis.XTick at 0x1e3e12f29b0>,\n",
       "  <matplotlib.axis.XTick at 0x1e3e12ead30>,\n",
       "  <matplotlib.axis.XTick at 0x1e3e154dda0>,\n",
       "  <matplotlib.axis.XTick at 0x1e3e12fa588>,\n",
       "  <matplotlib.axis.XTick at 0x1e3e12faa58>,\n",
       "  <matplotlib.axis.XTick at 0x1e3e12faef0>,\n",
       "  <matplotlib.axis.XTick at 0x1e3e13053c8>,\n",
       "  <matplotlib.axis.XTick at 0x1e3e1305860>,\n",
       "  <matplotlib.axis.XTick at 0x1e3e1305cf8>,\n",
       "  <matplotlib.axis.XTick at 0x1e3e130d1d0>,\n",
       "  <matplotlib.axis.XTick at 0x1e3e13057b8>,\n",
       "  <matplotlib.axis.XTick at 0x1e3e12fad68>,\n",
       "  <matplotlib.axis.XTick at 0x1e3e12eada0>,\n",
       "  <matplotlib.axis.XTick at 0x1e3e130d2b0>,\n",
       "  <matplotlib.axis.XTick at 0x1e3e130dcf8>,\n",
       "  <matplotlib.axis.XTick at 0x1e3e13171d0>,\n",
       "  <matplotlib.axis.XTick at 0x1e3e1317668>,\n",
       "  <matplotlib.axis.XTick at 0x1e3e1317b00>,\n",
       "  <matplotlib.axis.XTick at 0x1e3e1317e80>,\n",
       "  <matplotlib.axis.XTick at 0x1e3e131f470>,\n",
       "  <matplotlib.axis.XTick at 0x1e3e1317748>,\n",
       "  <matplotlib.axis.XTick at 0x1e3e130d9e8>,\n",
       "  <matplotlib.axis.XTick at 0x1e3e131f828>,\n",
       "  <matplotlib.axis.XTick at 0x1e3e131fb00>,\n",
       "  <matplotlib.axis.XTick at 0x1e3e131fe80>],\n",
       " <a list of 37 Text major ticklabel objects>)"
      ]
     },
     "execution_count": 8,
     "metadata": {},
     "output_type": "execute_result"
    },
    {
     "data": {
      "image/png": "[encoded data removed]",
      "text/plain": [
       "<Figure size 1440x720 with 1 Axes>"
      ]
     },
     "metadata": {
      "needs_background": "light"
     },
     "output_type": "display_data"
    }
   ],
   "source": [
    "plt.figure(figsize=(20,10))\n",
    "plt.plot(purchase2.total_purchase_amt)\n",
    "#要看具体的每一天，可以加刻度\n",
    "date_range = pd.date_range('2014-04-01','2014-05-07')\n",
    "plt.xticks(date_range,rotation=90)"
   ]
  },
  {
   "cell_type": "markdown",
   "metadata": {},
   "source": [
    "通过上图可知波谷都是节假日，波峰基本上是周初"
   ]
  },
  {
   "cell_type": "code",
   "execution_count": 9,
   "metadata": {},
   "outputs": [
    {
     "data": {
      "text/plain": [
       "(-1.5898802926313507,\n",
       " 0.4886749751375928,\n",
       " 18,\n",
       " 408,\n",
       " {'1%': -3.446479704252724,\n",
       "  '5%': -2.8686500930967354,\n",
       "  '10%': -2.5705574627547096},\n",
       " 15960.28197033403)"
      ]
     },
     "execution_count": 9,
     "metadata": {},
     "output_type": "execute_result"
    }
   ],
   "source": [
    "from statsmodels.tsa.stattools import adfuller\n",
    "#看时间序列的平稳性\n",
    "t = adfuller(purchase['total_purchase_amt'])\n",
    "t"
   ]
  },
  {
   "cell_type": "code",
   "execution_count": 10,
   "metadata": {},
   "outputs": [],
   "source": [
    "# 不能拒绝原假设（不平稳）\n",
    "# 所以需要做差分(一阶)\n",
    "diff1 = purchase.diff(1)"
   ]
  },
  {
   "cell_type": "code",
   "execution_count": 11,
   "metadata": {},
   "outputs": [
    {
     "data": {
      "text/plain": [
       "(-7.947102224652354,\n",
       " 3.1981868624879897e-12,\n",
       " 18,\n",
       " 407,\n",
       " {'1%': -3.4465195891135845,\n",
       "  '5%': -2.8686676281678634,\n",
       "  '10%': -2.5705668101226085},\n",
       " 15918.844657651942)"
      ]
     },
     "execution_count": 11,
     "metadata": {},
     "output_type": "execute_result"
    }
   ],
   "source": [
    "t = adfuller(diff1[1:])\n",
    "t"
   ]
  },
  {
   "cell_type": "code",
   "execution_count": 12,
   "metadata": {},
   "outputs": [],
   "source": [
    "t2 = adfuller(redeem['total_redeem_amt'])\n",
    "t2\n",
    "# 不能拒绝原假设（不平稳）\n",
    "# 所以需要做差分(一阶)\n",
    "diff2 = redeem.diff(1)"
   ]
  },
  {
   "cell_type": "code",
   "execution_count": 13,
   "metadata": {},
   "outputs": [
    {
     "data": {
      "text/plain": [
       "(-11.69198690696882,\n",
       " 1.6443717458499181e-21,\n",
       " 12,\n",
       " 413,\n",
       " {'1%': -3.4462831955497135,\n",
       "  '5%': -2.8685636962704395,\n",
       "  '10%': -2.5705114078759914},\n",
       " 15779.04993673871)"
      ]
     },
     "execution_count": 13,
     "metadata": {},
     "output_type": "execute_result"
    }
   ],
   "source": [
    "t2 = adfuller(diff2[1:])\n",
    "t2"
   ]
  },
  {
   "cell_type": "markdown",
   "metadata": {},
   "source": [
    "* 计算ARIMA模型最优参数"
   ]
  },
  {
   "cell_type": "code",
   "execution_count": 16,
   "metadata": {},
   "outputs": [
    {
     "name": "stdout",
     "output_type": "stream",
     "text": [
      "第1次循环\n",
      "第2次循环\n",
      "第3次循环\n",
      "第4次循环\n",
      "第5次循环\n"
     ]
    },
    {
     "name": "stderr",
     "output_type": "stream",
     "text": [
      "C:\\Users\\admin\\AppData\\Roaming\\Python\\Python36\\site-packages\\statsmodels\\tsa\\base\\tsa_model.py:162: ValueWarning: No frequency information was provided, so inferred frequency D will be used.\n",
      "  % freq, ValueWarning)\n",
      "C:\\Users\\admin\\AppData\\Roaming\\Python\\Python36\\site-packages\\statsmodels\\tsa\\base\\tsa_model.py:162: ValueWarning: No frequency information was provided, so inferred frequency D will be used.\n",
      "  % freq, ValueWarning)\n",
      "C:\\Users\\admin\\AppData\\Roaming\\Python\\Python36\\site-packages\\statsmodels\\tsa\\base\\tsa_model.py:162: ValueWarning: No frequency information was provided, so inferred frequency D will be used.\n",
      "  % freq, ValueWarning)\n",
      "C:\\Users\\admin\\AppData\\Roaming\\Python\\Python36\\site-packages\\statsmodels\\tsa\\base\\tsa_model.py:162: ValueWarning: No frequency information was provided, so inferred frequency D will be used.\n",
      "  % freq, ValueWarning)\n",
      "C:\\Users\\admin\\AppData\\Roaming\\Python\\Python36\\site-packages\\statsmodels\\tsa\\base\\tsa_model.py:162: ValueWarning: No frequency information was provided, so inferred frequency D will be used.\n",
      "  % freq, ValueWarning)\n"
     ]
    },
    {
     "name": "stdout",
     "output_type": "stream",
     "text": [
      "第6次循环\n",
      "第7次循环\n"
     ]
    },
    {
     "name": "stderr",
     "output_type": "stream",
     "text": [
      "C:\\Users\\admin\\AppData\\Roaming\\Python\\Python36\\site-packages\\statsmodels\\tsa\\base\\tsa_model.py:162: ValueWarning: No frequency information was provided, so inferred frequency D will be used.\n",
      "  % freq, ValueWarning)\n",
      "C:\\Users\\admin\\AppData\\Roaming\\Python\\Python36\\site-packages\\statsmodels\\tsa\\base\\tsa_model.py:162: ValueWarning: No frequency information was provided, so inferred frequency D will be used.\n",
      "  % freq, ValueWarning)\n"
     ]
    },
    {
     "name": "stdout",
     "output_type": "stream",
     "text": [
      "第8次循环\n"
     ]
    },
    {
     "name": "stderr",
     "output_type": "stream",
     "text": [
      "C:\\Users\\admin\\AppData\\Roaming\\Python\\Python36\\site-packages\\statsmodels\\tsa\\base\\tsa_model.py:162: ValueWarning: No frequency information was provided, so inferred frequency D will be used.\n",
      "  % freq, ValueWarning)\n"
     ]
    },
    {
     "name": "stdout",
     "output_type": "stream",
     "text": [
      "第9次循环\n"
     ]
    },
    {
     "name": "stderr",
     "output_type": "stream",
     "text": [
      "C:\\Users\\admin\\AppData\\Roaming\\Python\\Python36\\site-packages\\statsmodels\\tsa\\base\\tsa_model.py:162: ValueWarning: No frequency information was provided, so inferred frequency D will be used.\n",
      "  % freq, ValueWarning)\n"
     ]
    },
    {
     "name": "stdout",
     "output_type": "stream",
     "text": [
      "第10次循环\n"
     ]
    },
    {
     "name": "stderr",
     "output_type": "stream",
     "text": [
      "C:\\Users\\admin\\AppData\\Roaming\\Python\\Python36\\site-packages\\statsmodels\\tsa\\base\\tsa_model.py:162: ValueWarning: No frequency information was provided, so inferred frequency D will be used.\n",
      "  % freq, ValueWarning)\n"
     ]
    },
    {
     "name": "stdout",
     "output_type": "stream",
     "text": [
      "第11次循环\n",
      "第12次循环\n",
      "第13次循环\n"
     ]
    },
    {
     "name": "stderr",
     "output_type": "stream",
     "text": [
      "C:\\Users\\admin\\AppData\\Roaming\\Python\\Python36\\site-packages\\statsmodels\\tsa\\base\\tsa_model.py:162: ValueWarning: No frequency information was provided, so inferred frequency D will be used.\n",
      "  % freq, ValueWarning)\n",
      "C:\\Users\\admin\\AppData\\Roaming\\Python\\Python36\\site-packages\\statsmodels\\base\\model.py:568: ConvergenceWarning: Maximum Likelihood optimization failed to converge. Check mle_retvals\n",
      "  \"Check mle_retvals\", ConvergenceWarning)\n",
      "C:\\Users\\admin\\AppData\\Roaming\\Python\\Python36\\site-packages\\statsmodels\\tsa\\base\\tsa_model.py:162: ValueWarning: No frequency information was provided, so inferred frequency D will be used.\n",
      "  % freq, ValueWarning)\n",
      "C:\\Users\\admin\\AppData\\Roaming\\Python\\Python36\\site-packages\\statsmodels\\tsa\\base\\tsa_model.py:162: ValueWarning: No frequency information was provided, so inferred frequency D will be used.\n",
      "  % freq, ValueWarning)\n"
     ]
    },
    {
     "name": "stdout",
     "output_type": "stream",
     "text": [
      "第14次循环\n",
      "第15次循环"
     ]
    },
    {
     "name": "stderr",
     "output_type": "stream",
     "text": [
      "C:\\Users\\admin\\AppData\\Roaming\\Python\\Python36\\site-packages\\statsmodels\\tsa\\base\\tsa_model.py:162: ValueWarning: No frequency information was provided, so inferred frequency D will be used.\n",
      "  % freq, ValueWarning)\n"
     ]
    },
    {
     "name": "stdout",
     "output_type": "stream",
     "text": [
      "\n",
      "第16次循环\n"
     ]
    },
    {
     "name": "stderr",
     "output_type": "stream",
     "text": [
      "C:\\Users\\admin\\AppData\\Roaming\\Python\\Python36\\site-packages\\statsmodels\\tsa\\base\\tsa_model.py:162: ValueWarning: No frequency information was provided, so inferred frequency D will be used.\n",
      "  % freq, ValueWarning)\n",
      "C:\\Users\\admin\\AppData\\Roaming\\Python\\Python36\\site-packages\\statsmodels\\tsa\\base\\tsa_model.py:162: ValueWarning: No frequency information was provided, so inferred frequency D will be used.\n",
      "  % freq, ValueWarning)\n"
     ]
    },
    {
     "name": "stdout",
     "output_type": "stream",
     "text": [
      "第17次循环\n"
     ]
    },
    {
     "name": "stderr",
     "output_type": "stream",
     "text": [
      "C:\\Users\\admin\\AppData\\Roaming\\Python\\Python36\\site-packages\\statsmodels\\tsa\\base\\tsa_model.py:162: ValueWarning: No frequency information was provided, so inferred frequency D will be used.\n",
      "  % freq, ValueWarning)\n"
     ]
    },
    {
     "name": "stdout",
     "output_type": "stream",
     "text": [
      "第18次循环\n"
     ]
    },
    {
     "name": "stderr",
     "output_type": "stream",
     "text": [
      "C:\\Users\\admin\\AppData\\Roaming\\Python\\Python36\\site-packages\\statsmodels\\tsa\\base\\tsa_model.py:162: ValueWarning: No frequency information was provided, so inferred frequency D will be used.\n",
      "  % freq, ValueWarning)\n"
     ]
    },
    {
     "name": "stdout",
     "output_type": "stream",
     "text": [
      "第19次循环\n"
     ]
    },
    {
     "name": "stderr",
     "output_type": "stream",
     "text": [
      "C:\\Users\\admin\\AppData\\Roaming\\Python\\Python36\\site-packages\\statsmodels\\tsa\\base\\tsa_model.py:162: ValueWarning: No frequency information was provided, so inferred frequency D will be used.\n",
      "  % freq, ValueWarning)\n"
     ]
    },
    {
     "name": "stdout",
     "output_type": "stream",
     "text": [
      "第20次循环\n"
     ]
    },
    {
     "name": "stderr",
     "output_type": "stream",
     "text": [
      "C:\\Users\\admin\\AppData\\Roaming\\Python\\Python36\\site-packages\\statsmodels\\tsa\\base\\tsa_model.py:162: ValueWarning: No frequency information was provided, so inferred frequency D will be used.\n",
      "  % freq, ValueWarning)\n"
     ]
    },
    {
     "name": "stdout",
     "output_type": "stream",
     "text": [
      "第21次循环\n",
      "第22次循环\n"
     ]
    },
    {
     "name": "stderr",
     "output_type": "stream",
     "text": [
      "C:\\Users\\admin\\AppData\\Roaming\\Python\\Python36\\site-packages\\statsmodels\\tsa\\base\\tsa_model.py:162: ValueWarning: No frequency information was provided, so inferred frequency D will be used.\n",
      "  % freq, ValueWarning)\n",
      "C:\\Users\\admin\\AppData\\Roaming\\Python\\Python36\\site-packages\\statsmodels\\tsa\\base\\tsa_model.py:162: ValueWarning: No frequency information was provided, so inferred frequency D will be used.\n",
      "  % freq, ValueWarning)\n"
     ]
    },
    {
     "name": "stdout",
     "output_type": "stream",
     "text": [
      "第23次循环\n",
      "第24次循环\n"
     ]
    },
    {
     "name": "stderr",
     "output_type": "stream",
     "text": [
      "C:\\Users\\admin\\AppData\\Roaming\\Python\\Python36\\site-packages\\statsmodels\\tsa\\base\\tsa_model.py:162: ValueWarning: No frequency information was provided, so inferred frequency D will be used.\n",
      "  % freq, ValueWarning)\n",
      "C:\\Users\\admin\\AppData\\Roaming\\Python\\Python36\\site-packages\\statsmodels\\tsa\\base\\tsa_model.py:162: ValueWarning: No frequency information was provided, so inferred frequency D will be used.\n",
      "  % freq, ValueWarning)\n"
     ]
    },
    {
     "name": "stdout",
     "output_type": "stream",
     "text": [
      "第25次循环\n"
     ]
    },
    {
     "name": "stderr",
     "output_type": "stream",
     "text": [
      "C:\\Users\\admin\\AppData\\Roaming\\Python\\Python36\\site-packages\\statsmodels\\tsa\\base\\tsa_model.py:162: ValueWarning: No frequency information was provided, so inferred frequency D will be used.\n",
      "  % freq, ValueWarning)\n"
     ]
    },
    {
     "name": "stdout",
     "output_type": "stream",
     "text": [
      "第26次循环\n"
     ]
    },
    {
     "name": "stderr",
     "output_type": "stream",
     "text": [
      "C:\\Users\\admin\\AppData\\Roaming\\Python\\Python36\\site-packages\\statsmodels\\tsa\\base\\tsa_model.py:162: ValueWarning: No frequency information was provided, so inferred frequency D will be used.\n",
      "  % freq, ValueWarning)\n"
     ]
    },
    {
     "name": "stdout",
     "output_type": "stream",
     "text": [
      "第27次循环\n"
     ]
    },
    {
     "name": "stderr",
     "output_type": "stream",
     "text": [
      "C:\\Users\\admin\\AppData\\Roaming\\Python\\Python36\\site-packages\\statsmodels\\tsa\\base\\tsa_model.py:162: ValueWarning: No frequency information was provided, so inferred frequency D will be used.\n",
      "  % freq, ValueWarning)\n"
     ]
    },
    {
     "name": "stdout",
     "output_type": "stream",
     "text": [
      "第28次循环\n"
     ]
    },
    {
     "name": "stderr",
     "output_type": "stream",
     "text": [
      "C:\\Users\\admin\\AppData\\Roaming\\Python\\Python36\\site-packages\\statsmodels\\tsa\\base\\tsa_model.py:162: ValueWarning: No frequency information was provided, so inferred frequency D will be used.\n",
      "  % freq, ValueWarning)\n"
     ]
    },
    {
     "name": "stdout",
     "output_type": "stream",
     "text": [
      "第29次循环\n"
     ]
    },
    {
     "name": "stderr",
     "output_type": "stream",
     "text": [
      "C:\\Users\\admin\\AppData\\Roaming\\Python\\Python36\\site-packages\\statsmodels\\tsa\\base\\tsa_model.py:162: ValueWarning: No frequency information was provided, so inferred frequency D will be used.\n",
      "  % freq, ValueWarning)\n"
     ]
    },
    {
     "name": "stdout",
     "output_type": "stream",
     "text": [
      "第30次循环\n"
     ]
    },
    {
     "name": "stderr",
     "output_type": "stream",
     "text": [
      "C:\\Users\\admin\\AppData\\Roaming\\Python\\Python36\\site-packages\\statsmodels\\tsa\\base\\tsa_model.py:162: ValueWarning: No frequency information was provided, so inferred frequency D will be used.\n",
      "  % freq, ValueWarning)\n"
     ]
    },
    {
     "name": "stdout",
     "output_type": "stream",
     "text": [
      "第31次循环\n",
      "第32次循环\n"
     ]
    },
    {
     "name": "stderr",
     "output_type": "stream",
     "text": [
      "C:\\Users\\admin\\AppData\\Roaming\\Python\\Python36\\site-packages\\statsmodels\\tsa\\base\\tsa_model.py:162: ValueWarning: No frequency information was provided, so inferred frequency D will be used.\n",
      "  % freq, ValueWarning)\n",
      "C:\\Users\\admin\\AppData\\Roaming\\Python\\Python36\\site-packages\\statsmodels\\tsa\\base\\tsa_model.py:162: ValueWarning: No frequency information was provided, so inferred frequency D will be used.\n",
      "  % freq, ValueWarning)\n"
     ]
    },
    {
     "name": "stdout",
     "output_type": "stream",
     "text": [
      "第33次循环\n"
     ]
    },
    {
     "name": "stderr",
     "output_type": "stream",
     "text": [
      "C:\\Users\\admin\\AppData\\Roaming\\Python\\Python36\\site-packages\\statsmodels\\tsa\\base\\tsa_model.py:162: ValueWarning: No frequency information was provided, so inferred frequency D will be used.\n",
      "  % freq, ValueWarning)\n"
     ]
    },
    {
     "name": "stdout",
     "output_type": "stream",
     "text": [
      "第34次循环\n"
     ]
    },
    {
     "name": "stderr",
     "output_type": "stream",
     "text": [
      "C:\\Users\\admin\\AppData\\Roaming\\Python\\Python36\\site-packages\\statsmodels\\tsa\\base\\tsa_model.py:162: ValueWarning: No frequency information was provided, so inferred frequency D will be used.\n",
      "  % freq, ValueWarning)\n"
     ]
    },
    {
     "name": "stdout",
     "output_type": "stream",
     "text": [
      "第35次循环\n"
     ]
    },
    {
     "name": "stderr",
     "output_type": "stream",
     "text": [
      "C:\\Users\\admin\\AppData\\Roaming\\Python\\Python36\\site-packages\\statsmodels\\tsa\\base\\tsa_model.py:162: ValueWarning: No frequency information was provided, so inferred frequency D will be used.\n",
      "  % freq, ValueWarning)\n"
     ]
    },
    {
     "name": "stdout",
     "output_type": "stream",
     "text": [
      "第36次循环\n"
     ]
    },
    {
     "name": "stderr",
     "output_type": "stream",
     "text": [
      "C:\\Users\\admin\\AppData\\Roaming\\Python\\Python36\\site-packages\\statsmodels\\tsa\\base\\tsa_model.py:162: ValueWarning: No frequency information was provided, so inferred frequency D will be used.\n",
      "  % freq, ValueWarning)\n",
      "C:\\Users\\admin\\AppData\\Roaming\\Python\\Python36\\site-packages\\statsmodels\\base\\model.py:568: ConvergenceWarning: Maximum Likelihood optimization failed to converge. Check mle_retvals\n",
      "  \"Check mle_retvals\", ConvergenceWarning)\n",
      "C:\\Users\\admin\\AppData\\Roaming\\Python\\Python36\\site-packages\\statsmodels\\tsa\\base\\tsa_model.py:162: ValueWarning: No frequency information was provided, so inferred frequency D will be used.\n",
      "  % freq, ValueWarning)\n"
     ]
    },
    {
     "name": "stdout",
     "output_type": "stream",
     "text": [
      "第37次循环\n",
      "第38次循环\n"
     ]
    },
    {
     "name": "stderr",
     "output_type": "stream",
     "text": [
      "C:\\Users\\admin\\AppData\\Roaming\\Python\\Python36\\site-packages\\statsmodels\\tsa\\base\\tsa_model.py:162: ValueWarning: No frequency information was provided, so inferred frequency D will be used.\n",
      "  % freq, ValueWarning)\n"
     ]
    },
    {
     "name": "stdout",
     "output_type": "stream",
     "text": [
      "第39次循环\n",
      "参数错误: (3, 0, 8)\n",
      "第39次循环\n",
      "参数错误: (3, 0, 9)\n",
      "第39次循环\n",
      "第40次循环\n"
     ]
    },
    {
     "name": "stderr",
     "output_type": "stream",
     "text": [
      "C:\\Users\\admin\\AppData\\Roaming\\Python\\Python36\\site-packages\\statsmodels\\tsa\\base\\tsa_model.py:162: ValueWarning: No frequency information was provided, so inferred frequency D will be used.\n",
      "  % freq, ValueWarning)\n",
      "C:\\Users\\admin\\AppData\\Roaming\\Python\\Python36\\site-packages\\statsmodels\\tsa\\base\\tsa_model.py:162: ValueWarning: No frequency information was provided, so inferred frequency D will be used.\n",
      "  % freq, ValueWarning)\n",
      "C:\\Users\\admin\\AppData\\Roaming\\Python\\Python36\\site-packages\\statsmodels\\tsa\\base\\tsa_model.py:162: ValueWarning: No frequency information was provided, so inferred frequency D will be used.\n",
      "  % freq, ValueWarning)\n",
      "C:\\Users\\admin\\AppData\\Roaming\\Python\\Python36\\site-packages\\statsmodels\\tsa\\base\\tsa_model.py:162: ValueWarning: No frequency information was provided, so inferred frequency D will be used.\n",
      "  % freq, ValueWarning)\n"
     ]
    },
    {
     "name": "stdout",
     "output_type": "stream",
     "text": [
      "第41次循环\n"
     ]
    },
    {
     "name": "stderr",
     "output_type": "stream",
     "text": [
      "C:\\Users\\admin\\AppData\\Roaming\\Python\\Python36\\site-packages\\statsmodels\\tsa\\base\\tsa_model.py:162: ValueWarning: No frequency information was provided, so inferred frequency D will be used.\n",
      "  % freq, ValueWarning)\n"
     ]
    },
    {
     "name": "stdout",
     "output_type": "stream",
     "text": [
      "第42次循环\n"
     ]
    },
    {
     "name": "stderr",
     "output_type": "stream",
     "text": [
      "C:\\Users\\admin\\AppData\\Roaming\\Python\\Python36\\site-packages\\statsmodels\\tsa\\base\\tsa_model.py:162: ValueWarning: No frequency information was provided, so inferred frequency D will be used.\n",
      "  % freq, ValueWarning)\n"
     ]
    },
    {
     "name": "stdout",
     "output_type": "stream",
     "text": [
      "第43次循环\n"
     ]
    },
    {
     "name": "stderr",
     "output_type": "stream",
     "text": [
      "C:\\Users\\admin\\AppData\\Roaming\\Python\\Python36\\site-packages\\statsmodels\\tsa\\base\\tsa_model.py:162: ValueWarning: No frequency information was provided, so inferred frequency D will be used.\n",
      "  % freq, ValueWarning)\n"
     ]
    },
    {
     "name": "stdout",
     "output_type": "stream",
     "text": [
      "第44次循环\n"
     ]
    },
    {
     "name": "stderr",
     "output_type": "stream",
     "text": [
      "C:\\Users\\admin\\AppData\\Roaming\\Python\\Python36\\site-packages\\statsmodels\\tsa\\base\\tsa_model.py:162: ValueWarning: No frequency information was provided, so inferred frequency D will be used.\n",
      "  % freq, ValueWarning)\n"
     ]
    },
    {
     "name": "stdout",
     "output_type": "stream",
     "text": [
      "第45次循环\n"
     ]
    },
    {
     "name": "stderr",
     "output_type": "stream",
     "text": [
      "C:\\Users\\admin\\AppData\\Roaming\\Python\\Python36\\site-packages\\statsmodels\\tsa\\base\\tsa_model.py:162: ValueWarning: No frequency information was provided, so inferred frequency D will be used.\n",
      "  % freq, ValueWarning)\n"
     ]
    },
    {
     "name": "stdout",
     "output_type": "stream",
     "text": [
      "第46次循环\n"
     ]
    },
    {
     "name": "stderr",
     "output_type": "stream",
     "text": [
      "C:\\Users\\admin\\AppData\\Roaming\\Python\\Python36\\site-packages\\statsmodels\\tsa\\base\\tsa_model.py:162: ValueWarning: No frequency information was provided, so inferred frequency D will be used.\n",
      "  % freq, ValueWarning)\n"
     ]
    },
    {
     "name": "stdout",
     "output_type": "stream",
     "text": [
      "第47次循环\n",
      "参数错误: (4, 0, 8)\n",
      "第47次循环\n",
      "参数错误: (4, 0, 9)\n",
      "第47次循环\n"
     ]
    },
    {
     "name": "stderr",
     "output_type": "stream",
     "text": [
      "C:\\Users\\admin\\AppData\\Roaming\\Python\\Python36\\site-packages\\statsmodels\\tsa\\base\\tsa_model.py:162: ValueWarning: No frequency information was provided, so inferred frequency D will be used.\n",
      "  % freq, ValueWarning)\n",
      "C:\\Users\\admin\\AppData\\Roaming\\Python\\Python36\\site-packages\\statsmodels\\tsa\\base\\tsa_model.py:162: ValueWarning: No frequency information was provided, so inferred frequency D will be used.\n",
      "  % freq, ValueWarning)\n",
      "C:\\Users\\admin\\AppData\\Roaming\\Python\\Python36\\site-packages\\statsmodels\\tsa\\base\\tsa_model.py:162: ValueWarning: No frequency information was provided, so inferred frequency D will be used.\n",
      "  % freq, ValueWarning)\n"
     ]
    },
    {
     "name": "stdout",
     "output_type": "stream",
     "text": [
      "第48次循环\n"
     ]
    },
    {
     "name": "stderr",
     "output_type": "stream",
     "text": [
      "C:\\Users\\admin\\AppData\\Roaming\\Python\\Python36\\site-packages\\statsmodels\\tsa\\base\\tsa_model.py:162: ValueWarning: No frequency information was provided, so inferred frequency D will be used.\n",
      "  % freq, ValueWarning)\n"
     ]
    },
    {
     "name": "stdout",
     "output_type": "stream",
     "text": [
      "第49次循环\n"
     ]
    },
    {
     "name": "stderr",
     "output_type": "stream",
     "text": [
      "C:\\Users\\admin\\AppData\\Roaming\\Python\\Python36\\site-packages\\statsmodels\\tsa\\base\\tsa_model.py:162: ValueWarning: No frequency information was provided, so inferred frequency D will be used.\n",
      "  % freq, ValueWarning)\n"
     ]
    },
    {
     "name": "stdout",
     "output_type": "stream",
     "text": [
      "第50次循环\n"
     ]
    },
    {
     "name": "stderr",
     "output_type": "stream",
     "text": [
      "C:\\Users\\admin\\AppData\\Roaming\\Python\\Python36\\site-packages\\statsmodels\\tsa\\base\\tsa_model.py:162: ValueWarning: No frequency information was provided, so inferred frequency D will be used.\n",
      "  % freq, ValueWarning)\n"
     ]
    },
    {
     "name": "stdout",
     "output_type": "stream",
     "text": [
      "第51次循环\n"
     ]
    },
    {
     "name": "stderr",
     "output_type": "stream",
     "text": [
      "C:\\Users\\admin\\AppData\\Roaming\\Python\\Python36\\site-packages\\statsmodels\\tsa\\base\\tsa_model.py:162: ValueWarning: No frequency information was provided, so inferred frequency D will be used.\n",
      "  % freq, ValueWarning)\n"
     ]
    },
    {
     "name": "stdout",
     "output_type": "stream",
     "text": [
      "第52次循环\n"
     ]
    },
    {
     "name": "stderr",
     "output_type": "stream",
     "text": [
      "C:\\Users\\admin\\AppData\\Roaming\\Python\\Python36\\site-packages\\statsmodels\\tsa\\base\\tsa_model.py:162: ValueWarning: No frequency information was provided, so inferred frequency D will be used.\n",
      "  % freq, ValueWarning)\n"
     ]
    },
    {
     "name": "stdout",
     "output_type": "stream",
     "text": [
      "第53次循环\n"
     ]
    },
    {
     "name": "stderr",
     "output_type": "stream",
     "text": [
      "C:\\Users\\admin\\AppData\\Roaming\\Python\\Python36\\site-packages\\statsmodels\\tsa\\base\\tsa_model.py:162: ValueWarning: No frequency information was provided, so inferred frequency D will be used.\n",
      "  % freq, ValueWarning)\n",
      "C:\\Users\\admin\\AppData\\Roaming\\Python\\Python36\\site-packages\\statsmodels\\base\\model.py:548: HessianInversionWarning: Inverting hessian failed, no bse or cov_params available\n",
      "  'available', HessianInversionWarning)\n",
      "C:\\Users\\admin\\AppData\\Roaming\\Python\\Python36\\site-packages\\statsmodels\\tsa\\base\\tsa_model.py:162: ValueWarning: No frequency information was provided, so inferred frequency D will be used.\n",
      "  % freq, ValueWarning)\n",
      "C:\\Users\\admin\\AppData\\Roaming\\Python\\Python36\\site-packages\\statsmodels\\tsa\\base\\tsa_model.py:162: ValueWarning: No frequency information was provided, so inferred frequency D will be used.\n",
      "  % freq, ValueWarning)\n",
      "C:\\Users\\admin\\AppData\\Roaming\\Python\\Python36\\site-packages\\statsmodels\\tsa\\base\\tsa_model.py:162: ValueWarning: No frequency information was provided, so inferred frequency D will be used.\n",
      "  % freq, ValueWarning)\n",
      "C:\\Users\\admin\\AppData\\Roaming\\Python\\Python36\\site-packages\\statsmodels\\tsa\\base\\tsa_model.py:162: ValueWarning: No frequency information was provided, so inferred frequency D will be used.\n",
      "  % freq, ValueWarning)\n"
     ]
    },
    {
     "name": "stdout",
     "output_type": "stream",
     "text": [
      "第54次循环\n",
      "参数错误: (5, 0, 7)\n",
      "第54次循环\n",
      "参数错误: (5, 0, 8)\n",
      "第54次循环\n",
      "参数错误: (5, 0, 9)\n",
      "第54次循环\n",
      "第55次循环\n"
     ]
    },
    {
     "name": "stderr",
     "output_type": "stream",
     "text": [
      "C:\\Users\\admin\\AppData\\Roaming\\Python\\Python36\\site-packages\\statsmodels\\tsa\\base\\tsa_model.py:162: ValueWarning: No frequency information was provided, so inferred frequency D will be used.\n",
      "  % freq, ValueWarning)\n"
     ]
    },
    {
     "name": "stdout",
     "output_type": "stream",
     "text": [
      "第56次循环\n"
     ]
    },
    {
     "name": "stderr",
     "output_type": "stream",
     "text": [
      "C:\\Users\\admin\\AppData\\Roaming\\Python\\Python36\\site-packages\\statsmodels\\tsa\\base\\tsa_model.py:162: ValueWarning: No frequency information was provided, so inferred frequency D will be used.\n",
      "  % freq, ValueWarning)\n"
     ]
    },
    {
     "name": "stdout",
     "output_type": "stream",
     "text": [
      "第57次循环\n"
     ]
    },
    {
     "name": "stderr",
     "output_type": "stream",
     "text": [
      "C:\\Users\\admin\\AppData\\Roaming\\Python\\Python36\\site-packages\\statsmodels\\tsa\\base\\tsa_model.py:162: ValueWarning: No frequency information was provided, so inferred frequency D will be used.\n",
      "  % freq, ValueWarning)\n"
     ]
    },
    {
     "name": "stdout",
     "output_type": "stream",
     "text": [
      "第58次循环\n"
     ]
    },
    {
     "name": "stderr",
     "output_type": "stream",
     "text": [
      "C:\\Users\\admin\\AppData\\Roaming\\Python\\Python36\\site-packages\\statsmodels\\tsa\\base\\tsa_model.py:162: ValueWarning: No frequency information was provided, so inferred frequency D will be used.\n",
      "  % freq, ValueWarning)\n"
     ]
    },
    {
     "name": "stdout",
     "output_type": "stream",
     "text": [
      "第59次循环\n"
     ]
    },
    {
     "name": "stderr",
     "output_type": "stream",
     "text": [
      "C:\\Users\\admin\\AppData\\Roaming\\Python\\Python36\\site-packages\\statsmodels\\tsa\\base\\tsa_model.py:162: ValueWarning: No frequency information was provided, so inferred frequency D will be used.\n",
      "  % freq, ValueWarning)\n"
     ]
    },
    {
     "name": "stdout",
     "output_type": "stream",
     "text": [
      "第60次循环\n"
     ]
    },
    {
     "name": "stderr",
     "output_type": "stream",
     "text": [
      "C:\\Users\\admin\\AppData\\Roaming\\Python\\Python36\\site-packages\\statsmodels\\tsa\\base\\tsa_model.py:162: ValueWarning: No frequency information was provided, so inferred frequency D will be used.\n",
      "  % freq, ValueWarning)\n"
     ]
    },
    {
     "name": "stdout",
     "output_type": "stream",
     "text": [
      "第61次循环\n",
      "参数错误: (6, 0, 7)\n",
      "第61次循环\n",
      "参数错误: (6, 0, 8)\n",
      "第61次循环\n",
      "参数错误: (6, 0, 9)\n",
      "第61次循环\n"
     ]
    },
    {
     "name": "stderr",
     "output_type": "stream",
     "text": [
      "C:\\Users\\admin\\AppData\\Roaming\\Python\\Python36\\site-packages\\statsmodels\\tsa\\base\\tsa_model.py:162: ValueWarning: No frequency information was provided, so inferred frequency D will be used.\n",
      "  % freq, ValueWarning)\n",
      "C:\\Users\\admin\\AppData\\Roaming\\Python\\Python36\\site-packages\\statsmodels\\tsa\\base\\tsa_model.py:162: ValueWarning: No frequency information was provided, so inferred frequency D will be used.\n",
      "  % freq, ValueWarning)\n",
      "C:\\Users\\admin\\AppData\\Roaming\\Python\\Python36\\site-packages\\statsmodels\\tsa\\base\\tsa_model.py:162: ValueWarning: No frequency information was provided, so inferred frequency D will be used.\n",
      "  % freq, ValueWarning)\n",
      "C:\\Users\\admin\\AppData\\Roaming\\Python\\Python36\\site-packages\\statsmodels\\tsa\\base\\tsa_model.py:162: ValueWarning: No frequency information was provided, so inferred frequency D will be used.\n",
      "  % freq, ValueWarning)\n"
     ]
    },
    {
     "name": "stdout",
     "output_type": "stream",
     "text": [
      "第62次循环\n"
     ]
    },
    {
     "name": "stderr",
     "output_type": "stream",
     "text": [
      "C:\\Users\\admin\\AppData\\Roaming\\Python\\Python36\\site-packages\\statsmodels\\tsa\\base\\tsa_model.py:162: ValueWarning: No frequency information was provided, so inferred frequency D will be used.\n",
      "  % freq, ValueWarning)\n"
     ]
    },
    {
     "name": "stdout",
     "output_type": "stream",
     "text": [
      "第63次循环\n"
     ]
    },
    {
     "name": "stderr",
     "output_type": "stream",
     "text": [
      "C:\\Users\\admin\\AppData\\Roaming\\Python\\Python36\\site-packages\\statsmodels\\tsa\\base\\tsa_model.py:162: ValueWarning: No frequency information was provided, so inferred frequency D will be used.\n",
      "  % freq, ValueWarning)\n"
     ]
    },
    {
     "name": "stdout",
     "output_type": "stream",
     "text": [
      "第64次循环\n"
     ]
    },
    {
     "name": "stderr",
     "output_type": "stream",
     "text": [
      "C:\\Users\\admin\\AppData\\Roaming\\Python\\Python36\\site-packages\\statsmodels\\tsa\\base\\tsa_model.py:162: ValueWarning: No frequency information was provided, so inferred frequency D will be used.\n",
      "  % freq, ValueWarning)\n"
     ]
    },
    {
     "name": "stdout",
     "output_type": "stream",
     "text": [
      "第65次循环\n"
     ]
    },
    {
     "name": "stderr",
     "output_type": "stream",
     "text": [
      "C:\\Users\\admin\\AppData\\Roaming\\Python\\Python36\\site-packages\\statsmodels\\tsa\\base\\tsa_model.py:162: ValueWarning: No frequency information was provided, so inferred frequency D will be used.\n",
      "  % freq, ValueWarning)\n"
     ]
    },
    {
     "name": "stdout",
     "output_type": "stream",
     "text": [
      "第66次循环\n"
     ]
    },
    {
     "name": "stderr",
     "output_type": "stream",
     "text": [
      "C:\\Users\\admin\\AppData\\Roaming\\Python\\Python36\\site-packages\\statsmodels\\tsa\\base\\tsa_model.py:162: ValueWarning: No frequency information was provided, so inferred frequency D will be used.\n",
      "  % freq, ValueWarning)\n"
     ]
    },
    {
     "name": "stdout",
     "output_type": "stream",
     "text": [
      "第67次循环\n",
      "参数错误: (7, 0, 6)\n",
      "第67次循环\n",
      "参数错误: (7, 0, 7)\n",
      "第67次循环\n",
      "参数错误: (7, 0, 8)\n",
      "第67次循环\n",
      "参数错误: (7, 0, 9)\n",
      "第67次循环\n"
     ]
    },
    {
     "name": "stderr",
     "output_type": "stream",
     "text": [
      "C:\\Users\\admin\\AppData\\Roaming\\Python\\Python36\\site-packages\\statsmodels\\tsa\\base\\tsa_model.py:162: ValueWarning: No frequency information was provided, so inferred frequency D will be used.\n",
      "  % freq, ValueWarning)\n",
      "C:\\Users\\admin\\AppData\\Roaming\\Python\\Python36\\site-packages\\statsmodels\\tsa\\base\\tsa_model.py:162: ValueWarning: No frequency information was provided, so inferred frequency D will be used.\n",
      "  % freq, ValueWarning)\n",
      "C:\\Users\\admin\\AppData\\Roaming\\Python\\Python36\\site-packages\\statsmodels\\tsa\\base\\tsa_model.py:162: ValueWarning: No frequency information was provided, so inferred frequency D will be used.\n",
      "  % freq, ValueWarning)\n",
      "C:\\Users\\admin\\AppData\\Roaming\\Python\\Python36\\site-packages\\statsmodels\\tsa\\base\\tsa_model.py:162: ValueWarning: No frequency information was provided, so inferred frequency D will be used.\n",
      "  % freq, ValueWarning)\n",
      "C:\\Users\\admin\\AppData\\Roaming\\Python\\Python36\\site-packages\\statsmodels\\tsa\\base\\tsa_model.py:162: ValueWarning: No frequency information was provided, so inferred frequency D will be used.\n",
      "  % freq, ValueWarning)\n"
     ]
    },
    {
     "name": "stdout",
     "output_type": "stream",
     "text": [
      "第68次循环\n"
     ]
    },
    {
     "name": "stderr",
     "output_type": "stream",
     "text": [
      "C:\\Users\\admin\\AppData\\Roaming\\Python\\Python36\\site-packages\\statsmodels\\tsa\\base\\tsa_model.py:162: ValueWarning: No frequency information was provided, so inferred frequency D will be used.\n",
      "  % freq, ValueWarning)\n"
     ]
    },
    {
     "name": "stdout",
     "output_type": "stream",
     "text": [
      "第69次循环\n"
     ]
    },
    {
     "name": "stderr",
     "output_type": "stream",
     "text": [
      "C:\\Users\\admin\\AppData\\Roaming\\Python\\Python36\\site-packages\\statsmodels\\tsa\\base\\tsa_model.py:162: ValueWarning: No frequency information was provided, so inferred frequency D will be used.\n",
      "  % freq, ValueWarning)\n"
     ]
    },
    {
     "name": "stdout",
     "output_type": "stream",
     "text": [
      "第70次循环\n"
     ]
    },
    {
     "name": "stderr",
     "output_type": "stream",
     "text": [
      "C:\\Users\\admin\\AppData\\Roaming\\Python\\Python36\\site-packages\\statsmodels\\tsa\\base\\tsa_model.py:162: ValueWarning: No frequency information was provided, so inferred frequency D will be used.\n",
      "  % freq, ValueWarning)\n"
     ]
    },
    {
     "name": "stdout",
     "output_type": "stream",
     "text": [
      "第71次循环\n"
     ]
    },
    {
     "name": "stderr",
     "output_type": "stream",
     "text": [
      "C:\\Users\\admin\\AppData\\Roaming\\Python\\Python36\\site-packages\\statsmodels\\tsa\\base\\tsa_model.py:162: ValueWarning: No frequency information was provided, so inferred frequency D will be used.\n",
      "  % freq, ValueWarning)\n"
     ]
    },
    {
     "name": "stdout",
     "output_type": "stream",
     "text": [
      "第72次循环\n"
     ]
    },
    {
     "name": "stderr",
     "output_type": "stream",
     "text": [
      "C:\\Users\\admin\\AppData\\Roaming\\Python\\Python36\\site-packages\\statsmodels\\tsa\\base\\tsa_model.py:162: ValueWarning: No frequency information was provided, so inferred frequency D will be used.\n",
      "  % freq, ValueWarning)\n"
     ]
    },
    {
     "name": "stdout",
     "output_type": "stream",
     "text": [
      "第73次循环\n",
      "参数错误: (8, 0, 6)\n",
      "第73次循环\n",
      "参数错误: (8, 0, 7)\n",
      "第73次循环\n",
      "参数错误: (8, 0, 8)\n",
      "第73次循环\n",
      "参数错误: (8, 0, 9)\n",
      "第73次循环\n"
     ]
    },
    {
     "name": "stderr",
     "output_type": "stream",
     "text": [
      "C:\\Users\\admin\\AppData\\Roaming\\Python\\Python36\\site-packages\\statsmodels\\tsa\\base\\tsa_model.py:162: ValueWarning: No frequency information was provided, so inferred frequency D will be used.\n",
      "  % freq, ValueWarning)\n",
      "C:\\Users\\admin\\AppData\\Roaming\\Python\\Python36\\site-packages\\statsmodels\\tsa\\base\\tsa_model.py:162: ValueWarning: No frequency information was provided, so inferred frequency D will be used.\n",
      "  % freq, ValueWarning)\n",
      "C:\\Users\\admin\\AppData\\Roaming\\Python\\Python36\\site-packages\\statsmodels\\tsa\\base\\tsa_model.py:162: ValueWarning: No frequency information was provided, so inferred frequency D will be used.\n",
      "  % freq, ValueWarning)\n",
      "C:\\Users\\admin\\AppData\\Roaming\\Python\\Python36\\site-packages\\statsmodels\\tsa\\base\\tsa_model.py:162: ValueWarning: No frequency information was provided, so inferred frequency D will be used.\n",
      "  % freq, ValueWarning)\n",
      "C:\\Users\\admin\\AppData\\Roaming\\Python\\Python36\\site-packages\\statsmodels\\tsa\\base\\tsa_model.py:162: ValueWarning: No frequency information was provided, so inferred frequency D will be used.\n",
      "  % freq, ValueWarning)\n"
     ]
    },
    {
     "name": "stdout",
     "output_type": "stream",
     "text": [
      "第74次循环\n"
     ]
    },
    {
     "name": "stderr",
     "output_type": "stream",
     "text": [
      "C:\\Users\\admin\\AppData\\Roaming\\Python\\Python36\\site-packages\\statsmodels\\tsa\\base\\tsa_model.py:162: ValueWarning: No frequency information was provided, so inferred frequency D will be used.\n",
      "  % freq, ValueWarning)\n"
     ]
    },
    {
     "name": "stdout",
     "output_type": "stream",
     "text": [
      "第75次循环\n"
     ]
    },
    {
     "name": "stderr",
     "output_type": "stream",
     "text": [
      "C:\\Users\\admin\\AppData\\Roaming\\Python\\Python36\\site-packages\\statsmodels\\tsa\\base\\tsa_model.py:162: ValueWarning: No frequency information was provided, so inferred frequency D will be used.\n",
      "  % freq, ValueWarning)\n"
     ]
    },
    {
     "name": "stdout",
     "output_type": "stream",
     "text": [
      "第76次循环\n"
     ]
    },
    {
     "name": "stderr",
     "output_type": "stream",
     "text": [
      "C:\\Users\\admin\\AppData\\Roaming\\Python\\Python36\\site-packages\\statsmodels\\tsa\\base\\tsa_model.py:162: ValueWarning: No frequency information was provided, so inferred frequency D will be used.\n",
      "  % freq, ValueWarning)\n",
      "C:\\Users\\admin\\AppData\\Roaming\\Python\\Python36\\site-packages\\statsmodels\\base\\model.py:548: HessianInversionWarning: Inverting hessian failed, no bse or cov_params available\n",
      "  'available', HessianInversionWarning)\n",
      "C:\\Users\\admin\\AppData\\Roaming\\Python\\Python36\\site-packages\\statsmodels\\tsa\\base\\tsa_model.py:162: ValueWarning: No frequency information was provided, so inferred frequency D will be used.\n",
      "  % freq, ValueWarning)\n"
     ]
    },
    {
     "name": "stdout",
     "output_type": "stream",
     "text": [
      "第77次循环\n",
      "第78次循环\n"
     ]
    },
    {
     "name": "stderr",
     "output_type": "stream",
     "text": [
      "C:\\Users\\admin\\AppData\\Roaming\\Python\\Python36\\site-packages\\statsmodels\\tsa\\base\\tsa_model.py:162: ValueWarning: No frequency information was provided, so inferred frequency D will be used.\n",
      "  % freq, ValueWarning)\n"
     ]
    },
    {
     "name": "stdout",
     "output_type": "stream",
     "text": [
      "第79次循环\n",
      "参数错误: (9, 0, 6)\n",
      "第79次循环\n",
      "参数错误: (9, 0, 7)\n",
      "第79次循环\n",
      "参数错误: (9, 0, 8)\n",
      "第79次循环\n",
      "参数错误: (9, 0, 9)\n"
     ]
    },
    {
     "name": "stderr",
     "output_type": "stream",
     "text": [
      "C:\\Users\\admin\\AppData\\Roaming\\Python\\Python36\\site-packages\\statsmodels\\tsa\\base\\tsa_model.py:162: ValueWarning: No frequency information was provided, so inferred frequency D will be used.\n",
      "  % freq, ValueWarning)\n",
      "C:\\Users\\admin\\AppData\\Roaming\\Python\\Python36\\site-packages\\statsmodels\\tsa\\base\\tsa_model.py:162: ValueWarning: No frequency information was provided, so inferred frequency D will be used.\n",
      "  % freq, ValueWarning)\n",
      "C:\\Users\\admin\\AppData\\Roaming\\Python\\Python36\\site-packages\\statsmodels\\tsa\\base\\tsa_model.py:162: ValueWarning: No frequency information was provided, so inferred frequency D will be used.\n",
      "  % freq, ValueWarning)\n",
      "C:\\Users\\admin\\AppData\\Roaming\\Python\\Python36\\site-packages\\statsmodels\\tsa\\base\\tsa_model.py:162: ValueWarning: No frequency information was provided, so inferred frequency D will be used.\n",
      "  % freq, ValueWarning)\n"
     ]
    },
    {
     "name": "stdout",
     "output_type": "stream",
     "text": [
      "最优模型:                                ARMA Model Results                              \n",
      "==============================================================================\n",
      "Dep. Variable:     total_purchase_amt   No. Observations:                  427\n",
      "Model:                     ARMA(9, 4)   Log Likelihood               -8332.745\n",
      "Method:                       css-mle   S.D. of innovations       71737768.427\n",
      "Date:                Mon, 30 Nov 2020   AIC                          16695.490\n",
      "Time:                        15:37:10   BIC                          16756.342\n",
      "Sample:                    07-01-2013   HQIC                         16719.525\n",
      "                         - 08-31-2014                                         \n",
      "============================================================================================\n",
      "                               coef    std err          z      P>|z|      [0.025      0.975]\n",
      "--------------------------------------------------------------------------------------------\n",
      "const                     2.168e+08   9.58e+07      2.263      0.024    2.91e+07    4.05e+08\n",
      "ar.L1.total_purchase_amt     2.1154      0.117     18.022      0.000       1.885       2.345\n",
      "ar.L2.total_purchase_amt    -1.5704      0.321     -4.894      0.000      -2.199      -0.942\n",
      "ar.L3.total_purchase_amt    -0.0076      0.401     -0.019      0.985      -0.794       0.779\n",
      "ar.L4.total_purchase_amt     0.7696      0.290      2.653      0.008       0.201       1.338\n",
      "ar.L5.total_purchase_amt    -0.4595      0.164     -2.798      0.005      -0.781      -0.138\n",
      "ar.L6.total_purchase_amt     0.1410      0.135      1.042      0.297      -0.124       0.406\n",
      "ar.L7.total_purchase_amt     0.2282      0.133      1.711      0.087      -0.033       0.490\n",
      "ar.L8.total_purchase_amt    -0.5105      0.112     -4.545      0.000      -0.731      -0.290\n",
      "ar.L9.total_purchase_amt     0.2906      0.048      5.995      0.000       0.196       0.386\n",
      "ma.L1.total_purchase_amt    -1.5324      0.117    -13.078      0.000      -1.762      -1.303\n",
      "ma.L2.total_purchase_amt     0.6526      0.255      2.556      0.011       0.152       1.153\n",
      "ma.L3.total_purchase_amt     0.5552      0.249      2.226      0.026       0.066       1.044\n",
      "ma.L4.total_purchase_amt    -0.5505      0.104     -5.314      0.000      -0.754      -0.347\n",
      "                                    Roots                                    \n",
      "=============================================================================\n",
      "                  Real          Imaginary           Modulus         Frequency\n",
      "-----------------------------------------------------------------------------\n",
      "AR.1           -1.1604           -0.4402j            1.2411           -0.4423\n",
      "AR.2           -1.1604           +0.4402j            1.2411            0.4423\n",
      "AR.3           -0.1543           -1.2659j            1.2753           -0.2693\n",
      "AR.4           -0.1543           +1.2659j            1.2753            0.2693\n",
      "AR.5            0.6314           -0.7849j            1.0073           -0.1422\n",
      "AR.6            0.6314           +0.7849j            1.0073            0.1422\n",
      "AR.7            1.0593           -0.4749j            1.1608           -0.0671\n",
      "AR.8            1.0593           +0.4749j            1.1608            0.0671\n",
      "AR.9            1.0048           -0.0000j            1.0048           -0.0000\n",
      "MA.1           -1.5136           -0.0000j            1.5136           -0.5000\n",
      "MA.2            0.6938           -0.7593j            1.0285           -0.1322\n",
      "MA.3            0.6938           +0.7593j            1.0285            0.1322\n",
      "MA.4            1.1345           -0.0000j            1.1345           -0.0000\n",
      "-----------------------------------------------------------------------------\n"
     ]
    }
   ],
   "source": [
    "from statsmodels.tsa.arima_model import ARIMA\n",
    "from itertools import product\n",
    "from sklearn.model_selection import learning_curve,GridSearchCV\n",
    "# p,d,q其中d=1\n",
    "\n",
    "# 设置参数范围\n",
    "ps = range(0, 10)\n",
    "qs = range(0, 10)\n",
    "ds = range(0, 1)\n",
    "parameters = product(ps, ds, qs)\n",
    "parameters_list = list(parameters)\n",
    "# 寻找最优ARIMA模型参数，即best_aic最小\n",
    "results = []\n",
    "best_aic = float(\"inf\") # 正无穷\n",
    "i=1\n",
    "for param in parameters_list:\n",
    "    print('第{}次循环'.format(i))\n",
    "    try:\n",
    "        # SARIMAX 包含季节趋势因素的ARIMA模型\n",
    "        model = ARIMA(purchase,order=(param[0], param[1], param[2])).fit()\n",
    "\n",
    "    except ValueError:\n",
    "        print('参数错误:', param)\n",
    "        continue\n",
    "    aic = model.aic\n",
    "    if aic < best_aic:\n",
    "        best_model = model\n",
    "        best_aic = aic\n",
    "        best_param = param\n",
    "    results.append([param, model.aic])\n",
    "    i+=1\n",
    "# 输出最优模型\n",
    "print('最优模型: ', best_model.summary())\n",
    "\n"
   ]
  },
  {
   "cell_type": "code",
   "execution_count": 17,
   "metadata": {},
   "outputs": [
    {
     "name": "stderr",
     "output_type": "stream",
     "text": [
      "C:\\Users\\admin\\AppData\\Roaming\\Python\\Python36\\site-packages\\statsmodels\\tsa\\base\\tsa_model.py:162: ValueWarning: No frequency information was provided, so inferred frequency D will be used.\n",
      "  % freq, ValueWarning)\n",
      "C:\\Users\\admin\\AppData\\Roaming\\Python\\Python36\\site-packages\\statsmodels\\tsa\\base\\tsa_model.py:162: ValueWarning: No frequency information was provided, so inferred frequency D will be used.\n",
      "  % freq, ValueWarning)\n"
     ]
    },
    {
     "data": {
      "text/plain": [
       "2014-09-01    3.181209e+08\n",
       "2014-09-02    3.281642e+08\n",
       "2014-09-03    3.089999e+08\n",
       "2014-09-04    2.572063e+08\n",
       "2014-09-05    2.284246e+08\n",
       "2014-09-06    2.045706e+08\n",
       "2014-09-07    2.419994e+08\n",
       "2014-09-08    2.836054e+08\n",
       "2014-09-09    3.136331e+08\n",
       "2014-09-10    3.005516e+08\n",
       "2014-09-11    2.639080e+08\n",
       "2014-09-12    2.312889e+08\n",
       "2014-09-13    2.245305e+08\n",
       "2014-09-14    2.548090e+08\n",
       "2014-09-15    2.961682e+08\n",
       "2014-09-16    3.220720e+08\n",
       "2014-09-17    3.101161e+08\n",
       "2014-09-18    2.726888e+08\n",
       "2014-09-19    2.365145e+08\n",
       "2014-09-20    2.287316e+08\n",
       "2014-09-21    2.547156e+08\n",
       "2014-09-22    2.947057e+08\n",
       "2014-09-23    3.196762e+08\n",
       "2014-09-24    3.110034e+08\n",
       "2014-09-25    2.766563e+08\n",
       "2014-09-26    2.426236e+08\n",
       "2014-09-27    2.349973e+08\n",
       "2014-09-28    2.594247e+08\n",
       "2014-09-29    2.979944e+08\n",
       "2014-09-30    3.224251e+08\n",
       "Freq: D, dtype: float64"
      ]
     },
     "execution_count": 17,
     "metadata": {},
     "output_type": "execute_result"
    }
   ],
   "source": [
    "model = ARIMA(purchase,order=(9,1,4)).fit()\n",
    "# 使用typ='levels' 对原始数据维度上进行预测，相当于进行了反差分\n",
    "purchase_pred = model.predict('2014-09-01','2014-09-30',typ='levels')\n",
    "purchase_pred"
   ]
  },
  {
   "cell_type": "code",
   "execution_count": 18,
   "metadata": {},
   "outputs": [
    {
     "data": {
      "text/plain": [
       "16655.15709270983"
      ]
     },
     "execution_count": 18,
     "metadata": {},
     "output_type": "execute_result"
    }
   ],
   "source": [
    "model.aic #越小越好"
   ]
  },
  {
   "cell_type": "code",
   "execution_count": 19,
   "metadata": {},
   "outputs": [
    {
     "name": "stderr",
     "output_type": "stream",
     "text": [
      "C:\\Users\\admin\\AppData\\Roaming\\Python\\Python36\\site-packages\\statsmodels\\tsa\\base\\tsa_model.py:162: ValueWarning: No frequency information was provided, so inferred frequency D will be used.\n",
      "  % freq, ValueWarning)\n",
      "C:\\Users\\admin\\AppData\\Roaming\\Python\\Python36\\site-packages\\statsmodels\\tsa\\base\\tsa_model.py:162: ValueWarning: No frequency information was provided, so inferred frequency D will be used.\n",
      "  % freq, ValueWarning)\n",
      "C:\\Users\\admin\\AppData\\Roaming\\Python\\Python36\\site-packages\\statsmodels\\tsa\\tsatools.py:689: RuntimeWarning: overflow encountered in exp\n",
      "  newparams = ((1-np.exp(-params))/(1+np.exp(-params))).copy()\n",
      "C:\\Users\\admin\\AppData\\Roaming\\Python\\Python36\\site-packages\\statsmodels\\tsa\\tsatools.py:689: RuntimeWarning: invalid value encountered in true_divide\n",
      "  newparams = ((1-np.exp(-params))/(1+np.exp(-params))).copy()\n",
      "C:\\Users\\admin\\AppData\\Roaming\\Python\\Python36\\site-packages\\statsmodels\\tsa\\tsatools.py:690: RuntimeWarning: overflow encountered in exp\n",
      "  tmp = ((1-np.exp(-params))/(1+np.exp(-params))).copy()\n",
      "C:\\Users\\admin\\AppData\\Roaming\\Python\\Python36\\site-packages\\statsmodels\\tsa\\tsatools.py:690: RuntimeWarning: invalid value encountered in true_divide\n",
      "  tmp = ((1-np.exp(-params))/(1+np.exp(-params))).copy()\n",
      "C:\\Users\\admin\\AppData\\Roaming\\Python\\Python36\\site-packages\\statsmodels\\base\\model.py:548: HessianInversionWarning: Inverting hessian failed, no bse or cov_params available\n",
      "  'available', HessianInversionWarning)\n",
      "C:\\Users\\admin\\AppData\\Roaming\\Python\\Python36\\site-packages\\statsmodels\\base\\model.py:568: ConvergenceWarning: Maximum Likelihood optimization failed to converge. Check mle_retvals\n",
      "  \"Check mle_retvals\", ConvergenceWarning)\n"
     ]
    },
    {
     "data": {
      "text/plain": [
       "2014-09-01    2.849093e+08\n",
       "2014-09-02    3.107281e+08\n",
       "2014-09-03    3.252729e+08\n",
       "2014-09-04    2.970501e+08\n",
       "2014-09-05    2.327450e+08\n",
       "2014-09-06    2.048514e+08\n",
       "2014-09-07    2.363191e+08\n",
       "2014-09-08    2.883918e+08\n",
       "2014-09-09    3.244628e+08\n",
       "2014-09-10    3.308337e+08\n",
       "2014-09-11    2.979443e+08\n",
       "2014-09-12    2.489066e+08\n",
       "2014-09-13    2.210997e+08\n",
       "2014-09-14    2.429546e+08\n",
       "2014-09-15    2.924717e+08\n",
       "2014-09-16    3.348743e+08\n",
       "2014-09-17    3.371792e+08\n",
       "2014-09-18    3.023099e+08\n",
       "2014-09-19    2.518969e+08\n",
       "2014-09-20    2.274582e+08\n",
       "2014-09-21    2.452222e+08\n",
       "2014-09-22    2.957865e+08\n",
       "2014-09-23    3.375856e+08\n",
       "2014-09-24    3.433539e+08\n",
       "2014-09-25    3.061767e+08\n",
       "2014-09-26    2.578075e+08\n",
       "2014-09-27    2.313834e+08\n",
       "2014-09-28    2.508561e+08\n",
       "2014-09-29    2.987885e+08\n",
       "2014-09-30    3.430741e+08\n",
       "Freq: D, dtype: float64"
      ]
     },
     "execution_count": 19,
     "metadata": {},
     "output_type": "execute_result"
    }
   ],
   "source": [
    "# p,d,q其中d=1\n",
    "model2 = ARIMA(redeem,order=(9,1,4)).fit()\n",
    "# 使用typ='levels' 对原始数据维度上进行预测，相当于进行了反差分\n",
    "redeem_pred = model2.predict('2014-09-01','2014-09-30',typ='levels')\n",
    "redeem_pred"
   ]
  },
  {
   "cell_type": "code",
   "execution_count": 20,
   "metadata": {},
   "outputs": [
    {
     "data": {
      "text/plain": [
       "16527.542872525803"
      ]
     },
     "execution_count": 20,
     "metadata": {},
     "output_type": "execute_result"
    }
   ],
   "source": [
    "model2.aic #越小越好"
   ]
  },
  {
   "cell_type": "code",
   "execution_count": 21,
   "metadata": {},
   "outputs": [
    {
     "data": {
      "image/png": "[encoded data removed]",
      "text/plain": [
       "<Figure size 1080x360 with 1 Axes>"
      ]
     },
     "metadata": {
      "needs_background": "light"
     },
     "output_type": "display_data"
    },
    {
     "data": {
      "image/png": "[encoded data removed]",
      "text/plain": [
       "<Figure size 1080x360 with 1 Axes>"
      ]
     },
     "metadata": {
      "needs_background": "light"
     },
     "output_type": "display_data"
    }
   ],
   "source": [
    "plt.figure(figsize=(15,5))\n",
    "plt.title('Purchase Prediction')\n",
    "plt.plot(purchase_pred)\n",
    "plt.show()\n",
    "\n",
    "plt.figure(figsize=(15,5))\n",
    "plt.title('Redeem Prediction')\n",
    "plt.plot(redeem_pred)\n",
    "plt.show()"
   ]
  },
  {
   "cell_type": "code",
   "execution_count": 22,
   "metadata": {},
   "outputs": [
    {
     "data": {
      "text/html": [
       "<div>\n",
       "<style scoped>\n",
       "    .dataframe tbody tr th:only-of-type {\n",
       "        vertical-align: middle;\n",
       "    }\n",
       "\n",
       "    .dataframe tbody tr th {\n",
       "        vertical-align: top;\n",
       "    }\n",
       "\n",
       "    .dataframe thead th {\n",
       "        text-align: right;\n",
       "    }\n",
       "</style>\n",
       "<table border=\"1\" class=\"dataframe\">\n",
       "  <thead>\n",
       "    <tr style=\"text-align: right;\">\n",
       "      <th></th>\n",
       "      <th>date</th>\n",
       "      <th>purchase</th>\n",
       "      <th>redeem</th>\n",
       "    </tr>\n",
       "  </thead>\n",
       "  <tbody>\n",
       "    <tr>\n",
       "      <th>0</th>\n",
       "      <td>2014-09-01</td>\n",
       "      <td>3.181209e+08</td>\n",
       "      <td>2.849093e+08</td>\n",
       "    </tr>\n",
       "    <tr>\n",
       "      <th>1</th>\n",
       "      <td>2014-09-02</td>\n",
       "      <td>3.281642e+08</td>\n",
       "      <td>3.107281e+08</td>\n",
       "    </tr>\n",
       "    <tr>\n",
       "      <th>2</th>\n",
       "      <td>2014-09-03</td>\n",
       "      <td>3.089999e+08</td>\n",
       "      <td>3.252729e+08</td>\n",
       "    </tr>\n",
       "    <tr>\n",
       "      <th>3</th>\n",
       "      <td>2014-09-04</td>\n",
       "      <td>2.572063e+08</td>\n",
       "      <td>2.970501e+08</td>\n",
       "    </tr>\n",
       "    <tr>\n",
       "      <th>4</th>\n",
       "      <td>2014-09-05</td>\n",
       "      <td>2.284246e+08</td>\n",
       "      <td>2.327450e+08</td>\n",
       "    </tr>\n",
       "    <tr>\n",
       "      <th>5</th>\n",
       "      <td>2014-09-06</td>\n",
       "      <td>2.045706e+08</td>\n",
       "      <td>2.048514e+08</td>\n",
       "    </tr>\n",
       "    <tr>\n",
       "      <th>6</th>\n",
       "      <td>2014-09-07</td>\n",
       "      <td>2.419994e+08</td>\n",
       "      <td>2.363191e+08</td>\n",
       "    </tr>\n",
       "    <tr>\n",
       "      <th>7</th>\n",
       "      <td>2014-09-08</td>\n",
       "      <td>2.836054e+08</td>\n",
       "      <td>2.883918e+08</td>\n",
       "    </tr>\n",
       "    <tr>\n",
       "      <th>8</th>\n",
       "      <td>2014-09-09</td>\n",
       "      <td>3.136331e+08</td>\n",
       "      <td>3.244628e+08</td>\n",
       "    </tr>\n",
       "    <tr>\n",
       "      <th>9</th>\n",
       "      <td>2014-09-10</td>\n",
       "      <td>3.005516e+08</td>\n",
       "      <td>3.308337e+08</td>\n",
       "    </tr>\n",
       "    <tr>\n",
       "      <th>10</th>\n",
       "      <td>2014-09-11</td>\n",
       "      <td>2.639080e+08</td>\n",
       "      <td>2.979443e+08</td>\n",
       "    </tr>\n",
       "    <tr>\n",
       "      <th>11</th>\n",
       "      <td>2014-09-12</td>\n",
       "      <td>2.312889e+08</td>\n",
       "      <td>2.489066e+08</td>\n",
       "    </tr>\n",
       "    <tr>\n",
       "      <th>12</th>\n",
       "      <td>2014-09-13</td>\n",
       "      <td>2.245305e+08</td>\n",
       "      <td>2.210997e+08</td>\n",
       "    </tr>\n",
       "    <tr>\n",
       "      <th>13</th>\n",
       "      <td>2014-09-14</td>\n",
       "      <td>2.548090e+08</td>\n",
       "      <td>2.429546e+08</td>\n",
       "    </tr>\n",
       "    <tr>\n",
       "      <th>14</th>\n",
       "      <td>2014-09-15</td>\n",
       "      <td>2.961682e+08</td>\n",
       "      <td>2.924717e+08</td>\n",
       "    </tr>\n",
       "    <tr>\n",
       "      <th>15</th>\n",
       "      <td>2014-09-16</td>\n",
       "      <td>3.220720e+08</td>\n",
       "      <td>3.348743e+08</td>\n",
       "    </tr>\n",
       "    <tr>\n",
       "      <th>16</th>\n",
       "      <td>2014-09-17</td>\n",
       "      <td>3.101161e+08</td>\n",
       "      <td>3.371792e+08</td>\n",
       "    </tr>\n",
       "    <tr>\n",
       "      <th>17</th>\n",
       "      <td>2014-09-18</td>\n",
       "      <td>2.726888e+08</td>\n",
       "      <td>3.023099e+08</td>\n",
       "    </tr>\n",
       "    <tr>\n",
       "      <th>18</th>\n",
       "      <td>2014-09-19</td>\n",
       "      <td>2.365145e+08</td>\n",
       "      <td>2.518969e+08</td>\n",
       "    </tr>\n",
       "    <tr>\n",
       "      <th>19</th>\n",
       "      <td>2014-09-20</td>\n",
       "      <td>2.287316e+08</td>\n",
       "      <td>2.274582e+08</td>\n",
       "    </tr>\n",
       "    <tr>\n",
       "      <th>20</th>\n",
       "      <td>2014-09-21</td>\n",
       "      <td>2.547156e+08</td>\n",
       "      <td>2.452222e+08</td>\n",
       "    </tr>\n",
       "    <tr>\n",
       "      <th>21</th>\n",
       "      <td>2014-09-22</td>\n",
       "      <td>2.947057e+08</td>\n",
       "      <td>2.957865e+08</td>\n",
       "    </tr>\n",
       "    <tr>\n",
       "      <th>22</th>\n",
       "      <td>2014-09-23</td>\n",
       "      <td>3.196762e+08</td>\n",
       "      <td>3.375856e+08</td>\n",
       "    </tr>\n",
       "    <tr>\n",
       "      <th>23</th>\n",
       "      <td>2014-09-24</td>\n",
       "      <td>3.110034e+08</td>\n",
       "      <td>3.433539e+08</td>\n",
       "    </tr>\n",
       "    <tr>\n",
       "      <th>24</th>\n",
       "      <td>2014-09-25</td>\n",
       "      <td>2.766563e+08</td>\n",
       "      <td>3.061767e+08</td>\n",
       "    </tr>\n",
       "    <tr>\n",
       "      <th>25</th>\n",
       "      <td>2014-09-26</td>\n",
       "      <td>2.426236e+08</td>\n",
       "      <td>2.578075e+08</td>\n",
       "    </tr>\n",
       "    <tr>\n",
       "      <th>26</th>\n",
       "      <td>2014-09-27</td>\n",
       "      <td>2.349973e+08</td>\n",
       "      <td>2.313834e+08</td>\n",
       "    </tr>\n",
       "    <tr>\n",
       "      <th>27</th>\n",
       "      <td>2014-09-28</td>\n",
       "      <td>2.594247e+08</td>\n",
       "      <td>2.508561e+08</td>\n",
       "    </tr>\n",
       "    <tr>\n",
       "      <th>28</th>\n",
       "      <td>2014-09-29</td>\n",
       "      <td>2.979944e+08</td>\n",
       "      <td>2.987885e+08</td>\n",
       "    </tr>\n",
       "    <tr>\n",
       "      <th>29</th>\n",
       "      <td>2014-09-30</td>\n",
       "      <td>3.224251e+08</td>\n",
       "      <td>3.430741e+08</td>\n",
       "    </tr>\n",
       "  </tbody>\n",
       "</table>\n",
       "</div>"
      ],
      "text/plain": [
       "         date      purchase        redeem\n",
       "0  2014-09-01  3.181209e+08  2.849093e+08\n",
       "1  2014-09-02  3.281642e+08  3.107281e+08\n",
       "2  2014-09-03  3.089999e+08  3.252729e+08\n",
       "3  2014-09-04  2.572063e+08  2.970501e+08\n",
       "4  2014-09-05  2.284246e+08  2.327450e+08\n",
       "5  2014-09-06  2.045706e+08  2.048514e+08\n",
       "6  2014-09-07  2.419994e+08  2.363191e+08\n",
       "7  2014-09-08  2.836054e+08  2.883918e+08\n",
       "8  2014-09-09  3.136331e+08  3.244628e+08\n",
       "9  2014-09-10  3.005516e+08  3.308337e+08\n",
       "10 2014-09-11  2.639080e+08  2.979443e+08\n",
       "11 2014-09-12  2.312889e+08  2.489066e+08\n",
       "12 2014-09-13  2.245305e+08  2.210997e+08\n",
       "13 2014-09-14  2.548090e+08  2.429546e+08\n",
       "14 2014-09-15  2.961682e+08  2.924717e+08\n",
       "15 2014-09-16  3.220720e+08  3.348743e+08\n",
       "16 2014-09-17  3.101161e+08  3.371792e+08\n",
       "17 2014-09-18  2.726888e+08  3.023099e+08\n",
       "18 2014-09-19  2.365145e+08  2.518969e+08\n",
       "19 2014-09-20  2.287316e+08  2.274582e+08\n",
       "20 2014-09-21  2.547156e+08  2.452222e+08\n",
       "21 2014-09-22  2.947057e+08  2.957865e+08\n",
       "22 2014-09-23  3.196762e+08  3.375856e+08\n",
       "23 2014-09-24  3.110034e+08  3.433539e+08\n",
       "24 2014-09-25  2.766563e+08  3.061767e+08\n",
       "25 2014-09-26  2.426236e+08  2.578075e+08\n",
       "26 2014-09-27  2.349973e+08  2.313834e+08\n",
       "27 2014-09-28  2.594247e+08  2.508561e+08\n",
       "28 2014-09-29  2.979944e+08  2.987885e+08\n",
       "29 2014-09-30  3.224251e+08  3.430741e+08"
      ]
     },
     "execution_count": 22,
     "metadata": {},
     "output_type": "execute_result"
    }
   ],
   "source": [
    "result = pd.DataFrame()\n",
    "result['date'] = purchase_pred.index\n",
    "result['purchase'] = purchase_pred.values\n",
    "result['redeem'] = redeem_pred.values\n",
    "result"
   ]
  },
  {
   "cell_type": "code",
   "execution_count": 23,
   "metadata": {},
   "outputs": [
    {
     "data": {
      "text/html": [
       "<div>\n",
       "<style scoped>\n",
       "    .dataframe tbody tr th:only-of-type {\n",
       "        vertical-align: middle;\n",
       "    }\n",
       "\n",
       "    .dataframe tbody tr th {\n",
       "        vertical-align: top;\n",
       "    }\n",
       "\n",
       "    .dataframe thead th {\n",
       "        text-align: right;\n",
       "    }\n",
       "</style>\n",
       "<table border=\"1\" class=\"dataframe\">\n",
       "  <thead>\n",
       "    <tr style=\"text-align: right;\">\n",
       "      <th></th>\n",
       "      <th>date</th>\n",
       "      <th>purchase</th>\n",
       "      <th>redeem</th>\n",
       "    </tr>\n",
       "  </thead>\n",
       "  <tbody>\n",
       "    <tr>\n",
       "      <th>0</th>\n",
       "      <td>20140901</td>\n",
       "      <td>3.181209e+08</td>\n",
       "      <td>2.849093e+08</td>\n",
       "    </tr>\n",
       "    <tr>\n",
       "      <th>1</th>\n",
       "      <td>20140902</td>\n",
       "      <td>3.281642e+08</td>\n",
       "      <td>3.107281e+08</td>\n",
       "    </tr>\n",
       "    <tr>\n",
       "      <th>2</th>\n",
       "      <td>20140903</td>\n",
       "      <td>3.089999e+08</td>\n",
       "      <td>3.252729e+08</td>\n",
       "    </tr>\n",
       "    <tr>\n",
       "      <th>3</th>\n",
       "      <td>20140904</td>\n",
       "      <td>2.572063e+08</td>\n",
       "      <td>2.970501e+08</td>\n",
       "    </tr>\n",
       "    <tr>\n",
       "      <th>4</th>\n",
       "      <td>20140905</td>\n",
       "      <td>2.284246e+08</td>\n",
       "      <td>2.327450e+08</td>\n",
       "    </tr>\n",
       "    <tr>\n",
       "      <th>5</th>\n",
       "      <td>20140906</td>\n",
       "      <td>2.045706e+08</td>\n",
       "      <td>2.048514e+08</td>\n",
       "    </tr>\n",
       "    <tr>\n",
       "      <th>6</th>\n",
       "      <td>20140907</td>\n",
       "      <td>2.419994e+08</td>\n",
       "      <td>2.363191e+08</td>\n",
       "    </tr>\n",
       "    <tr>\n",
       "      <th>7</th>\n",
       "      <td>20140908</td>\n",
       "      <td>2.836054e+08</td>\n",
       "      <td>2.883918e+08</td>\n",
       "    </tr>\n",
       "    <tr>\n",
       "      <th>8</th>\n",
       "      <td>20140909</td>\n",
       "      <td>3.136331e+08</td>\n",
       "      <td>3.244628e+08</td>\n",
       "    </tr>\n",
       "    <tr>\n",
       "      <th>9</th>\n",
       "      <td>20140910</td>\n",
       "      <td>3.005516e+08</td>\n",
       "      <td>3.308337e+08</td>\n",
       "    </tr>\n",
       "    <tr>\n",
       "      <th>10</th>\n",
       "      <td>20140911</td>\n",
       "      <td>2.639080e+08</td>\n",
       "      <td>2.979443e+08</td>\n",
       "    </tr>\n",
       "    <tr>\n",
       "      <th>11</th>\n",
       "      <td>20140912</td>\n",
       "      <td>2.312889e+08</td>\n",
       "      <td>2.489066e+08</td>\n",
       "    </tr>\n",
       "    <tr>\n",
       "      <th>12</th>\n",
       "      <td>20140913</td>\n",
       "      <td>2.245305e+08</td>\n",
       "      <td>2.210997e+08</td>\n",
       "    </tr>\n",
       "    <tr>\n",
       "      <th>13</th>\n",
       "      <td>20140914</td>\n",
       "      <td>2.548090e+08</td>\n",
       "      <td>2.429546e+08</td>\n",
       "    </tr>\n",
       "    <tr>\n",
       "      <th>14</th>\n",
       "      <td>20140915</td>\n",
       "      <td>2.961682e+08</td>\n",
       "      <td>2.924717e+08</td>\n",
       "    </tr>\n",
       "    <tr>\n",
       "      <th>15</th>\n",
       "      <td>20140916</td>\n",
       "      <td>3.220720e+08</td>\n",
       "      <td>3.348743e+08</td>\n",
       "    </tr>\n",
       "    <tr>\n",
       "      <th>16</th>\n",
       "      <td>20140917</td>\n",
       "      <td>3.101161e+08</td>\n",
       "      <td>3.371792e+08</td>\n",
       "    </tr>\n",
       "    <tr>\n",
       "      <th>17</th>\n",
       "      <td>20140918</td>\n",
       "      <td>2.726888e+08</td>\n",
       "      <td>3.023099e+08</td>\n",
       "    </tr>\n",
       "    <tr>\n",
       "      <th>18</th>\n",
       "      <td>20140919</td>\n",
       "      <td>2.365145e+08</td>\n",
       "      <td>2.518969e+08</td>\n",
       "    </tr>\n",
       "    <tr>\n",
       "      <th>19</th>\n",
       "      <td>20140920</td>\n",
       "      <td>2.287316e+08</td>\n",
       "      <td>2.274582e+08</td>\n",
       "    </tr>\n",
       "    <tr>\n",
       "      <th>20</th>\n",
       "      <td>20140921</td>\n",
       "      <td>2.547156e+08</td>\n",
       "      <td>2.452222e+08</td>\n",
       "    </tr>\n",
       "    <tr>\n",
       "      <th>21</th>\n",
       "      <td>20140922</td>\n",
       "      <td>2.947057e+08</td>\n",
       "      <td>2.957865e+08</td>\n",
       "    </tr>\n",
       "    <tr>\n",
       "      <th>22</th>\n",
       "      <td>20140923</td>\n",
       "      <td>3.196762e+08</td>\n",
       "      <td>3.375856e+08</td>\n",
       "    </tr>\n",
       "    <tr>\n",
       "      <th>23</th>\n",
       "      <td>20140924</td>\n",
       "      <td>3.110034e+08</td>\n",
       "      <td>3.433539e+08</td>\n",
       "    </tr>\n",
       "    <tr>\n",
       "      <th>24</th>\n",
       "      <td>20140925</td>\n",
       "      <td>2.766563e+08</td>\n",
       "      <td>3.061767e+08</td>\n",
       "    </tr>\n",
       "    <tr>\n",
       "      <th>25</th>\n",
       "      <td>20140926</td>\n",
       "      <td>2.426236e+08</td>\n",
       "      <td>2.578075e+08</td>\n",
       "    </tr>\n",
       "    <tr>\n",
       "      <th>26</th>\n",
       "      <td>20140927</td>\n",
       "      <td>2.349973e+08</td>\n",
       "      <td>2.313834e+08</td>\n",
       "    </tr>\n",
       "    <tr>\n",
       "      <th>27</th>\n",
       "      <td>20140928</td>\n",
       "      <td>2.594247e+08</td>\n",
       "      <td>2.508561e+08</td>\n",
       "    </tr>\n",
       "    <tr>\n",
       "      <th>28</th>\n",
       "      <td>20140929</td>\n",
       "      <td>2.979944e+08</td>\n",
       "      <td>2.987885e+08</td>\n",
       "    </tr>\n",
       "    <tr>\n",
       "      <th>29</th>\n",
       "      <td>20140930</td>\n",
       "      <td>3.224251e+08</td>\n",
       "      <td>3.430741e+08</td>\n",
       "    </tr>\n",
       "  </tbody>\n",
       "</table>\n",
       "</div>"
      ],
      "text/plain": [
       "        date      purchase        redeem\n",
       "0   20140901  3.181209e+08  2.849093e+08\n",
       "1   20140902  3.281642e+08  3.107281e+08\n",
       "2   20140903  3.089999e+08  3.252729e+08\n",
       "3   20140904  2.572063e+08  2.970501e+08\n",
       "4   20140905  2.284246e+08  2.327450e+08\n",
       "5   20140906  2.045706e+08  2.048514e+08\n",
       "6   20140907  2.419994e+08  2.363191e+08\n",
       "7   20140908  2.836054e+08  2.883918e+08\n",
       "8   20140909  3.136331e+08  3.244628e+08\n",
       "9   20140910  3.005516e+08  3.308337e+08\n",
       "10  20140911  2.639080e+08  2.979443e+08\n",
       "11  20140912  2.312889e+08  2.489066e+08\n",
       "12  20140913  2.245305e+08  2.210997e+08\n",
       "13  20140914  2.548090e+08  2.429546e+08\n",
       "14  20140915  2.961682e+08  2.924717e+08\n",
       "15  20140916  3.220720e+08  3.348743e+08\n",
       "16  20140917  3.101161e+08  3.371792e+08\n",
       "17  20140918  2.726888e+08  3.023099e+08\n",
       "18  20140919  2.365145e+08  2.518969e+08\n",
       "19  20140920  2.287316e+08  2.274582e+08\n",
       "20  20140921  2.547156e+08  2.452222e+08\n",
       "21  20140922  2.947057e+08  2.957865e+08\n",
       "22  20140923  3.196762e+08  3.375856e+08\n",
       "23  20140924  3.110034e+08  3.433539e+08\n",
       "24  20140925  2.766563e+08  3.061767e+08\n",
       "25  20140926  2.426236e+08  2.578075e+08\n",
       "26  20140927  2.349973e+08  2.313834e+08\n",
       "27  20140928  2.594247e+08  2.508561e+08\n",
       "28  20140929  2.979944e+08  2.987885e+08\n",
       "29  20140930  3.224251e+08  3.430741e+08"
      ]
     },
     "execution_count": 23,
     "metadata": {},
     "output_type": "execute_result"
    }
   ],
   "source": [
    "#将日期格式转换为预测结果提交要求的格式\n",
    "result['date'] = result['date'].apply(lambda x:str(x).replace('-','')[0:8])\n",
    "result"
   ]
  },
  {
   "cell_type": "code",
   "execution_count": 24,
   "metadata": {},
   "outputs": [],
   "source": [
    "result.to_csv('arima.csv',header=None,index=False)"
   ]
  },
  {
   "cell_type": "code",
   "execution_count": null,
   "metadata": {},
   "outputs": [],
   "source": []
  }
 ],
 "metadata": {
  "kernelspec": {
   "display_name": "Python 3",
   "language": "python",
   "name": "python3"
  },
  "language_info": {
   "codemirror_mode": {
    "name": "ipython",
    "version": 3
   },
   "file_extension": ".py",
   "mimetype": "text/x-python",
   "name": "python",
   "nbconvert_exporter": "python",
   "pygments_lexer": "ipython3",
   "version": "3.6.12"
  }
 },
 "nbformat": 4,
 "nbformat_minor": 4
}
