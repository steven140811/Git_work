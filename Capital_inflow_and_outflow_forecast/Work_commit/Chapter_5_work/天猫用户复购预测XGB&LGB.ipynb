{
 "cells": [
  {
   "cell_type": "markdown",
   "metadata": {},
   "source": [
    "### 天猫复购预测之挑战\n",
    "https://tianchi.aliyun.com/competition/entrance/231576/"
   ]
  },
  {
   "cell_type": "code",
   "execution_count": 1,
   "metadata": {},
   "outputs": [
    {
     "name": "stdout",
     "output_type": "stream",
     "text": [
      "Wall time: 59.5 s\n"
     ]
    },
    {
     "data": {
      "text/plain": [
       "\"\\n# 加载小样本\\nuser_log = pd.read_csv('./data_format1_small/sample_user_log.csv', dtype={'time_stamp':'str'})\\nuser_info = pd.read_csv('./data_format1_small/sample_user_info.csv')\\ntrain_data1 = pd.read_csv('./data_format1_small/train.csv')\\nsubmission = pd.read_csv('./data_format1_small/test.csv')\\ntrain_data = pd.read_csv('./data_format2/train_format2.csv')\\n\""
      ]
     },
     "execution_count": 1,
     "metadata": {},
     "output_type": "execute_result"
    }
   ],
   "source": [
    "%%time\n",
    "import gc\n",
    "import pandas as pd\n",
    "# 用户行为，使用format1进行加载\n",
    "# 加载全量样本\n",
    "\n",
    "user_log = pd.read_csv('./data_format1/user_log_format1.csv', dtype={'time_stamp':'str'})\n",
    "user_info = pd.read_csv('./data_format1/user_info_format1.csv')\n",
    "train_data1 = pd.read_csv('./data_format1/train_format1.csv')\n",
    "submission = pd.read_csv('./data_format1/test_format1.csv')\n",
    "train_data = pd.read_csv('./data_format2/train_format2.csv')\n",
    "\"\"\"\n",
    "# 加载小样本\n",
    "user_log = pd.read_csv('./data_format1_small/sample_user_log.csv', dtype={'time_stamp':'str'})\n",
    "user_info = pd.read_csv('./data_format1_small/sample_user_info.csv')\n",
    "train_data1 = pd.read_csv('./data_format1_small/train.csv')\n",
    "submission = pd.read_csv('./data_format1_small/test.csv')\n",
    "train_data = pd.read_csv('./data_format2/train_format2.csv')\n",
    "\"\"\""
   ]
  },
  {
   "cell_type": "code",
   "execution_count": 2,
   "metadata": {},
   "outputs": [
    {
     "name": "stdout",
     "output_type": "stream",
     "text": [
      "        user_id  merchant_id  label origin  prob\n",
      "0         34176         3906    0.0  train   NaN\n",
      "1         34176          121    0.0  train   NaN\n",
      "2         34176         4356    1.0  train   NaN\n",
      "3         34176         2217    0.0  train   NaN\n",
      "4        230784         4818    0.0  train   NaN\n",
      "...         ...          ...    ...    ...   ...\n",
      "522336   228479         3111    NaN   test   NaN\n",
      "522337    97919         2341    NaN   test   NaN\n",
      "522338    97919         3971    NaN   test   NaN\n",
      "522339    32639         3536    NaN   test   NaN\n",
      "522340    32639         3319    NaN   test   NaN\n",
      "\n",
      "[522341 rows x 5 columns]\n",
      "Wall time: 41.8 ms\n"
     ]
    }
   ],
   "source": [
    "%%time\n",
    "train_data1['origin'] = 'train'\n",
    "submission['origin'] = 'test'\n",
    "matrix = pd.concat([train_data1, submission], ignore_index=True, sort=False)\n",
    "print(matrix)"
   ]
  },
  {
   "cell_type": "code",
   "execution_count": 3,
   "metadata": {},
   "outputs": [
    {
     "name": "stdout",
     "output_type": "stream",
     "text": [
      "        user_id  merchant_id label origin  age_range  gender\n",
      "0         34176         3906   0.0  train          6       0\n",
      "1         34176          121   0.0  train          6       0\n",
      "2         34176         4356   1.0  train          6       0\n",
      "3         34176         2217   0.0  train          6       0\n",
      "4        230784         4818   0.0  train          0       0\n",
      "...         ...          ...   ...    ...        ...     ...\n",
      "522336   228479         3111   nan   test          6       0\n",
      "522337    97919         2341   nan   test          8       1\n",
      "522338    97919         3971   nan   test          8       1\n",
      "522339    32639         3536   nan   test          0       0\n",
      "522340    32639         3319   nan   test          0       0\n",
      "\n",
      "[522341 rows x 6 columns]\n",
      "Wall time: 11.9 s\n"
     ]
    }
   ],
   "source": [
    "%%time\n",
    "matrix.drop(['prob'], axis=1, inplace=True)\n",
    "# 连接user_info表，通过user_id关联\n",
    "matrix = matrix.merge(user_info, on='user_id', how='left')\n",
    "# 使用merchant_id（原列名seller_id）\n",
    "user_log.rename(columns={'seller_id':'merchant_id'}, inplace=True)\n",
    "# 格式化\n",
    "user_log['user_id'] = user_log['user_id'].astype('int32')\n",
    "user_log['merchant_id'] = user_log['merchant_id'].astype('int32')\n",
    "user_log['item_id'] = user_log['item_id'].astype('int32')\n",
    "user_log['cat_id'] = user_log['cat_id'].astype('int32')\n",
    "user_log['brand_id'].fillna(0, inplace=True)\n",
    "user_log['brand_id'] = user_log['brand_id'].astype('int32')\n",
    "user_log['time_stamp'] = pd.to_datetime(user_log['time_stamp'], format='%H%M')\n",
    "# 1 for <18; 2 for [18,24]; 3 for [25,29]; 4 for [30,34]; 5 for [35,39]; 6 for [40,49]; 7 and 8 for >= 50; 0 and NULL for unknown\n",
    "matrix['age_range'].fillna(0, inplace=True)\n",
    "# 0:female, 1:male, 2:unknown\n",
    "matrix['gender'].fillna(2, inplace=True)\n",
    "matrix['age_range'] = matrix['age_range'].astype('int8')\n",
    "matrix['gender'] = matrix['gender'].astype('int8')\n",
    "matrix['label'] = matrix['label'].astype('str')\n",
    "matrix['user_id'] = matrix['user_id'].astype('int32')\n",
    "matrix['merchant_id'] = matrix['merchant_id'].astype('int32')\n",
    "del user_info, train_data1\n",
    "gc.collect()\n",
    "print(matrix)"
   ]
  },
  {
   "cell_type": "code",
   "execution_count": 4,
   "metadata": {},
   "outputs": [
    {
     "name": "stdout",
     "output_type": "stream",
     "text": [
      "Wall time: 3min 29s\n"
     ]
    }
   ],
   "source": [
    "%%time\n",
    "# User特征处理\n",
    "groups = user_log.groupby(['user_id'])\n",
    "# 用户交互行为数量 u1\n",
    "temp = groups.size().reset_index().rename(columns={0:'u1'})\n",
    "matrix = matrix.merge(temp, on='user_id', how='left')\n",
    "# 使用agg 基于列的聚合操作，统计唯一值的个数 item_id, cat_id, merchant_id, brand_id\n",
    "#temp = groups['item_id', 'cat_id', 'merchant_id', 'brand_id'].nunique().reset_index().rename(columns={'item_id':'u2', 'cat_id':'u3', 'merchant_id':'u4', 'brand_id':'u5'})\n",
    "# 对于每个user_id 不重复的item_id的数量 => u2\n",
    "temp = groups['item_id'].agg([('u2', 'nunique')]).reset_index()\n",
    "matrix = matrix.merge(temp, on='user_id', how='left')\n",
    "# 对于每个user_id 不重复的cat_id的数量 => u3\n",
    "temp = groups['cat_id'].agg([('u3', 'nunique')]).reset_index()\n",
    "matrix = matrix.merge(temp, on='user_id', how='left')\n",
    "temp = groups['merchant_id'].agg([('u4', 'nunique')]).reset_index()\n",
    "matrix = matrix.merge(temp, on='user_id', how='left')\n",
    "temp = groups['brand_id'].agg([('u5', 'nunique')]).reset_index()\n",
    "matrix = matrix.merge(temp, on='user_id', how='left')\n"
   ]
  },
  {
   "cell_type": "code",
   "execution_count": 5,
   "metadata": {},
   "outputs": [
    {
     "name": "stdout",
     "output_type": "stream",
     "text": [
      "        user_id  merchant_id label origin  age_range  gender    u1    u2  u3  \\\n",
      "0         34176         3906   0.0  train          6       0   451   256  45   \n",
      "1         34176          121   0.0  train          6       0   451   256  45   \n",
      "2         34176         4356   1.0  train          6       0   451   256  45   \n",
      "3         34176         2217   0.0  train          6       0   451   256  45   \n",
      "4        230784         4818   0.0  train          0       0    54    31  17   \n",
      "...         ...          ...   ...    ...        ...     ...   ...   ...  ..   \n",
      "522336   228479         3111   nan   test          6       0  2004  1173  71   \n",
      "522337    97919         2341   nan   test          8       1    55    29  14   \n",
      "522338    97919         3971   nan   test          8       1    55    29  14   \n",
      "522339    32639         3536   nan   test          0       0    72    46  24   \n",
      "522340    32639         3319   nan   test          0       0    72    46  24   \n",
      "\n",
      "         u4   u5        u6      u7   u8    u9    u10  \n",
      "0       109  108  5.833333   410.0  NaN  34.0    7.0  \n",
      "1       109  108  5.833333   410.0  NaN  34.0    7.0  \n",
      "2       109  108  5.833333   410.0  NaN  34.0    7.0  \n",
      "3       109  108  5.833333   410.0  NaN  34.0    7.0  \n",
      "4        20   19  5.166667    47.0  NaN   7.0    NaN  \n",
      "...     ...  ...       ...     ...  ...   ...    ...  \n",
      "522336  278  282  6.000000  1770.0  NaN  26.0  208.0  \n",
      "522337   17   17  4.750000    46.0  NaN   8.0    1.0  \n",
      "522338   17   17  4.750000    46.0  NaN   8.0    1.0  \n",
      "522339   33   35  5.800000    62.0  1.0   8.0    1.0  \n",
      "522340   33   35  5.800000    62.0  1.0   8.0    1.0  \n",
      "\n",
      "[522341 rows x 16 columns]\n",
      "Wall time: 14 s\n"
     ]
    }
   ],
   "source": [
    "%%time\n",
    "# 时间间隔特征 u6 按照小时\n",
    "# 对于每个user_id 计算time_stamp的最小时间 => F_time, 最大时间max => L_time\n",
    "temp = groups['time_stamp'].agg([('F_time', 'min'), ('L_time', 'max')]).reset_index()\n",
    "temp['u6'] = (temp['L_time'] - temp['F_time']).dt.seconds/3600\n",
    "matrix = matrix.merge(temp[['user_id', 'u6']], on='user_id', how='left')\n",
    "# 统计操作类型为0，1，2，3的个数\n",
    "temp = groups['action_type'].value_counts().unstack().reset_index().rename(columns={0:'u7', 1:'u8', 2:'u9', 3:'u10'})\n",
    "matrix = matrix.merge(temp, on='user_id', how='left')\n",
    "print(matrix)"
   ]
  },
  {
   "cell_type": "code",
   "execution_count": 6,
   "metadata": {},
   "outputs": [
    {
     "name": "stderr",
     "output_type": "stream",
     "text": [
      "C:\\Users\\admin\\Anaconda3\\lib\\site-packages\\ipykernel_launcher.py:7: FutureWarning: Indexing with multiple keys (implicitly converted to a tuple of keys) will be deprecated, use a list instead.\n",
      "  import sys\n"
     ]
    },
    {
     "name": "stdout",
     "output_type": "stream",
     "text": [
      "        user_id  merchant_id label origin  age_range  gender    u1    u2  u3  \\\n",
      "0         34176         3906   0.0  train          6       0   451   256  45   \n",
      "1         34176          121   0.0  train          6       0   451   256  45   \n",
      "2         34176         4356   1.0  train          6       0   451   256  45   \n",
      "3         34176         2217   0.0  train          6       0   451   256  45   \n",
      "4        230784         4818   0.0  train          0       0    54    31  17   \n",
      "...         ...          ...   ...    ...        ...     ...   ...   ...  ..   \n",
      "522336   228479         3111   nan   test          6       0  2004  1173  71   \n",
      "522337    97919         2341   nan   test          8       1    55    29  14   \n",
      "522338    97919         3971   nan   test          8       1    55    29  14   \n",
      "522339    32639         3536   nan   test          0       0    72    46  24   \n",
      "522340    32639         3319   nan   test          0       0    72    46  24   \n",
      "\n",
      "         u4  ...     m1     m2    m3   m4  m5       m6     m7      m8      m9  \\\n",
      "0       109  ...  16269   5819   308   20   2  14870.0   28.0   410.0   961.0   \n",
      "1       109  ...  79865  10931  1179   26   2  72265.0  121.0  4780.0  2699.0   \n",
      "2       109  ...   7269   2281    67   15   2   6094.0   16.0   963.0   196.0   \n",
      "3       109  ...  60202  16870   377    5   2  52230.0  101.0  3721.0  4150.0   \n",
      "4        20  ...  48089   7500   461   27   2  43268.0  129.0  2733.0  1959.0   \n",
      "...     ...  ...    ...    ...   ...  ...  ..      ...    ...     ...     ...   \n",
      "522336  278  ...  10105   4154   542   50  18   8997.0    9.0   687.0   412.0   \n",
      "522337   17  ...   5543   1592   352   93  19   4548.0    6.0   815.0   174.0   \n",
      "522338   17  ...  28892   7587   272    7   2  24602.0   94.0  2608.0  1588.0   \n",
      "522339   33  ...  14027   4956   322   19   3  12807.0   29.0   793.0   398.0   \n",
      "522340   33  ...  25959   7927   952  175  85  21737.0   34.0  2700.0  1488.0   \n",
      "\n",
      "         m10  \n",
      "0       2861  \n",
      "1       4530  \n",
      "2       1088  \n",
      "3       7268  \n",
      "4       3102  \n",
      "...      ...  \n",
      "522336  1982  \n",
      "522337   703  \n",
      "522338  3050  \n",
      "522339  2177  \n",
      "522340  3607  \n",
      "\n",
      "[522341 rows x 26 columns]\n",
      "Wall time: 4min 24s\n"
     ]
    }
   ],
   "source": [
    "%%time\n",
    "# 商家特征处理\n",
    "groups = user_log.groupby(['merchant_id'])\n",
    "# 商家被交互行为数量 m1\n",
    "temp = groups.size().reset_index().rename(columns={0:'m1'})\n",
    "matrix = matrix.merge(temp, on='merchant_id', how='left')\n",
    "# 统计商家被交互的user_id, item_id, cat_id, brand_id 唯一值\n",
    "temp = groups['user_id', 'item_id', 'cat_id', 'brand_id'].nunique().reset_index().rename(columns={'user_id':'m2', 'item_id':'m3', 'cat_id':'m4', 'brand_id':'m5'})\n",
    "matrix = matrix.merge(temp, on='merchant_id', how='left')\n",
    "# 统计商家被交互的action_type 唯一值\n",
    "temp = groups['action_type'].value_counts().unstack().reset_index().rename(columns={0:'m6', 1:'m7', 2:'m8', 3:'m9'})\n",
    "matrix = matrix.merge(temp, on='merchant_id', how='left')\n",
    "# 按照merchant_id 统计随机负采样的个数\n",
    "temp = train_data[train_data['label']==-1].groupby(['merchant_id']).size().reset_index().rename(columns={0:'m10'})\n",
    "matrix = matrix.merge(temp, on='merchant_id', how='left')\n",
    "print(matrix)"
   ]
  },
  {
   "cell_type": "code",
   "execution_count": 7,
   "metadata": {},
   "outputs": [
    {
     "name": "stderr",
     "output_type": "stream",
     "text": [
      "C:\\Users\\admin\\Anaconda3\\lib\\site-packages\\ipykernel_launcher.py:5: FutureWarning: Indexing with multiple keys (implicitly converted to a tuple of keys) will be deprecated, use a list instead.\n",
      "  \"\"\"\n"
     ]
    },
    {
     "name": "stdout",
     "output_type": "stream",
     "text": [
      "        user_id  merchant_id label origin  age_range  gender    u1    u2  u3  \\\n",
      "0         34176         3906   0.0  train          6       0   451   256  45   \n",
      "1         34176          121   0.0  train          6       0   451   256  45   \n",
      "2         34176         4356   1.0  train          6       0   451   256  45   \n",
      "3         34176         2217   0.0  train          6       0   451   256  45   \n",
      "4        230784         4818   0.0  train          0       0    54    31  17   \n",
      "...         ...          ...   ...    ...        ...     ...   ...   ...  ..   \n",
      "522336   228479         3111   nan   test          6       0  2004  1173  71   \n",
      "522337    97919         2341   nan   test          8       1    55    29  14   \n",
      "522338    97919         3971   nan   test          8       1    55    29  14   \n",
      "522339    32639         3536   nan   test          0       0    72    46  24   \n",
      "522340    32639         3319   nan   test          0       0    72    46  24   \n",
      "\n",
      "         u4  ...   m10  um1  um2  um3  um4   um5  um6  um7  um8       um9  \n",
      "0       109  ...  2861   39   20    6    1  36.0  NaN  1.0  2.0  0.850000  \n",
      "1       109  ...  4530   14    1    1    1  13.0  NaN  1.0  NaN  0.050000  \n",
      "2       109  ...  1088   18    2    1    1  12.0  NaN  6.0  NaN  0.016667  \n",
      "3       109  ...  7268    2    1    1    1   1.0  NaN  1.0  NaN  0.000000  \n",
      "4        20  ...  3102    8    1    1    1   7.0  NaN  1.0  NaN  0.050000  \n",
      "...     ...  ...   ...  ...  ...  ...  ...   ...  ...  ...  ...       ...  \n",
      "522336  278  ...  1982    5    2    1    1   4.0  NaN  1.0  NaN  0.016667  \n",
      "522337   17  ...   703    2    1    1    1   1.0  NaN  1.0  NaN  0.000000  \n",
      "522338   17  ...  3050   16    5    2    1  12.0  NaN  4.0  NaN  0.150000  \n",
      "522339   33  ...  2177    3    2    1    1   2.0  NaN  1.0  NaN  0.000000  \n",
      "522340   33  ...  3607   11    1    1    1  10.0  NaN  1.0  NaN  0.016667  \n",
      "\n",
      "[522341 rows x 35 columns]\n",
      "Wall time: 4min 53s\n"
     ]
    }
   ],
   "source": [
    "%%time\n",
    "# 按照user_id, merchant_id分组\n",
    "groups = user_log.groupby(['user_id', 'merchant_id'])\n",
    "temp = groups.size().reset_index().rename(columns={0:'um1'}) #统计行为个数\n",
    "matrix = matrix.merge(temp, on=['user_id', 'merchant_id'], how='left')\n",
    "temp = groups['item_id', 'cat_id', 'brand_id'].nunique().reset_index().rename(columns={'item_id':'um2', 'cat_id':'um3', 'brand_id':'um4'}) #统计item_id, cat_id, brand_id唯一个数\n",
    "matrix = matrix.merge(temp, on=['user_id', 'merchant_id'], how='left')\n",
    "temp = groups['action_type'].value_counts().unstack().reset_index().rename(columns={0:'um5', 1:'um6', 2:'um7', 3:'um8'})#统计不同action_type唯一个数\n",
    "matrix = matrix.merge(temp, on=['user_id', 'merchant_id'], how='left')\n",
    "temp = groups['time_stamp'].agg([('first', 'min'), ('last', 'max')]).reset_index()\n",
    "temp['um9'] = (temp['last'] - temp['first']).dt.seconds/3600\n",
    "temp.drop(['first', 'last'], axis=1, inplace=True)\n",
    "matrix = matrix.merge(temp, on=['user_id', 'merchant_id'], how='left') #统计时间间隔\n",
    "print(matrix)"
   ]
  },
  {
   "cell_type": "code",
   "execution_count": 8,
   "metadata": {},
   "outputs": [
    {
     "name": "stdout",
     "output_type": "stream",
     "text": [
      "        user_id  merchant_id label origin    u1    u2  u3   u4   u5        u6  \\\n",
      "0         34176         3906   0.0  train   451   256  45  109  108  5.833333   \n",
      "1         34176          121   0.0  train   451   256  45  109  108  5.833333   \n",
      "2         34176         4356   1.0  train   451   256  45  109  108  5.833333   \n",
      "3         34176         2217   0.0  train   451   256  45  109  108  5.833333   \n",
      "4        230784         4818   0.0  train    54    31  17   20   19  5.166667   \n",
      "...         ...          ...   ...    ...   ...   ...  ..  ...  ...       ...   \n",
      "522336   228479         3111   nan   test  2004  1173  71  278  282  6.000000   \n",
      "522337    97919         2341   nan   test    55    29  14   17   17  4.750000   \n",
      "522338    97919         3971   nan   test    55    29  14   17   17  4.750000   \n",
      "522339    32639         3536   nan   test    72    46  24   33   35  5.800000   \n",
      "522340    32639         3319   nan   test    72    46  24   33   35  5.800000   \n",
      "\n",
      "        ...  age_2  age_3  age_4  age_5  age_6  age_7  age_8  g_0  g_1  g_2  \n",
      "0       ...      0      0      0      0      1      0      0    1    0    0  \n",
      "1       ...      0      0      0      0      1      0      0    1    0    0  \n",
      "2       ...      0      0      0      0      1      0      0    1    0    0  \n",
      "3       ...      0      0      0      0      1      0      0    1    0    0  \n",
      "4       ...      0      0      0      0      0      0      0    1    0    0  \n",
      "...     ...    ...    ...    ...    ...    ...    ...    ...  ...  ...  ...  \n",
      "522336  ...      0      0      0      0      1      0      0    1    0    0  \n",
      "522337  ...      0      0      0      0      0      0      1    0    1    0  \n",
      "522338  ...      0      0      0      0      0      0      1    0    1    0  \n",
      "522339  ...      0      0      0      0      0      0      0    1    0    0  \n",
      "522340  ...      0      0      0      0      0      0      0    1    0    0  \n",
      "\n",
      "[522341 rows x 48 columns]\n",
      "Wall time: 1.47 s\n",
      "Compiler : 203 ms\n"
     ]
    }
   ],
   "source": [
    "%%time\n",
    "#用户购买点击比\n",
    "matrix['r1'] = matrix['u9']/matrix['u7'] \n",
    "#商家购买点击比\n",
    "matrix['r2'] = matrix['m8']/matrix['m6'] \n",
    "#不同用户不同商家购买点击比\n",
    "matrix['r3'] = matrix['um7']/matrix['um5']\n",
    "matrix.fillna(0, inplace=True)\n",
    "# # 修改age_range字段名称为 age_0, age_1, age_2... age_8\n",
    "temp = pd.get_dummies(matrix['age_range'], prefix='age')\n",
    "matrix = pd.concat([matrix, temp], axis=1)\n",
    "temp = pd.get_dummies(matrix['gender'], prefix='g')\n",
    "matrix = pd.concat([matrix, temp], axis=1)\n",
    "matrix.drop(['age_range', 'gender'], axis=1, inplace=True)\n",
    "print(matrix)"
   ]
  },
  {
   "cell_type": "code",
   "execution_count": 9,
   "metadata": {},
   "outputs": [
    {
     "name": "stdout",
     "output_type": "stream",
     "text": [
      "Wall time: 26.4 s\n"
     ]
    },
    {
     "data": {
      "text/plain": [
       "12"
      ]
     },
     "execution_count": 9,
     "metadata": {},
     "output_type": "execute_result"
    }
   ],
   "source": [
    "%%time\n",
    "# 分割训练数据和测试数据\n",
    "train_data = matrix[matrix['origin'] == 'train'].drop(['origin'], axis=1)\n",
    "test_data = matrix[matrix['origin'] == 'test'].drop(['label', 'origin'], axis=1)\n",
    "train_X, train_y = train_data.drop(['label'], axis=1), train_data['label']\n",
    "del temp, matrix\n",
    "gc.collect()"
   ]
  },
  {
   "cell_type": "code",
   "execution_count": 36,
   "metadata": {},
   "outputs": [
    {
     "name": "stdout",
     "output_type": "stream",
     "text": [
      "[0]\tvalidation_0-auc:0.63613\tvalidation_1-auc:0.63228\n",
      "Multiple eval metrics have been passed: 'validation_1-auc' will be used for early stopping.\n",
      "\n",
      "Will train until validation_1-auc hasn't improved in 10 rounds.\n",
      "[1]\tvalidation_0-auc:0.64775\tvalidation_1-auc:0.63774\n",
      "[2]\tvalidation_0-auc:0.65592\tvalidation_1-auc:0.64424\n",
      "[3]\tvalidation_0-auc:0.66021\tvalidation_1-auc:0.64658\n",
      "[4]\tvalidation_0-auc:0.66465\tvalidation_1-auc:0.65178\n",
      "[5]\tvalidation_0-auc:0.66558\tvalidation_1-auc:0.65122\n",
      "[6]\tvalidation_0-auc:0.66677\tvalidation_1-auc:0.65163\n",
      "[7]\tvalidation_0-auc:0.66687\tvalidation_1-auc:0.65272\n",
      "[8]\tvalidation_0-auc:0.66842\tvalidation_1-auc:0.65474\n",
      "[9]\tvalidation_0-auc:0.66825\tvalidation_1-auc:0.65485\n",
      "[10]\tvalidation_0-auc:0.66990\tvalidation_1-auc:0.65549\n",
      "[11]\tvalidation_0-auc:0.67090\tvalidation_1-auc:0.65571\n",
      "[12]\tvalidation_0-auc:0.67323\tvalidation_1-auc:0.65819\n",
      "[13]\tvalidation_0-auc:0.67513\tvalidation_1-auc:0.65830\n",
      "[14]\tvalidation_0-auc:0.67885\tvalidation_1-auc:0.66166\n",
      "[15]\tvalidation_0-auc:0.68000\tvalidation_1-auc:0.66241\n",
      "[16]\tvalidation_0-auc:0.68133\tvalidation_1-auc:0.66322\n",
      "[17]\tvalidation_0-auc:0.68312\tvalidation_1-auc:0.66346\n",
      "[18]\tvalidation_0-auc:0.68401\tvalidation_1-auc:0.66433\n",
      "[19]\tvalidation_0-auc:0.68624\tvalidation_1-auc:0.66528\n",
      "[20]\tvalidation_0-auc:0.68808\tvalidation_1-auc:0.66719\n",
      "[21]\tvalidation_0-auc:0.68906\tvalidation_1-auc:0.66678\n",
      "[22]\tvalidation_0-auc:0.69014\tvalidation_1-auc:0.66668\n",
      "[23]\tvalidation_0-auc:0.69092\tvalidation_1-auc:0.66661\n",
      "[24]\tvalidation_0-auc:0.69223\tvalidation_1-auc:0.66821\n",
      "[25]\tvalidation_0-auc:0.69372\tvalidation_1-auc:0.66923\n",
      "[26]\tvalidation_0-auc:0.69493\tvalidation_1-auc:0.66970\n",
      "[27]\tvalidation_0-auc:0.69626\tvalidation_1-auc:0.67102\n",
      "[28]\tvalidation_0-auc:0.69753\tvalidation_1-auc:0.67150\n",
      "[29]\tvalidation_0-auc:0.69851\tvalidation_1-auc:0.67146\n",
      "[30]\tvalidation_0-auc:0.69932\tvalidation_1-auc:0.67157\n",
      "[31]\tvalidation_0-auc:0.69987\tvalidation_1-auc:0.67160\n",
      "[32]\tvalidation_0-auc:0.70062\tvalidation_1-auc:0.67237\n",
      "[33]\tvalidation_0-auc:0.70133\tvalidation_1-auc:0.67273\n",
      "[34]\tvalidation_0-auc:0.70235\tvalidation_1-auc:0.67299\n",
      "[35]\tvalidation_0-auc:0.70348\tvalidation_1-auc:0.67315\n",
      "[36]\tvalidation_0-auc:0.70381\tvalidation_1-auc:0.67307\n",
      "[37]\tvalidation_0-auc:0.70495\tvalidation_1-auc:0.67344\n",
      "[38]\tvalidation_0-auc:0.70534\tvalidation_1-auc:0.67342\n",
      "[39]\tvalidation_0-auc:0.70578\tvalidation_1-auc:0.67368\n",
      "[40]\tvalidation_0-auc:0.70665\tvalidation_1-auc:0.67335\n",
      "[41]\tvalidation_0-auc:0.70762\tvalidation_1-auc:0.67314\n",
      "[42]\tvalidation_0-auc:0.70832\tvalidation_1-auc:0.67296\n",
      "[43]\tvalidation_0-auc:0.70878\tvalidation_1-auc:0.67368\n",
      "[44]\tvalidation_0-auc:0.70952\tvalidation_1-auc:0.67425\n",
      "[45]\tvalidation_0-auc:0.71036\tvalidation_1-auc:0.67448\n",
      "[46]\tvalidation_0-auc:0.71088\tvalidation_1-auc:0.67410\n",
      "[47]\tvalidation_0-auc:0.71150\tvalidation_1-auc:0.67386\n",
      "[48]\tvalidation_0-auc:0.71239\tvalidation_1-auc:0.67366\n",
      "[49]\tvalidation_0-auc:0.71299\tvalidation_1-auc:0.67414\n",
      "[50]\tvalidation_0-auc:0.71362\tvalidation_1-auc:0.67443\n",
      "[51]\tvalidation_0-auc:0.71446\tvalidation_1-auc:0.67479\n",
      "[52]\tvalidation_0-auc:0.71475\tvalidation_1-auc:0.67500\n",
      "[53]\tvalidation_0-auc:0.71553\tvalidation_1-auc:0.67532\n",
      "[54]\tvalidation_0-auc:0.71593\tvalidation_1-auc:0.67582\n",
      "[55]\tvalidation_0-auc:0.71635\tvalidation_1-auc:0.67585\n",
      "[56]\tvalidation_0-auc:0.71703\tvalidation_1-auc:0.67576\n",
      "[57]\tvalidation_0-auc:0.71744\tvalidation_1-auc:0.67584\n",
      "[58]\tvalidation_0-auc:0.71771\tvalidation_1-auc:0.67622\n",
      "[59]\tvalidation_0-auc:0.71821\tvalidation_1-auc:0.67612\n",
      "[60]\tvalidation_0-auc:0.71865\tvalidation_1-auc:0.67614\n",
      "[61]\tvalidation_0-auc:0.71909\tvalidation_1-auc:0.67623\n",
      "[62]\tvalidation_0-auc:0.71954\tvalidation_1-auc:0.67614\n",
      "[63]\tvalidation_0-auc:0.71985\tvalidation_1-auc:0.67630\n",
      "[64]\tvalidation_0-auc:0.72039\tvalidation_1-auc:0.67613\n",
      "[65]\tvalidation_0-auc:0.72121\tvalidation_1-auc:0.67599\n",
      "[66]\tvalidation_0-auc:0.72170\tvalidation_1-auc:0.67596\n",
      "[67]\tvalidation_0-auc:0.72225\tvalidation_1-auc:0.67587\n",
      "[68]\tvalidation_0-auc:0.72267\tvalidation_1-auc:0.67586\n",
      "[69]\tvalidation_0-auc:0.72330\tvalidation_1-auc:0.67563\n",
      "[70]\tvalidation_0-auc:0.72365\tvalidation_1-auc:0.67594\n",
      "[71]\tvalidation_0-auc:0.72407\tvalidation_1-auc:0.67601\n",
      "[72]\tvalidation_0-auc:0.72467\tvalidation_1-auc:0.67605\n",
      "[73]\tvalidation_0-auc:0.72529\tvalidation_1-auc:0.67603\n",
      "Stopping. Best iteration:\n",
      "[63]\tvalidation_0-auc:0.71985\tvalidation_1-auc:0.67630\n",
      "\n",
      "Wall time: 3min 14s\n"
     ]
    },
    {
     "data": {
      "text/plain": [
       "XGBClassifier(base_score=0.5, booster='gbtree', colsample_bylevel=1,\n",
       "              colsample_bynode=1, colsample_bytree=0.8, eta=0.3, gamma=0,\n",
       "              gpu_id=-1, importance_type='gain', interaction_constraints='',\n",
       "              learning_rate=0.300000012, max_delta_step=0, max_depth=8,\n",
       "              min_child_weight=300, missing=nan, monotone_constraints='()',\n",
       "              n_estimators=1000, n_jobs=0, num_parallel_tree=1,\n",
       "              objective='binary:logistic', random_state=42, reg_alpha=0,\n",
       "              reg_lambda=1, scale_pos_weight=1, seed=42, subsample=0.8,\n",
       "              tree_method='exact', validate_parameters=1, verbosity=None)"
      ]
     },
     "execution_count": 36,
     "metadata": {},
     "output_type": "execute_result"
    }
   ],
   "source": [
    "%%time\n",
    "# 使用机器学习工具\n",
    "from sklearn.model_selection import train_test_split\n",
    "from sklearn.ensemble import RandomForestClassifier\n",
    "from sklearn.linear_model import LinearRegression\n",
    "from sklearn.metrics import classification_report\n",
    "import xgboost as xgb\n",
    "# 将训练集进行切分，20%用于验证\n",
    "X_train, X_valid, y_train, y_valid = train_test_split(train_X, train_y, test_size=.3)\n",
    "\n",
    "# 使用XGBoost\n",
    "model = xgb.XGBClassifier(\n",
    "    max_depth=8,\n",
    "    n_estimators=1000,\n",
    "    min_child_weight=300, \n",
    "    colsample_bytree=0.8, \n",
    "    subsample=0.80, \n",
    "    eta=0.3,    \n",
    "    seed=42    \n",
    ")\n",
    "model.fit(\n",
    "    X_train, y_train,\n",
    "    eval_metric='auc', eval_set=[(X_train, y_train), (X_valid, y_valid)],\n",
    "    verbose=True,\n",
    "    #早停法，如果auc在10epoch没有进步就stop\n",
    "    early_stopping_rounds=10 \n",
    ")\n",
    "\n",
    "\n",
    "model.fit(X_train, y_train)\n"
   ]
  },
  {
   "cell_type": "code",
   "execution_count": 11,
   "metadata": {},
   "outputs": [
    {
     "name": "stdout",
     "output_type": "stream",
     "text": [
      "Wall time: 1.31 s\n"
     ]
    }
   ],
   "source": [
    "%%time\n",
    "prob = model.predict_proba(test_data)\n",
    "submission['prob'] = pd.Series(prob[:,1])\n",
    "submission.drop(['origin'], axis=1, inplace=True)\n",
    "submission.to_csv('prediction.csv', index=False)"
   ]
  },
  {
   "cell_type": "code",
   "execution_count": 33,
   "metadata": {
    "scrolled": false
   },
   "outputs": [
    {
     "name": "stdout",
     "output_type": "stream",
     "text": [
      "[1]\ttraining's auc: 0.627828\ttraining's binary_logloss: 0.229111\tvalid_1's auc: 0.623636\tvalid_1's binary_logloss: 0.226164\n",
      "Training until validation scores don't improve for 10 rounds\n",
      "[2]\ttraining's auc: 0.644398\ttraining's binary_logloss: 0.227507\tvalid_1's auc: 0.640902\tvalid_1's binary_logloss: 0.22478\n",
      "[3]\ttraining's auc: 0.652657\ttraining's binary_logloss: 0.226119\tvalid_1's auc: 0.647769\tvalid_1's binary_logloss: 0.223643\n",
      "[4]\ttraining's auc: 0.655096\ttraining's binary_logloss: 0.225071\tvalid_1's auc: 0.649554\tvalid_1's binary_logloss: 0.22274\n",
      "[5]\ttraining's auc: 0.658443\ttraining's binary_logloss: 0.224184\tvalid_1's auc: 0.652052\tvalid_1's binary_logloss: 0.222084\n",
      "[6]\ttraining's auc: 0.660251\ttraining's binary_logloss: 0.223431\tvalid_1's auc: 0.652372\tvalid_1's binary_logloss: 0.221521\n",
      "[7]\ttraining's auc: 0.663818\ttraining's binary_logloss: 0.222687\tvalid_1's auc: 0.654637\tvalid_1's binary_logloss: 0.220909\n",
      "[8]\ttraining's auc: 0.666175\ttraining's binary_logloss: 0.222059\tvalid_1's auc: 0.656294\tvalid_1's binary_logloss: 0.220423\n",
      "[9]\ttraining's auc: 0.668211\ttraining's binary_logloss: 0.221514\tvalid_1's auc: 0.656419\tvalid_1's binary_logloss: 0.220084\n",
      "[10]\ttraining's auc: 0.669208\ttraining's binary_logloss: 0.221046\tvalid_1's auc: 0.656236\tvalid_1's binary_logloss: 0.219811\n",
      "[11]\ttraining's auc: 0.670509\ttraining's binary_logloss: 0.220623\tvalid_1's auc: 0.656721\tvalid_1's binary_logloss: 0.219545\n",
      "[12]\ttraining's auc: 0.67271\ttraining's binary_logloss: 0.220137\tvalid_1's auc: 0.658439\tvalid_1's binary_logloss: 0.219241\n",
      "[13]\ttraining's auc: 0.674019\ttraining's binary_logloss: 0.219753\tvalid_1's auc: 0.658845\tvalid_1's binary_logloss: 0.219034\n",
      "[14]\ttraining's auc: 0.675975\ttraining's binary_logloss: 0.21935\tvalid_1's auc: 0.660334\tvalid_1's binary_logloss: 0.218782\n",
      "[15]\ttraining's auc: 0.678464\ttraining's binary_logloss: 0.218968\tvalid_1's auc: 0.662154\tvalid_1's binary_logloss: 0.218493\n",
      "[16]\ttraining's auc: 0.680207\ttraining's binary_logloss: 0.21864\tvalid_1's auc: 0.662511\tvalid_1's binary_logloss: 0.218342\n",
      "[17]\ttraining's auc: 0.681968\ttraining's binary_logloss: 0.218314\tvalid_1's auc: 0.66342\tvalid_1's binary_logloss: 0.218217\n",
      "[18]\ttraining's auc: 0.683734\ttraining's binary_logloss: 0.21796\tvalid_1's auc: 0.664441\tvalid_1's binary_logloss: 0.218026\n",
      "[19]\ttraining's auc: 0.685939\ttraining's binary_logloss: 0.217619\tvalid_1's auc: 0.665363\tvalid_1's binary_logloss: 0.217871\n",
      "[20]\ttraining's auc: 0.687804\ttraining's binary_logloss: 0.217269\tvalid_1's auc: 0.666595\tvalid_1's binary_logloss: 0.217637\n",
      "[21]\ttraining's auc: 0.689379\ttraining's binary_logloss: 0.216969\tvalid_1's auc: 0.667082\tvalid_1's binary_logloss: 0.217528\n",
      "[22]\ttraining's auc: 0.692616\ttraining's binary_logloss: 0.216576\tvalid_1's auc: 0.668727\tvalid_1's binary_logloss: 0.217315\n",
      "[23]\ttraining's auc: 0.693342\ttraining's binary_logloss: 0.216342\tvalid_1's auc: 0.668664\tvalid_1's binary_logloss: 0.217255\n",
      "[24]\ttraining's auc: 0.694672\ttraining's binary_logloss: 0.216071\tvalid_1's auc: 0.668797\tvalid_1's binary_logloss: 0.217216\n",
      "[25]\ttraining's auc: 0.69597\ttraining's binary_logloss: 0.215774\tvalid_1's auc: 0.668957\tvalid_1's binary_logloss: 0.217149\n",
      "[26]\ttraining's auc: 0.697517\ttraining's binary_logloss: 0.215476\tvalid_1's auc: 0.669359\tvalid_1's binary_logloss: 0.217078\n",
      "[27]\ttraining's auc: 0.698528\ttraining's binary_logloss: 0.215218\tvalid_1's auc: 0.669516\tvalid_1's binary_logloss: 0.217017\n",
      "[28]\ttraining's auc: 0.700225\ttraining's binary_logloss: 0.214947\tvalid_1's auc: 0.670229\tvalid_1's binary_logloss: 0.216925\n",
      "[29]\ttraining's auc: 0.702426\ttraining's binary_logloss: 0.214604\tvalid_1's auc: 0.671538\tvalid_1's binary_logloss: 0.2167\n",
      "[30]\ttraining's auc: 0.704064\ttraining's binary_logloss: 0.214338\tvalid_1's auc: 0.671073\tvalid_1's binary_logloss: 0.216704\n",
      "[31]\ttraining's auc: 0.705333\ttraining's binary_logloss: 0.214117\tvalid_1's auc: 0.671336\tvalid_1's binary_logloss: 0.216647\n",
      "[32]\ttraining's auc: 0.70663\ttraining's binary_logloss: 0.213893\tvalid_1's auc: 0.671426\tvalid_1's binary_logloss: 0.216607\n",
      "[33]\ttraining's auc: 0.707626\ttraining's binary_logloss: 0.213661\tvalid_1's auc: 0.672082\tvalid_1's binary_logloss: 0.216483\n",
      "[34]\ttraining's auc: 0.708987\ttraining's binary_logloss: 0.213423\tvalid_1's auc: 0.672297\tvalid_1's binary_logloss: 0.216433\n",
      "[35]\ttraining's auc: 0.710488\ttraining's binary_logloss: 0.213226\tvalid_1's auc: 0.672617\tvalid_1's binary_logloss: 0.216401\n",
      "[36]\ttraining's auc: 0.711925\ttraining's binary_logloss: 0.212973\tvalid_1's auc: 0.672844\tvalid_1's binary_logloss: 0.216365\n",
      "[37]\ttraining's auc: 0.713265\ttraining's binary_logloss: 0.212773\tvalid_1's auc: 0.672814\tvalid_1's binary_logloss: 0.216341\n",
      "[38]\ttraining's auc: 0.714595\ttraining's binary_logloss: 0.212522\tvalid_1's auc: 0.672711\tvalid_1's binary_logloss: 0.216334\n",
      "[39]\ttraining's auc: 0.715919\ttraining's binary_logloss: 0.212292\tvalid_1's auc: 0.672688\tvalid_1's binary_logloss: 0.216337\n",
      "[40]\ttraining's auc: 0.717135\ttraining's binary_logloss: 0.212071\tvalid_1's auc: 0.673077\tvalid_1's binary_logloss: 0.216268\n",
      "[41]\ttraining's auc: 0.718191\ttraining's binary_logloss: 0.211859\tvalid_1's auc: 0.673309\tvalid_1's binary_logloss: 0.216237\n",
      "[42]\ttraining's auc: 0.720106\ttraining's binary_logloss: 0.211607\tvalid_1's auc: 0.67356\tvalid_1's binary_logloss: 0.216195\n",
      "[43]\ttraining's auc: 0.72105\ttraining's binary_logloss: 0.211423\tvalid_1's auc: 0.673779\tvalid_1's binary_logloss: 0.216178\n",
      "[44]\ttraining's auc: 0.721841\ttraining's binary_logloss: 0.21124\tvalid_1's auc: 0.673833\tvalid_1's binary_logloss: 0.216178\n",
      "[45]\ttraining's auc: 0.72313\ttraining's binary_logloss: 0.211024\tvalid_1's auc: 0.673939\tvalid_1's binary_logloss: 0.21614\n",
      "[46]\ttraining's auc: 0.724224\ttraining's binary_logloss: 0.21082\tvalid_1's auc: 0.674401\tvalid_1's binary_logloss: 0.216086\n",
      "[47]\ttraining's auc: 0.725533\ttraining's binary_logloss: 0.210619\tvalid_1's auc: 0.674382\tvalid_1's binary_logloss: 0.216088\n",
      "[48]\ttraining's auc: 0.726809\ttraining's binary_logloss: 0.210413\tvalid_1's auc: 0.674583\tvalid_1's binary_logloss: 0.216052\n",
      "[49]\ttraining's auc: 0.728542\ttraining's binary_logloss: 0.210132\tvalid_1's auc: 0.675701\tvalid_1's binary_logloss: 0.215904\n",
      "[50]\ttraining's auc: 0.729175\ttraining's binary_logloss: 0.209956\tvalid_1's auc: 0.675866\tvalid_1's binary_logloss: 0.215869\n",
      "[51]\ttraining's auc: 0.729972\ttraining's binary_logloss: 0.209782\tvalid_1's auc: 0.675957\tvalid_1's binary_logloss: 0.215846\n",
      "[52]\ttraining's auc: 0.730829\ttraining's binary_logloss: 0.209597\tvalid_1's auc: 0.676225\tvalid_1's binary_logloss: 0.215801\n",
      "[53]\ttraining's auc: 0.731588\ttraining's binary_logloss: 0.209393\tvalid_1's auc: 0.676052\tvalid_1's binary_logloss: 0.215814\n",
      "[54]\ttraining's auc: 0.732705\ttraining's binary_logloss: 0.209227\tvalid_1's auc: 0.675967\tvalid_1's binary_logloss: 0.215816\n",
      "[55]\ttraining's auc: 0.733716\ttraining's binary_logloss: 0.209042\tvalid_1's auc: 0.675979\tvalid_1's binary_logloss: 0.215805\n",
      "[56]\ttraining's auc: 0.734449\ttraining's binary_logloss: 0.208865\tvalid_1's auc: 0.676039\tvalid_1's binary_logloss: 0.215791\n",
      "[57]\ttraining's auc: 0.73555\ttraining's binary_logloss: 0.20869\tvalid_1's auc: 0.675961\tvalid_1's binary_logloss: 0.215804\n",
      "[58]\ttraining's auc: 0.736611\ttraining's binary_logloss: 0.208516\tvalid_1's auc: 0.67592\tvalid_1's binary_logloss: 0.215793\n",
      "[59]\ttraining's auc: 0.737612\ttraining's binary_logloss: 0.208351\tvalid_1's auc: 0.676241\tvalid_1's binary_logloss: 0.215745\n",
      "[60]\ttraining's auc: 0.737948\ttraining's binary_logloss: 0.208217\tvalid_1's auc: 0.676207\tvalid_1's binary_logloss: 0.215748\n",
      "[61]\ttraining's auc: 0.738754\ttraining's binary_logloss: 0.208015\tvalid_1's auc: 0.67612\tvalid_1's binary_logloss: 0.21576\n",
      "[62]\ttraining's auc: 0.74022\ttraining's binary_logloss: 0.207779\tvalid_1's auc: 0.676766\tvalid_1's binary_logloss: 0.215704\n",
      "[63]\ttraining's auc: 0.741001\ttraining's binary_logloss: 0.207598\tvalid_1's auc: 0.676857\tvalid_1's binary_logloss: 0.215697\n",
      "[64]\ttraining's auc: 0.742403\ttraining's binary_logloss: 0.207415\tvalid_1's auc: 0.676934\tvalid_1's binary_logloss: 0.215686\n",
      "[65]\ttraining's auc: 0.74314\ttraining's binary_logloss: 0.207267\tvalid_1's auc: 0.676781\tvalid_1's binary_logloss: 0.215704\n",
      "[66]\ttraining's auc: 0.743738\ttraining's binary_logloss: 0.207142\tvalid_1's auc: 0.676772\tvalid_1's binary_logloss: 0.215695\n",
      "[67]\ttraining's auc: 0.745165\ttraining's binary_logloss: 0.206931\tvalid_1's auc: 0.676769\tvalid_1's binary_logloss: 0.215707\n"
     ]
    },
    {
     "name": "stdout",
     "output_type": "stream",
     "text": [
      "[68]\ttraining's auc: 0.746077\ttraining's binary_logloss: 0.206762\tvalid_1's auc: 0.676543\tvalid_1's binary_logloss: 0.215719\n",
      "[69]\ttraining's auc: 0.746778\ttraining's binary_logloss: 0.206624\tvalid_1's auc: 0.676599\tvalid_1's binary_logloss: 0.215713\n",
      "[70]\ttraining's auc: 0.747355\ttraining's binary_logloss: 0.206462\tvalid_1's auc: 0.676446\tvalid_1's binary_logloss: 0.215732\n",
      "[71]\ttraining's auc: 0.748089\ttraining's binary_logloss: 0.2063\tvalid_1's auc: 0.676356\tvalid_1's binary_logloss: 0.215747\n",
      "[72]\ttraining's auc: 0.74878\ttraining's binary_logloss: 0.206171\tvalid_1's auc: 0.676364\tvalid_1's binary_logloss: 0.215744\n",
      "[73]\ttraining's auc: 0.749795\ttraining's binary_logloss: 0.205943\tvalid_1's auc: 0.677491\tvalid_1's binary_logloss: 0.215627\n",
      "[74]\ttraining's auc: 0.750407\ttraining's binary_logloss: 0.205783\tvalid_1's auc: 0.677565\tvalid_1's binary_logloss: 0.215613\n",
      "[75]\ttraining's auc: 0.751519\ttraining's binary_logloss: 0.205625\tvalid_1's auc: 0.677432\tvalid_1's binary_logloss: 0.215634\n",
      "[76]\ttraining's auc: 0.752469\ttraining's binary_logloss: 0.205463\tvalid_1's auc: 0.677146\tvalid_1's binary_logloss: 0.215653\n",
      "[77]\ttraining's auc: 0.752913\ttraining's binary_logloss: 0.205353\tvalid_1's auc: 0.677048\tvalid_1's binary_logloss: 0.215687\n",
      "[78]\ttraining's auc: 0.753781\ttraining's binary_logloss: 0.205179\tvalid_1's auc: 0.677191\tvalid_1's binary_logloss: 0.215668\n",
      "[79]\ttraining's auc: 0.755539\ttraining's binary_logloss: 0.204945\tvalid_1's auc: 0.677509\tvalid_1's binary_logloss: 0.215629\n",
      "[80]\ttraining's auc: 0.756037\ttraining's binary_logloss: 0.204787\tvalid_1's auc: 0.677377\tvalid_1's binary_logloss: 0.215636\n",
      "[81]\ttraining's auc: 0.75735\ttraining's binary_logloss: 0.204567\tvalid_1's auc: 0.67779\tvalid_1's binary_logloss: 0.215573\n",
      "[82]\ttraining's auc: 0.758604\ttraining's binary_logloss: 0.20439\tvalid_1's auc: 0.678\tvalid_1's binary_logloss: 0.215557\n",
      "[83]\ttraining's auc: 0.759982\ttraining's binary_logloss: 0.204179\tvalid_1's auc: 0.677932\tvalid_1's binary_logloss: 0.215568\n",
      "[84]\ttraining's auc: 0.760578\ttraining's binary_logloss: 0.204048\tvalid_1's auc: 0.677721\tvalid_1's binary_logloss: 0.21559\n",
      "[85]\ttraining's auc: 0.761129\ttraining's binary_logloss: 0.203906\tvalid_1's auc: 0.677847\tvalid_1's binary_logloss: 0.215595\n",
      "[86]\ttraining's auc: 0.761801\ttraining's binary_logloss: 0.203738\tvalid_1's auc: 0.677816\tvalid_1's binary_logloss: 0.2156\n",
      "[87]\ttraining's auc: 0.762981\ttraining's binary_logloss: 0.203565\tvalid_1's auc: 0.67791\tvalid_1's binary_logloss: 0.215593\n",
      "[88]\ttraining's auc: 0.763682\ttraining's binary_logloss: 0.20341\tvalid_1's auc: 0.678115\tvalid_1's binary_logloss: 0.215556\n",
      "[89]\ttraining's auc: 0.764467\ttraining's binary_logloss: 0.20322\tvalid_1's auc: 0.678766\tvalid_1's binary_logloss: 0.215467\n",
      "[90]\ttraining's auc: 0.765427\ttraining's binary_logloss: 0.203067\tvalid_1's auc: 0.678406\tvalid_1's binary_logloss: 0.215494\n",
      "[91]\ttraining's auc: 0.766147\ttraining's binary_logloss: 0.202927\tvalid_1's auc: 0.678093\tvalid_1's binary_logloss: 0.215525\n",
      "[92]\ttraining's auc: 0.766682\ttraining's binary_logloss: 0.202802\tvalid_1's auc: 0.678046\tvalid_1's binary_logloss: 0.215532\n",
      "[93]\ttraining's auc: 0.767199\ttraining's binary_logloss: 0.20268\tvalid_1's auc: 0.678111\tvalid_1's binary_logloss: 0.215546\n",
      "[94]\ttraining's auc: 0.768311\ttraining's binary_logloss: 0.202468\tvalid_1's auc: 0.677974\tvalid_1's binary_logloss: 0.215556\n",
      "[95]\ttraining's auc: 0.769243\ttraining's binary_logloss: 0.202294\tvalid_1's auc: 0.677796\tvalid_1's binary_logloss: 0.215567\n",
      "[96]\ttraining's auc: 0.770098\ttraining's binary_logloss: 0.202115\tvalid_1's auc: 0.677629\tvalid_1's binary_logloss: 0.215605\n",
      "[97]\ttraining's auc: 0.771148\ttraining's binary_logloss: 0.201945\tvalid_1's auc: 0.677454\tvalid_1's binary_logloss: 0.215622\n",
      "[98]\ttraining's auc: 0.771937\ttraining's binary_logloss: 0.201797\tvalid_1's auc: 0.677258\tvalid_1's binary_logloss: 0.215645\n",
      "[99]\ttraining's auc: 0.772973\ttraining's binary_logloss: 0.201634\tvalid_1's auc: 0.677107\tvalid_1's binary_logloss: 0.215647\n",
      "Early stopping, best iteration is:\n",
      "[89]\ttraining's auc: 0.764467\ttraining's binary_logloss: 0.20322\tvalid_1's auc: 0.678766\tvalid_1's binary_logloss: 0.215467\n"
     ]
    },
    {
     "data": {
      "text/plain": [
       "LGBMClassifier(bagging_fraction=0.75, boosting_type='gbdt', class_weight=None,\n",
       "               colsample_bytree=1.0, feature_fraction=0.75,\n",
       "               importance_type='split', learning_rate=0.1, max_depth=-1,\n",
       "               min_child_samples=20, min_child_weight=0.001, min_split_gain=0.0,\n",
       "               n_estimators=1000, n_jobs=-1, num_leaves=37, objective=None,\n",
       "               random_state=None, reg_alpha=0.0, reg_lambda=0.0, seed=42,\n",
       "               silent=True, subsample=1.0, subsample_for_bin=200000,\n",
       "               subsample_freq=0)"
      ]
     },
     "execution_count": 33,
     "metadata": {},
     "output_type": "execute_result"
    }
   ],
   "source": [
    "import lightgbm as lgb\n",
    "# 使用LightGBM\n",
    "model2 = lgb.LGBMClassifier(num_leaves=37, learning_rate=0.10, n_estimators=1000\\\n",
    "                    ,bagging_fraction=0.75,feature_fraction=0.75,seed=42    )\n",
    "model2.fit(\n",
    "    X_train, y_train,\n",
    "    eval_metric='auc', eval_set=[(X_train, y_train), (X_valid, y_valid)],\n",
    "    verbose=True,\n",
    "    #早停法，如果auc在10epoch没有进步就stop\n",
    "    early_stopping_rounds=10 \n",
    ")\n",
    "\n",
    "\n",
    "model2.fit(X_train, y_train)"
   ]
  },
  {
   "cell_type": "code",
   "execution_count": 21,
   "metadata": {},
   "outputs": [
    {
     "name": "stdout",
     "output_type": "stream",
     "text": [
      "Wall time: 3.89 s\n"
     ]
    }
   ],
   "source": [
    "%%time\n",
    "prob2 = model2.predict_proba(test_data)\n",
    "submission['prob'] = pd.Series(prob2[:,1])\n",
    "submission.to_csv('prediction_lgb.csv', index=False)"
   ]
  },
  {
   "cell_type": "code",
   "execution_count": 22,
   "metadata": {},
   "outputs": [],
   "source": [
    "prob_mean = prob*1/2 + prob2*1/2"
   ]
  },
  {
   "cell_type": "code",
   "execution_count": 23,
   "metadata": {},
   "outputs": [
    {
     "name": "stdout",
     "output_type": "stream",
     "text": [
      "Wall time: 715 ms\n"
     ]
    }
   ],
   "source": [
    "%%time\n",
    "submission['prob'] = pd.Series(prob_mean[:,1])\n",
    "submission.to_csv('prediction_lgb_xgb.csv', index=False)"
   ]
  },
  {
   "attachments": {
    "image.png": {
     "image/png": "[encoded data removed]"
    }
   },
   "cell_type": "markdown",
   "metadata": {},
   "source": [
    "![image.png](attachment:image.png)"
   ]
  }
 ],
 "metadata": {
  "kernelspec": {
   "display_name": "Python 3",
   "language": "python",
   "name": "python3"
  },
  "language_info": {
   "codemirror_mode": {
    "name": "ipython",
    "version": 3
   },
   "file_extension": ".py",
   "mimetype": "text/x-python",
   "name": "python",
   "nbconvert_exporter": "python",
   "pygments_lexer": "ipython3",
   "version": "3.6.12"
  }
 },
 "nbformat": 4,
 "nbformat_minor": 4
}
