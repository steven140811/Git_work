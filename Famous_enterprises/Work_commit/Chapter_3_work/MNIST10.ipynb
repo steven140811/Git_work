{
 "cells": [
  {
   "cell_type": "code",
   "execution_count": 2,
   "metadata": {},
   "outputs": [
    {
     "name": "stdout",
     "output_type": "stream",
     "text": [
      "[0 1 2 ... 8 9 8]\n"
     ]
    }
   ],
   "source": [
    "# 使用TPOT自动机器学习工具对MNIST进行分类\n",
    "from tpot import TPOTClassifier\n",
    "from sklearn.datasets import load_digits\n",
    "from sklearn.model_selection import train_test_split\n",
    "import numpy as np\n",
    "\n",
    "# 加载数据\n",
    "digits = load_digits()\n",
    "data = digits.data\n",
    "print(digits.target)\n",
    "X_train, X_test, y_train, y_test = train_test_split(digits.data.astype(np.float64),\n",
    "    digits.target.astype(np.float64), train_size=0.75, test_size=0.25, random_state=33)"
   ]
  },
  {
   "cell_type": "code",
   "execution_count": 31,
   "metadata": {},
   "outputs": [
    {
     "data": {
      "application/vnd.jupyter.widget-view+json": {
       "model_id": "",
       "version_major": 2,
       "version_minor": 0
      },
      "text/plain": [
       "HBox(children=(FloatProgress(value=0.0, description='Optimization Progress', max=120.0, style=ProgressStyle(de…"
      ]
     },
     "metadata": {},
     "output_type": "display_data"
    },
    {
     "name": "stdout",
     "output_type": "stream",
     "text": [
      "\n",
      "Generation 1 - Current best internal CV score: 0.9673440726972325\n",
      "Generation 2 - Current best internal CV score: 0.9755087429436872\n",
      "Generation 3 - Current best internal CV score: 0.9755087429436872\n",
      "Generation 4 - Current best internal CV score: 0.9755114966267383\n",
      "Generation 5 - Current best internal CV score: 0.9755114966267383\n",
      "Best pipeline: MLPClassifier(StandardScaler(input_matrix), alpha=0.0001, learning_rate_init=0.001)\n",
      "0.9866666666666667\n"
     ]
    }
   ],
   "source": [
    "tpot = TPOTClassifier(generations=5, population_size=20, verbosity=2)\n",
    "tpot.fit(X_train, y_train)\n",
    "print(tpot.score(X_test, y_test))\n",
    "tpot.export('tpot_mnist_pipeline.py')"
   ]
  },
  {
   "cell_type": "code",
   "execution_count": 3,
   "metadata": {},
   "outputs": [],
   "source": [
    "from sklearn import preprocessing\n",
    "from sklearn.metrics import accuracy_score\n",
    "from sklearn import metrics\n",
    "# 采用Z-Score规范化\n",
    "ss = preprocessing.StandardScaler()\n",
    "train_ss_x = ss.fit_transform(X_train)\n",
    "test_ss_x = ss.transform(X_test)"
   ]
  },
  {
   "cell_type": "code",
   "execution_count": 4,
   "metadata": {},
   "outputs": [
    {
     "name": "stdout",
     "output_type": "stream",
     "text": [
      "LR模型在测试集的预测准确率：0.9644\n",
      "\n"
     ]
    }
   ],
   "source": [
    "#Logistic Regression\n",
    "from sklearn.linear_model import LogisticRegression\n",
    "lr = LogisticRegression()\n",
    "logistic_regression = lr.fit(train_ss_x, y_train)\n",
    "# 模型在测试集上的预测\n",
    "pred_lr = logistic_regression.predict(test_ss_x)\n",
    "# 模型的准确率\n",
    "print('LR模型在测试集的预测准确率：%0.4lf\\n'% metrics.accuracy_score(y_test, pred_lr))"
   ]
  },
  {
   "cell_type": "code",
   "execution_count": 5,
   "metadata": {},
   "outputs": [
    {
     "name": "stdout",
     "output_type": "stream",
     "text": [
      "CART模型在测试集的预测准确率：0.8378\n",
      "\n"
     ]
    }
   ],
   "source": [
    "#CART，ID3（决策树）\n",
    "from sklearn.tree import DecisionTreeClassifier\n",
    "# 构建分类决策树\n",
    "CART_Class = DecisionTreeClassifier()\n",
    "# 模型拟合\n",
    "decision_tree = CART_Class.fit(train_ss_x, y_train)\n",
    "# 模型在测试集上的预测\n",
    "pred_cart = decision_tree.predict(test_ss_x)\n",
    "# 模型的准确率\n",
    "print('CART模型在测试集的预测准确率：%0.4lf\\n' % metrics.accuracy_score(y_test, pred_cart))"
   ]
  },
  {
   "cell_type": "code",
   "execution_count": 6,
   "metadata": {},
   "outputs": [
    {
     "name": "stdout",
     "output_type": "stream",
     "text": [
      "LDA模型在测试集的预测准确率：0.9378\n",
      "\n"
     ]
    }
   ],
   "source": [
    "#LDA\n",
    "from sklearn.discriminant_analysis import LinearDiscriminantAnalysis  \n",
    "lda = LinearDiscriminantAnalysis()\n",
    "linear_discriminant_analysis   = lda.fit(train_ss_x, y_train)\n",
    "# 模型在测试集上的预测\n",
    "pred_lda = linear_discriminant_analysis.predict(test_ss_x)\n",
    "# 模型的准确率\n",
    "print('LDA模型在测试集的预测准确率：%0.4lf\\n' % metrics.accuracy_score(y_test, pred_lda))"
   ]
  },
  {
   "cell_type": "code",
   "execution_count": 7,
   "metadata": {},
   "outputs": [
    {
     "name": "stdout",
     "output_type": "stream",
     "text": [
      "朴素贝叶斯模型在测试集的预测准确率：0.8822\n",
      "\n"
     ]
    }
   ],
   "source": [
    "#朴素贝叶斯\n",
    "from sklearn.naive_bayes import BernoulliNB\n",
    "bn = BernoulliNB()\n",
    "bernoulli_NB   = bn.fit(train_ss_x, y_train)\n",
    "# 模型在测试集上的预测\n",
    "pred_bn = bernoulli_NB.predict(test_ss_x)\n",
    "# 模型的准确率\n",
    "print('朴素贝叶斯模型在测试集的预测准确率：%0.4lf\\n' % metrics.accuracy_score(y_test, pred_bn))"
   ]
  },
  {
   "cell_type": "code",
   "execution_count": 8,
   "metadata": {},
   "outputs": [
    {
     "name": "stdout",
     "output_type": "stream",
     "text": [
      "SVM模型在测试集的预测准确率：0.9533\n",
      "\n"
     ]
    },
    {
     "name": "stderr",
     "output_type": "stream",
     "text": [
      "C:\\Users\\admin\\AppData\\Roaming\\Python\\Python36\\site-packages\\sklearn\\svm\\_base.py:947: ConvergenceWarning: Liblinear failed to converge, increase the number of iterations.\n",
      "  \"the number of iterations.\", ConvergenceWarning)\n"
     ]
    }
   ],
   "source": [
    "#SVM\n",
    "from sklearn.svm import LinearSVC\n",
    "svm = LinearSVC()\n",
    "svm_fit   = svm.fit(train_ss_x, y_train)\n",
    "# 模型在测试集上的预测\n",
    "pred_svm = svm_fit.predict(test_ss_x)\n",
    "# 模型的准确率\n",
    "print('SVM模型在测试集的预测准确率：%0.4lf\\n' % metrics.accuracy_score(y_test, pred_svm))"
   ]
  },
  {
   "cell_type": "code",
   "execution_count": 9,
   "metadata": {},
   "outputs": [
    {
     "name": "stdout",
     "output_type": "stream",
     "text": [
      "KNN模型在测试集的预测准确率：0.9756\n",
      "\n"
     ]
    }
   ],
   "source": [
    "#KNN\n",
    "from sklearn.neighbors import KNeighborsClassifier\n",
    "knn = KNeighborsClassifier()\n",
    "k_neighbors_classifier = knn.fit(train_ss_x, y_train)\n",
    "# 模型在测试集上的预测\n",
    "pred_knn = k_neighbors_classifier.predict(test_ss_x)\n",
    "# 模型的准确率\n",
    "print('KNN模型在测试集的预测准确率：%0.4lf\\n' % metrics.accuracy_score(y_test, pred_knn))"
   ]
  },
  {
   "cell_type": "code",
   "execution_count": 19,
   "metadata": {},
   "outputs": [
    {
     "name": "stdout",
     "output_type": "stream",
     "text": [
      "Adaboost模型在测试集的预测准确率：0.9756\n",
      "\n"
     ]
    }
   ],
   "source": [
    "#Adaboost\n",
    "from sklearn.ensemble import  AdaBoostClassifier\n",
    "adb = AdaBoostClassifier(DecisionTreeClassifier(max_depth = 20, min_samples_split = 10, \n",
    "                                                min_samples_leaf = 5),algorithm=\"SAMME\",n_estimators=200,learning_rate=0.8)\n",
    "adaboost_classifier = adb.fit(train_ss_x, y_train)\n",
    "# 模型在测试集上的预测\n",
    "pred_adb = adaboost_classifier.predict(test_ss_x)\n",
    "# 模型的准确率\n",
    "print('Adaboost模型在测试集的预测准确率：%0.4lf\\n' % metrics.accuracy_score(y_test, pred_adb))"
   ]
  },
  {
   "cell_type": "code",
   "execution_count": 21,
   "metadata": {},
   "outputs": [
    {
     "name": "stdout",
     "output_type": "stream",
     "text": [
      "XGBoost模型在测试集的预测准确率：0.9444\n",
      "\n"
     ]
    }
   ],
   "source": [
    "#XGBoost\n",
    "from xgboost import XGBClassifier\n",
    "xgb = XGBClassifier()\n",
    "xgb_classifier = xgb.fit(train_ss_x, y_train)\n",
    "# 模型在测试集上的预测\n",
    "pred_xgb = xgb_classifier.predict(test_ss_x)\n",
    "# 模型的准确率\n",
    "print('XGBoost模型在测试集的预测准确率：%0.4lf\\n' % metrics.accuracy_score(y_test, pred_xgb))"
   ]
  },
  {
   "cell_type": "code",
   "execution_count": null,
   "metadata": {},
   "outputs": [],
   "source": []
  },
  {
   "cell_type": "code",
   "execution_count": null,
   "metadata": {},
   "outputs": [],
   "source": []
  },
  {
   "cell_type": "code",
   "execution_count": null,
   "metadata": {},
   "outputs": [],
   "source": []
  }
 ],
 "metadata": {
  "kernelspec": {
   "display_name": "Python 3",
   "language": "python",
   "name": "python3"
  },
  "language_info": {
   "codemirror_mode": {
    "name": "ipython",
    "version": 3
   },
   "file_extension": ".py",
   "mimetype": "text/x-python",
   "name": "python",
   "nbconvert_exporter": "python",
   "pygments_lexer": "ipython3",
   "version": "3.6.6"
  }
 },
 "nbformat": 4,
 "nbformat_minor": 2
}
