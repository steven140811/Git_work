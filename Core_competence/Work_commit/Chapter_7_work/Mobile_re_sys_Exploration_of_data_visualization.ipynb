{
 "cells": [
  {
   "cell_type": "code",
   "execution_count": 1,
   "metadata": {},
   "outputs": [
    {
     "name": "stdout",
     "output_type": "stream",
     "text": [
      "    user_id    item_id  behavior_type user_geohash  item_category  \\\n",
      "0  10001082  285259775              1      97lk14c           4076   \n",
      "1  10001082    4368907              1          NaN           5503   \n",
      "2  10001082    4368907              1          NaN           5503   \n",
      "3  10001082   53616768              1          NaN           9762   \n",
      "4  10001082  151466952              1          NaN           5232   \n",
      "\n",
      "            time  \n",
      "0  2014-12-08 18  \n",
      "1  2014-12-12 12  \n",
      "2  2014-12-12 12  \n",
      "3  2014-12-02 15  \n",
      "4  2014-12-12 11  \n"
     ]
    }
   ],
   "source": [
    "import pandas as pd\n",
    "df = pd.read_csv('D:/开课吧课程资料/核心能力提升班商务智能方向004期/L7/L7-code/code/fresh_comp_offline/tianchi_fresh_comp_train_user.csv')\n",
    "print(df.head())"
   ]
  },
  {
   "cell_type": "code",
   "execution_count": 2,
   "metadata": {},
   "outputs": [
    {
     "name": "stdout",
     "output_type": "stream",
     "text": [
      "1    21940520\n",
      "3      659437\n",
      "2      458491\n",
      "4      232579\n",
      "Name: behavior_type, dtype: int64\n"
     ]
    }
   ],
   "source": [
    "#计算CVR\n",
    "print(df['behavior_type'].value_counts())"
   ]
  },
  {
   "cell_type": "code",
   "execution_count": 3,
   "metadata": {},
   "outputs": [
    {
     "name": "stdout",
     "output_type": "stream",
     "text": [
      "CVR is 0.9985776926023916%\n"
     ]
    }
   ],
   "source": [
    "count_all,count_4 = 0,0\n",
    "count_user = df['behavior_type'].value_counts()\n",
    "count_all = count_user[1] + count_user[2] + count_user[3] + count_user[4]\n",
    "count_4 += count_user[4]\n",
    "cvr = count_4 / count_all\n",
    "print('CVR is {}%'.format(cvr*100))"
   ]
  },
  {
   "cell_type": "code",
   "execution_count": 4,
   "metadata": {},
   "outputs": [
    {
     "name": "stdout",
     "output_type": "stream",
     "text": [
      "                      user_id    item_id  behavior_type user_geohash  \\\n",
      "time                                                                   \n",
      "2014-12-08 18:00:00  10001082  285259775              1      97lk14c   \n",
      "2014-12-12 12:00:00  10001082    4368907              1          NaN   \n",
      "2014-12-12 12:00:00  10001082    4368907              1          NaN   \n",
      "2014-12-02 15:00:00  10001082   53616768              1          NaN   \n",
      "2014-12-12 11:00:00  10001082  151466952              1          NaN   \n",
      "\n",
      "                     item_category                time  \n",
      "time                                                    \n",
      "2014-12-08 18:00:00           4076 2014-12-08 18:00:00  \n",
      "2014-12-12 12:00:00           5503 2014-12-12 12:00:00  \n",
      "2014-12-12 12:00:00           5503 2014-12-12 12:00:00  \n",
      "2014-12-02 15:00:00           9762 2014-12-02 15:00:00  \n",
      "2014-12-12 11:00:00           5232 2014-12-12 11:00:00  \n"
     ]
    }
   ],
   "source": [
    "#将time设置为pandas中的datetime类型\n",
    "df['time'] = pd.to_datetime(df['time'])\n",
    "df.index = df['time']\n",
    "print(df.head())"
   ]
  },
  {
   "cell_type": "markdown",
   "metadata": {},
   "source": [
    "# 这里要注意df.index = df['time'] 和 df.set_index('time')的区别\n",
    "df.index = df['time']是time列保留，df.set_index('time')会把time列删除"
   ]
  },
  {
   "cell_type": "code",
   "execution_count": 5,
   "metadata": {},
   "outputs": [],
   "source": [
    "from collections import defaultdict\n",
    "from datetime import datetime,timedelta\n",
    "def show_count_day(df):\n",
    "    count_day = defaultdict(int)\n",
    "    #从2014-11-18到2014-12-18\n",
    "    str1 = '2014-11-17'\n",
    "    #将字符串转化为日期\n",
    "    # temp_date = datetime.strptime(str1, '%Y-%m-%d')\n",
    "    # delta = timedelta(days = 1)\n",
    "    # for i in range(31):\n",
    "    #     temp_date = temp_date + delta\n",
    "    #     #将时间转化为字符串类型\n",
    "    #     temp_str = temp_date.strftime('%Y-%m-%d')\n",
    "    #     #print(temp_str)\n",
    "    #     #print(df.index)\n",
    "    #     #df的index为时间\n",
    "    #     count_day[temp_str] += df[temp_str].shape[0]\n",
    "\n",
    "    temp_date = datetime.strptime(str1,'%Y-%m-%d')\n",
    "    delta = timedelta(days=1)\n",
    "    for i in range(31):\n",
    "        temp_date = temp_date+delta\n",
    "        #将时间转化为字符串类型\n",
    "        temp_str= temp_date.strftime('%Y-%m-%d')\n",
    "        # count_day[temp_str] += df[temp_str].shape[0]\n",
    "        #由于pandas和numpy的版本问题？不支持上面的这种写法\n",
    "        count_day[temp_str] += df[df['time']==temp_str].shape[0]\n",
    "        print(temp_date)\n",
    "    print(count_day)\n",
    "\n",
    "    import matplotlib.pyplot as plt\n",
    "    df_count_day = pd.DataFrame.from_dict(count_day,orient = 'index',columns = ['count'])\n",
    "    df_count_day['count'].plot(kind='bar')\n",
    "    plt.legend(loc = 'best')\n",
    "    plt.grid(True)\n",
    "    plt.show()"
   ]
  },
  {
   "cell_type": "code",
   "execution_count": 7,
   "metadata": {},
   "outputs": [
    {
     "name": "stdout",
     "output_type": "stream",
     "text": [
      "2014-11-18 00:00:00\n",
      "2014-11-19 00:00:00\n",
      "2014-11-20 00:00:00\n",
      "2014-11-21 00:00:00\n",
      "2014-11-22 00:00:00\n",
      "2014-11-23 00:00:00\n",
      "2014-11-24 00:00:00\n",
      "2014-11-25 00:00:00\n",
      "2014-11-26 00:00:00\n",
      "2014-11-27 00:00:00\n",
      "2014-11-28 00:00:00\n",
      "2014-11-29 00:00:00\n",
      "2014-11-30 00:00:00\n",
      "2014-12-01 00:00:00\n",
      "2014-12-02 00:00:00\n",
      "2014-12-03 00:00:00\n",
      "2014-12-04 00:00:00\n",
      "2014-12-05 00:00:00\n",
      "2014-12-06 00:00:00\n",
      "2014-12-07 00:00:00\n",
      "2014-12-08 00:00:00\n",
      "2014-12-09 00:00:00\n",
      "2014-12-10 00:00:00\n",
      "2014-12-11 00:00:00\n",
      "2014-12-12 00:00:00\n",
      "2014-12-13 00:00:00\n",
      "2014-12-14 00:00:00\n",
      "2014-12-15 00:00:00\n",
      "2014-12-16 00:00:00\n",
      "2014-12-17 00:00:00\n",
      "2014-12-18 00:00:00\n",
      "defaultdict(<class 'int'>, {'2014-11-18': 25288, '2014-11-19': 25930, '2014-11-20': 23768, '2014-11-21': 24738, '2014-11-22': 25759, '2014-11-23': 28399, '2014-11-24': 26751, '2014-11-25': 26834, '2014-11-26': 24689, '2014-11-27': 27150, '2014-11-28': 28492, '2014-11-29': 30200, '2014-11-30': 31071, '2014-12-01': 28991, '2014-12-02': 25406, '2014-12-03': 25974, '2014-12-04': 27826, '2014-12-05': 28952, '2014-12-06': 28916, '2014-12-07': 29819, '2014-12-08': 28276, '2014-12-09': 28439, '2014-12-10': 27302, '2014-12-11': 31647, '2014-12-12': 97930, '2014-12-13': 42172, '2014-12-14': 32585, '2014-12-15': 29903, '2014-12-16': 27120, '2014-12-17': 27588, '2014-12-18': 25803})\n"
     ]
    },
    {
     "data": {
      "image/png": "[encoded data removed]",
      "text/plain": [
       "<Figure size 432x288 with 1 Axes>"
      ]
     },
     "metadata": {},
     "output_type": "display_data"
    }
   ],
   "source": [
    "show_count_day(df)"
   ]
  },
  {
   "cell_type": "code",
   "execution_count": 8,
   "metadata": {},
   "outputs": [
    {
     "name": "stdout",
     "output_type": "stream",
     "text": [
      "(4279962, 8)\n",
      "    user_id    item_id  behavior_type user_geohash  item_category_x  \\\n",
      "0  10001082  275221686              1          NaN            10576   \n",
      "1  10001082  275221686              1          NaN            10576   \n",
      "2  10001082  275221686              1          NaN            10576   \n",
      "3  10001082  275221686              1          NaN            10576   \n",
      "4  10001082  275221686              1          NaN            10576   \n",
      "\n",
      "                 time item_geohash  item_category_y  \n",
      "0 2014-12-03 01:00:00          NaN            10576  \n",
      "1 2014-12-13 14:00:00          NaN            10576  \n",
      "2 2014-12-08 07:00:00          NaN            10576  \n",
      "3 2014-12-08 07:00:00          NaN            10576  \n",
      "4 2014-12-08 00:00:00          NaN            10576  \n"
     ]
    }
   ],
   "source": [
    "#属于商品子集p的操作次数\n",
    "df_p = pd.read_csv('D:/开课吧课程资料/核心能力提升班商务智能方向004期/L7/L7-code/code/fresh_comp_offline/tianchi_fresh_comp_train_item.csv')\n",
    "#使用reset_index将index还原\n",
    "#df = pd.merge(df,df_p,on = ['item_id']).set_index('time')\n",
    "#如果加上set_index('time') 相当于把两个表的时间merger之后再set为index，之前的index会改变，这不是我们想要的\n",
    "df = pd.merge(df,df_p,on = ['item_id'])\n",
    "print(df.shape)\n",
    "print(df.head())\n",
    "\n",
    "\n"
   ]
  },
  {
   "cell_type": "code",
   "execution_count": 9,
   "metadata": {},
   "outputs": [
    {
     "name": "stdout",
     "output_type": "stream",
     "text": [
      "2014-11-18 00:00:00\n",
      "2014-11-19 00:00:00\n",
      "2014-11-20 00:00:00\n",
      "2014-11-21 00:00:00\n",
      "2014-11-22 00:00:00\n",
      "2014-11-23 00:00:00\n",
      "2014-11-24 00:00:00\n",
      "2014-11-25 00:00:00\n",
      "2014-11-26 00:00:00\n",
      "2014-11-27 00:00:00\n",
      "2014-11-28 00:00:00\n",
      "2014-11-29 00:00:00\n",
      "2014-11-30 00:00:00\n",
      "2014-12-01 00:00:00\n",
      "2014-12-02 00:00:00\n",
      "2014-12-03 00:00:00\n",
      "2014-12-04 00:00:00\n",
      "2014-12-05 00:00:00\n",
      "2014-12-06 00:00:00\n",
      "2014-12-07 00:00:00\n",
      "2014-12-08 00:00:00\n",
      "2014-12-09 00:00:00\n",
      "2014-12-10 00:00:00\n",
      "2014-12-11 00:00:00\n",
      "2014-12-12 00:00:00\n",
      "2014-12-13 00:00:00\n",
      "2014-12-14 00:00:00\n",
      "2014-12-15 00:00:00\n",
      "2014-12-16 00:00:00\n",
      "2014-12-17 00:00:00\n",
      "2014-12-18 00:00:00\n",
      "defaultdict(<class 'int'>, {'2014-11-18': 2434, '2014-11-19': 3542, '2014-11-20': 2435, '2014-11-21': 3442, '2014-11-22': 3051, '2014-11-23': 8697, '2014-11-24': 7916, '2014-11-25': 3863, '2014-11-26': 2100, '2014-11-27': 2687, '2014-11-28': 2528, '2014-11-29': 11916, '2014-11-30': 2646, '2014-12-01': 8578, '2014-12-02': 3677, '2014-12-03': 2143, '2014-12-04': 5659, '2014-12-05': 3063, '2014-12-06': 2448, '2014-12-07': 2831, '2014-12-08': 4045, '2014-12-09': 3272, '2014-12-10': 2407, '2014-12-11': 7474, '2014-12-12': 31196, '2014-12-13': 9161, '2014-12-14': 4416, '2014-12-15': 5963, '2014-12-16': 2405, '2014-12-17': 5710, '2014-12-18': 9667})\n"
     ]
    },
    {
     "data": {
      "image/png": "[encoded data removed]",
      "text/plain": [
       "<Figure size 432x288 with 1 Axes>"
      ]
     },
     "metadata": {},
     "output_type": "display_data"
    }
   ],
   "source": [
    "show_count_day(df)"
   ]
  },
  {
   "cell_type": "code",
   "execution_count": 13,
   "metadata": {},
   "outputs": [
    {
     "name": "stdout",
     "output_type": "stream",
     "text": [
      "{'2014-12-12 00': [29817, 336, 285, 758], '2014-12-12 01': [8736, 101, 288, 75], '2014-12-12 02': [13356, 24, 196, 22], '2014-12-12 03': [4530, 14, 42, 27], '2014-12-12 04': [4280, 11, 42, 10], '2014-12-12 05': [1243, 4, 46, 27], '2014-12-12 06': [6992, 20, 388, 60], '2014-12-12 07': [12673, 24, 102, 80], '2014-12-12 08': [19034, 40, 462, 558], '2014-12-12 09': [13913, 39, 176, 130], '2014-12-12 10': [43971, 55, 522, 210], '2014-12-12 11': [29353, 1662, 468, 140], '2014-12-12 12': [32532, 60, 211, 144], '2014-12-12 13': [9523, 65, 1811, 1745], '2014-12-12 14': [23214, 74, 182, 134], '2014-12-12 15': [9205, 51, 204, 122], '2014-12-12 16': [8948, 50, 145, 83], '2014-12-12 17': [20686, 225, 274, 165], '2014-12-12 18': [8288, 75, 109, 79], '2014-12-12 19': [19089, 48, 171, 118], '2014-12-12 20': [16837, 93, 198, 119], '2014-12-12 21': [20207, 85, 325, 176], '2014-12-12 22': [22404, 109, 373, 189], '2014-12-12 23': [25051, 1745, 1028, 197]}\n"
     ]
    },
    {
     "data": {
      "image/png": "[encoded data removed]",
      "text/plain": [
       "<Figure size 432x288 with 1 Axes>"
      ]
     },
     "metadata": {},
     "output_type": "display_data"
    }
   ],
   "source": [
    "import matplotlib.pyplot as plt\n",
    "def show_count_hour(date1):\n",
    "    count_hour = {}\n",
    "    # 设置初始化值\n",
    "    for i in range(24):\n",
    "        time_str = date1 + ' %0.2d' % i\n",
    "        #print(time_str)\n",
    "        count_hour[time_str] = [0,0,0,0]\n",
    "        # temp = df[time_str]['behavior_type'].value_counts()\n",
    "        #由于pandas和numpy的版本问题？不支持上面的这种写法\n",
    "        temp = df[df['time']==time_str]['behavior_type'].value_counts()\n",
    "        for j in range(len(temp)):\n",
    "            count_hour[time_str][temp.index[j]-1] += temp[temp.index[j]]\n",
    "    print(count_hour)\n",
    "    #从字典类型生成DataFrame\n",
    "    df_count_hour = pd.DataFrame.from_dict(count_hour,orient = 'index')\n",
    "    df_count_hour.plot(kind='bar')\n",
    "    plt.legend(loc='best')\n",
    "    plt.grid(True)\n",
    "    plt.show()\n",
    "show_count_hour('2014-12-12')"
   ]
  },
  {
   "cell_type": "code",
   "execution_count": null,
   "metadata": {},
   "outputs": [],
   "source": [
    "\n"
   ]
  },
  {
   "cell_type": "code",
   "execution_count": null,
   "metadata": {},
   "outputs": [],
   "source": []
  }
 ],
 "metadata": {
  "kernelspec": {
   "display_name": "Python 3",
   "language": "python",
   "name": "python3"
  },
  "language_info": {
   "codemirror_mode": {
    "name": "ipython",
    "version": 3
   },
   "file_extension": ".py",
   "mimetype": "text/x-python",
   "name": "python",
   "nbconvert_exporter": "python",
   "pygments_lexer": "ipython3",
   "version": "3.6.5"
  }
 },
 "nbformat": 4,
 "nbformat_minor": 2
}
