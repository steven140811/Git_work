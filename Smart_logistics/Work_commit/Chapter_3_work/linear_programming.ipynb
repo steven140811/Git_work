{
  "nbformat": 4,
  "nbformat_minor": 0,
  "metadata": {
    "colab": {
      "name": "linear_programming.ipynb",
      "provenance": [],
      "collapsed_sections": []
    },
    "kernelspec": {
      "name": "python3",
      "display_name": "Python 3"
    }
  },
  "cells": [
    {
      "cell_type": "code",
      "metadata": {
        "id": "3Okt8acn5tL6"
      },
      "source": [
        "import pulp\n",
        "import numpy as np\n",
        "from pprint import pprint\n",
        "\n",
        "# 定义运输问题\n",
        "def trans_program(costs, x_max, y_max):\n",
        "    row = len(costs)\n",
        "    col = len(costs[0])\n",
        "    print(f'row:{row} col:{col}')\n",
        "    # 定义初始问题\n",
        "    prob = pulp.LpProblem('Transportation', sense=pulp.LpMaximize)\n",
        "    # 定义相关变量\n",
        "    var = [[pulp.LpVariable(f'x{i}{j}', lowBound=0, cat=pulp.LpInteger) for j in range(col)] for i in range(row)] # 先执行外层list 再执行内层list\n",
        "    # 递归展开列表\n",
        "    flatten = lambda x: [y for l in x for y in flatten(l)] if type(x) is list else [x]\n",
        "    print('var=', var)\n",
        "    print('flatten=', flatten)\n",
        "    print('var[1]', var[1])\n",
        "    # 定义目标函数 （单价* {ij}运量）\n",
        "    prob += pulp.lpDot(flatten(var), costs.flatten())\n",
        "    # 定义约束条件\n",
        "    for i in range(row):\n",
        "        prob += pulp.lpSum(var[i]) <= x_max[i]\n",
        "    for j in range(col):\n",
        "        prob += pulp.lpSum([var[i][j] for i in range(row)]) <= y_max[j]\n",
        "\n",
        "    prob.solve()\n",
        "    result = {'objective':pulp.value(prob.objective), \\\n",
        "              'var': [[pulp.value(var[i][j]) for j in range(col)] for i in range(row)]}\n",
        "    return result"
      ],
      "execution_count": 10,
      "outputs": []
    },
    {
      "cell_type": "code",
      "metadata": {
        "id": "SsiROyEh5yxb"
      },
      "source": [
        "# 递归展开列表 flatten = lambda x: [y for l in x for y in flatten(l)] if type(x) is list else [x] \n",
        "# 等价于 def flatten(x):\n",
        "#       if type(x) is list:\n",
        "#         res = []\n",
        "#         for l in x:\n",
        "#           for y in flatten(l):\n",
        "#             res.append(y)\n",
        "#         return res\n",
        "#       else:\n",
        "#         return [x]\n",
        "# 假设x=[[1],[2],[3]]\n",
        "# 执行顺序（行号）：2-3-4-5-6-2-3-4-5-6-2-3-9-10-6-7(子list[1]执行完)\n",
        "#          5-6-2-3-4-5-6-2-3-9-10-6-7(子list[2]执行完)\n",
        "#          5-6-2-3-4-5-6-2-3-9-10-6-7(子list[3]执行完)\n",
        "#          8(for循环结束) \n",
        "# 最终结果[1,2,3]"
      ],
      "execution_count": 8,
      "outputs": []
    },
    {
      "cell_type": "code",
      "metadata": {
        "id": "X9rRck9HKPW1",
        "outputId": "ad18fc56-a353-4c76-ea3c-196c45e50d9d",
        "colab": {
          "base_uri": "https://localhost:8080/"
        }
      },
      "source": [
        "# 设置单价成本：4个工厂，6个销售地\n",
        "costs = np.array([[500, 550, 630, 1000, 800, 700],\n",
        "          [800, 700, 600, 950, 900, 930],\n",
        "          [1000, 960, 840, 650, 600, 700],\n",
        "          [1200, 1040, 980, 860, 880, 780]])\n",
        "# 工厂最大产量\n",
        "max_plant = [76, 88, 96, 40]\n",
        "# 销售地需求量\n",
        "max_cultivation = [42, 56, 44, 39, 60, 59]\n",
        "# 使用线性规划\n",
        "result = trans_program(costs, max_plant, max_cultivation)\n",
        "# 输出结果\n",
        "print(f'最大值为{result[\"objective\"]}')\n",
        "print('各变量的取值为：')\n",
        "pprint(result['var'])"
      ],
      "execution_count": 12,
      "outputs": [
        {
          "output_type": "stream",
          "text": [
            "row:4 col:6\n",
            "var= [[x00, x01, x02, x03, x04, x05], [x10, x11, x12, x13, x14, x15], [x20, x21, x22, x23, x24, x25], [x30, x31, x32, x33, x34, x35]]\n",
            "flatten= <function trans_program.<locals>.<lambda> at 0x7f5653aee730>\n",
            "var[1] [x10, x11, x12, x13, x14, x15]\n",
            "最大值为284230.0\n",
            "各变量的取值为：\n",
            "[[0.0, 0.0, 6.0, 39.0, 31.0, 0.0],\n",
            " [0.0, 0.0, 0.0, 0.0, 29.0, 59.0],\n",
            " [2.0, 56.0, 38.0, 0.0, 0.0, 0.0],\n",
            " [40.0, 0.0, 0.0, 0.0, 0.0, 0.0]]\n"
          ],
          "name": "stdout"
        }
      ]
    }
  ]
}